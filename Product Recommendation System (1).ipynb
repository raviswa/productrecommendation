{
 "cells": [
  {
   "cell_type": "markdown",
   "metadata": {},
   "source": [
    "## Product Recommendation Systems"
   ]
  },
  {
   "cell_type": "markdown",
   "metadata": {},
   "source": [
    "Recommender Systems are simple algorithms which aim to provide the most relevant and accurate items to the user by filtering useful stuff from of a huge pool of information base. Recommendation engines discovers data patterns in the data set by learning consumers choices and produces the outcomes that co-relates to their needs and interests."
   ]
  },
  {
   "cell_type": "markdown",
   "metadata": {},
   "source": [
    "Everyday a million products are being recommended to users based on popularity and other metrics on e-commerce websites. The most popular e-commerce website boosts average order value by 50%, increases revenues by 300%, and improves conversion. In addition to being a powerful tool for increasing revenues, product recommendations are so essential that customers now expect to see similar features on all other eCommerce sites.\n",
    "\n",
    "Amazon Reviews data (http://jmcauley.ucsd.edu/data/amazon/) The repository has several datasets. For this case study, we are using the Electronics\n",
    "dataset."
   ]
  },
  {
   "cell_type": "code",
   "execution_count": 1,
   "metadata": {},
   "outputs": [],
   "source": [
    "#Import Required basic packages\n",
    "import numpy as np\n",
    "import pandas as pd\n",
    "import matplotlib.pyplot as plt\n",
    "import seaborn as sns"
   ]
  },
  {
   "cell_type": "code",
   "execution_count": 2,
   "metadata": {},
   "outputs": [
    {
     "name": "stderr",
     "output_type": "stream",
     "text": [
      "C:\\ProgramData\\Anaconda3\\lib\\site-packages\\sklearn\\externals\\joblib\\__init__.py:15: FutureWarning: sklearn.externals.joblib is deprecated in 0.21 and will be removed in 0.23. Please import this functionality directly from joblib, which can be installed with: pip install joblib. If this warning is raised when loading pickled models, you may need to re-serialize those models with scikit-learn 0.21+.\n",
      "  warnings.warn(msg, category=FutureWarning)\n"
     ]
    }
   ],
   "source": [
    "# Import the packages required for recommendation system. \n",
    "# Surprise package is not available in python environment by default. We need to install tha package in kernal first.\n",
    "# Since we are using surprise package, we need to make sure that test_train_split is launched from surprise package. \n",
    "# We have test_train_split in sklearn as well, but that might not work for recommendation systems\n",
    "import sklearn\n",
    "from sklearn.decomposition import TruncatedSVD\n",
    "from surprise import KNNWithMeans\n",
    "from surprise import Dataset\n",
    "from surprise import accuracy\n",
    "from surprise import Reader\n",
    "from sklearn.metrics.pairwise import cosine_similarity\n",
    "from surprise.model_selection import train_test_split\n",
    "from sklearn.neighbors import NearestNeighbors\n",
    "from sklearn.externals import joblib\n",
    "import scipy.sparse\n",
    "from scipy.sparse import csr_matrix\n",
    "from scipy.sparse.linalg import svds"
   ]
  },
  {
   "cell_type": "code",
   "execution_count": 3,
   "metadata": {},
   "outputs": [],
   "source": [
    "# Reading the dataset\n",
    "ratings=pd.read_csv(\"ratings_Electronics.csv\")"
   ]
  },
  {
   "cell_type": "markdown",
   "metadata": {},
   "source": [
    "First three columns are userId, productId, and ratings and the fourth column is timestamp. Timestamp can be ignored for now"
   ]
  },
  {
   "cell_type": "code",
   "execution_count": 4,
   "metadata": {},
   "outputs": [],
   "source": [
    "# Assigning the column name for the dataset since title is not available in the dataset\n",
    "ratings.columns=['userId','productId','ratings','timestamp']"
   ]
  },
  {
   "cell_type": "markdown",
   "metadata": {},
   "source": [
    "#### Understanding the Data"
   ]
  },
  {
   "cell_type": "code",
   "execution_count": 5,
   "metadata": {},
   "outputs": [
    {
     "data": {
      "text/html": [
       "<div>\n",
       "<style scoped>\n",
       "    .dataframe tbody tr th:only-of-type {\n",
       "        vertical-align: middle;\n",
       "    }\n",
       "\n",
       "    .dataframe tbody tr th {\n",
       "        vertical-align: top;\n",
       "    }\n",
       "\n",
       "    .dataframe thead th {\n",
       "        text-align: right;\n",
       "    }\n",
       "</style>\n",
       "<table border=\"1\" class=\"dataframe\">\n",
       "  <thead>\n",
       "    <tr style=\"text-align: right;\">\n",
       "      <th></th>\n",
       "      <th>userId</th>\n",
       "      <th>productId</th>\n",
       "      <th>ratings</th>\n",
       "      <th>timestamp</th>\n",
       "    </tr>\n",
       "  </thead>\n",
       "  <tbody>\n",
       "    <tr>\n",
       "      <th>0</th>\n",
       "      <td>A2CX7LUOHB2NDG</td>\n",
       "      <td>0321732944</td>\n",
       "      <td>5.0</td>\n",
       "      <td>1341100800</td>\n",
       "    </tr>\n",
       "    <tr>\n",
       "      <th>1</th>\n",
       "      <td>A2NWSAGRHCP8N5</td>\n",
       "      <td>0439886341</td>\n",
       "      <td>1.0</td>\n",
       "      <td>1367193600</td>\n",
       "    </tr>\n",
       "    <tr>\n",
       "      <th>2</th>\n",
       "      <td>A2WNBOD3WNDNKT</td>\n",
       "      <td>0439886341</td>\n",
       "      <td>3.0</td>\n",
       "      <td>1374451200</td>\n",
       "    </tr>\n",
       "    <tr>\n",
       "      <th>3</th>\n",
       "      <td>A1GI0U4ZRJA8WN</td>\n",
       "      <td>0439886341</td>\n",
       "      <td>1.0</td>\n",
       "      <td>1334707200</td>\n",
       "    </tr>\n",
       "    <tr>\n",
       "      <th>4</th>\n",
       "      <td>A1QGNMC6O1VW39</td>\n",
       "      <td>0511189877</td>\n",
       "      <td>5.0</td>\n",
       "      <td>1397433600</td>\n",
       "    </tr>\n",
       "  </tbody>\n",
       "</table>\n",
       "</div>"
      ],
      "text/plain": [
       "           userId   productId  ratings   timestamp\n",
       "0  A2CX7LUOHB2NDG  0321732944      5.0  1341100800\n",
       "1  A2NWSAGRHCP8N5  0439886341      1.0  1367193600\n",
       "2  A2WNBOD3WNDNKT  0439886341      3.0  1374451200\n",
       "3  A1GI0U4ZRJA8WN  0439886341      1.0  1334707200\n",
       "4  A1QGNMC6O1VW39  0511189877      5.0  1397433600"
      ]
     },
     "execution_count": 5,
     "metadata": {},
     "output_type": "execute_result"
    }
   ],
   "source": [
    "ratings.head()"
   ]
  },
  {
   "cell_type": "code",
   "execution_count": 6,
   "metadata": {},
   "outputs": [
    {
     "data": {
      "text/plain": [
       "(7824481, 4)"
      ]
     },
     "execution_count": 6,
     "metadata": {},
     "output_type": "execute_result"
    }
   ],
   "source": [
    "ratings.shape"
   ]
  },
  {
   "cell_type": "code",
   "execution_count": 7,
   "metadata": {},
   "outputs": [],
   "source": [
    "ratings.dropna(axis=0,inplace=True)"
   ]
  },
  {
   "cell_type": "code",
   "execution_count": 8,
   "metadata": {},
   "outputs": [
    {
     "data": {
      "text/plain": [
       "(7824481, 4)"
      ]
     },
     "execution_count": 8,
     "metadata": {},
     "output_type": "execute_result"
    }
   ],
   "source": [
    "#There are no Na/NaN values in the dataset & so the row count is same as above\n",
    "ratings.shape"
   ]
  },
  {
   "cell_type": "code",
   "execution_count": 9,
   "metadata": {},
   "outputs": [
    {
     "data": {
      "text/plain": [
       "userId       0\n",
       "productId    0\n",
       "ratings      0\n",
       "timestamp    0\n",
       "dtype: int64"
      ]
     },
     "execution_count": 9,
     "metadata": {},
     "output_type": "execute_result"
    }
   ],
   "source": [
    "#There are no NULL values in the dataset \n",
    "ratings.isnull().sum()"
   ]
  },
  {
   "cell_type": "code",
   "execution_count": 10,
   "metadata": {},
   "outputs": [
    {
     "data": {
      "text/plain": [
       "count    7.824481e+06\n",
       "mean     4.012337e+00\n",
       "std      1.380910e+00\n",
       "min      1.000000e+00\n",
       "25%      3.000000e+00\n",
       "50%      5.000000e+00\n",
       "75%      5.000000e+00\n",
       "max      5.000000e+00\n",
       "Name: ratings, dtype: float64"
      ]
     },
     "execution_count": 10,
     "metadata": {},
     "output_type": "execute_result"
    }
   ],
   "source": [
    "#Let us understand how the products are rated across the dataset\n",
    "ratings.describe()['ratings']"
   ]
  },
  {
   "cell_type": "markdown",
   "metadata": {},
   "source": [
    "It could be seen that products are rated between 1 & 5. Most of the products are rated around 4-5 & hence the average of the products is above 4"
   ]
  },
  {
   "cell_type": "code",
   "execution_count": 11,
   "metadata": {},
   "outputs": [
    {
     "name": "stdout",
     "output_type": "stream",
     "text": [
      "Distinct # users 4201696\n",
      "Distinct # products 476001\n"
     ]
    }
   ],
   "source": [
    "# Distinct number of users & products available in dataset\n",
    "print(\"Distinct # users\",len(ratings['userId'].unique()))\n",
    "print(\"Distinct # products\",len(ratings['productId'].unique()))"
   ]
  },
  {
   "cell_type": "code",
   "execution_count": 12,
   "metadata": {},
   "outputs": [
    {
     "data": {
      "text/plain": [
       "<matplotlib.axes._subplots.AxesSubplot at 0x165802a0508>"
      ]
     },
     "execution_count": 12,
     "metadata": {},
     "output_type": "execute_result"
    },
    {
     "data": {
      "image/png": "[encoded data removed]",
      "text/plain": [
       "<Figure size 432x288 with 1 Axes>"
      ]
     },
     "metadata": {
      "needs_background": "light"
     },
     "output_type": "display_data"
    }
   ],
   "source": [
    "sns.distplot(ratings['ratings'])"
   ]
  },
  {
   "cell_type": "markdown",
   "metadata": {},
   "source": [
    "Most of the products are rated 5 & the least number of products rated is rated as 2"
   ]
  },
  {
   "cell_type": "markdown",
   "metadata": {},
   "source": [
    "#### Product Analysis"
   ]
  },
  {
   "cell_type": "code",
   "execution_count": 13,
   "metadata": {},
   "outputs": [
    {
     "data": {
      "text/html": [
       "<div>\n",
       "<style scoped>\n",
       "    .dataframe tbody tr th:only-of-type {\n",
       "        vertical-align: middle;\n",
       "    }\n",
       "\n",
       "    .dataframe tbody tr th {\n",
       "        vertical-align: top;\n",
       "    }\n",
       "\n",
       "    .dataframe thead th {\n",
       "        text-align: right;\n",
       "    }\n",
       "</style>\n",
       "<table border=\"1\" class=\"dataframe\">\n",
       "  <thead>\n",
       "    <tr style=\"text-align: right;\">\n",
       "      <th></th>\n",
       "      <th>ratings</th>\n",
       "      <th>counts</th>\n",
       "    </tr>\n",
       "    <tr>\n",
       "      <th>productId</th>\n",
       "      <th></th>\n",
       "      <th></th>\n",
       "    </tr>\n",
       "  </thead>\n",
       "  <tbody>\n",
       "    <tr>\n",
       "      <th>BT008G3W52</th>\n",
       "      <td>5.0</td>\n",
       "      <td>1</td>\n",
       "    </tr>\n",
       "    <tr>\n",
       "      <th>BT008SXQ4C</th>\n",
       "      <td>1.0</td>\n",
       "      <td>1</td>\n",
       "    </tr>\n",
       "    <tr>\n",
       "      <th>BT008T2BGK</th>\n",
       "      <td>5.0</td>\n",
       "      <td>1</td>\n",
       "    </tr>\n",
       "    <tr>\n",
       "      <th>BT008UKTMW</th>\n",
       "      <td>4.0</td>\n",
       "      <td>15</td>\n",
       "    </tr>\n",
       "    <tr>\n",
       "      <th>BT008V9J9U</th>\n",
       "      <td>5.0</td>\n",
       "      <td>1</td>\n",
       "    </tr>\n",
       "  </tbody>\n",
       "</table>\n",
       "</div>"
      ],
      "text/plain": [
       "            ratings  counts\n",
       "productId                  \n",
       "BT008G3W52      5.0       1\n",
       "BT008SXQ4C      1.0       1\n",
       "BT008T2BGK      5.0       1\n",
       "BT008UKTMW      4.0      15\n",
       "BT008V9J9U      5.0       1"
      ]
     },
     "execution_count": 13,
     "metadata": {},
     "output_type": "execute_result"
    }
   ],
   "source": [
    "# Now let us remove the timestamp column & group the dataset by product\n",
    "rpmeancount = pd.DataFrame(ratings.groupby('productId')['ratings'].mean())\n",
    "rpmeancount['counts'] = pd.DataFrame(ratings.groupby('productId')['ratings'].count())\n",
    "rpmeancount.tail()"
   ]
  },
  {
   "cell_type": "code",
   "execution_count": 14,
   "metadata": {},
   "outputs": [
    {
     "data": {
      "text/plain": [
       "18244"
      ]
     },
     "execution_count": 14,
     "metadata": {},
     "output_type": "execute_result"
    }
   ],
   "source": [
    "# Out of 476001 available distinct products, one product alone has received 18244 ratings. \n",
    "# This could be the most popular product in Amazon dataset\n",
    "rpmeancount['counts'].max()"
   ]
  },
  {
   "cell_type": "code",
   "execution_count": 15,
   "metadata": {},
   "outputs": [
    {
     "data": {
      "text/html": [
       "<div>\n",
       "<style scoped>\n",
       "    .dataframe tbody tr th:only-of-type {\n",
       "        vertical-align: middle;\n",
       "    }\n",
       "\n",
       "    .dataframe tbody tr th {\n",
       "        vertical-align: top;\n",
       "    }\n",
       "\n",
       "    .dataframe thead th {\n",
       "        text-align: right;\n",
       "    }\n",
       "</style>\n",
       "<table border=\"1\" class=\"dataframe\">\n",
       "  <thead>\n",
       "    <tr style=\"text-align: right;\">\n",
       "      <th></th>\n",
       "      <th>ratings</th>\n",
       "      <th>counts</th>\n",
       "    </tr>\n",
       "  </thead>\n",
       "  <tbody>\n",
       "    <tr>\n",
       "      <th>count</th>\n",
       "      <td>476001.000000</td>\n",
       "      <td>476001.000000</td>\n",
       "    </tr>\n",
       "    <tr>\n",
       "      <th>mean</th>\n",
       "      <td>3.889698</td>\n",
       "      <td>16.437951</td>\n",
       "    </tr>\n",
       "    <tr>\n",
       "      <th>std</th>\n",
       "      <td>1.128719</td>\n",
       "      <td>112.702749</td>\n",
       "    </tr>\n",
       "    <tr>\n",
       "      <th>min</th>\n",
       "      <td>1.000000</td>\n",
       "      <td>1.000000</td>\n",
       "    </tr>\n",
       "    <tr>\n",
       "      <th>25%</th>\n",
       "      <td>3.272727</td>\n",
       "      <td>1.000000</td>\n",
       "    </tr>\n",
       "    <tr>\n",
       "      <th>50%</th>\n",
       "      <td>4.000000</td>\n",
       "      <td>2.000000</td>\n",
       "    </tr>\n",
       "    <tr>\n",
       "      <th>75%</th>\n",
       "      <td>5.000000</td>\n",
       "      <td>7.000000</td>\n",
       "    </tr>\n",
       "    <tr>\n",
       "      <th>max</th>\n",
       "      <td>5.000000</td>\n",
       "      <td>18244.000000</td>\n",
       "    </tr>\n",
       "  </tbody>\n",
       "</table>\n",
       "</div>"
      ],
      "text/plain": [
       "             ratings         counts\n",
       "count  476001.000000  476001.000000\n",
       "mean        3.889698      16.437951\n",
       "std         1.128719     112.702749\n",
       "min         1.000000       1.000000\n",
       "25%         3.272727       1.000000\n",
       "50%         4.000000       2.000000\n",
       "75%         5.000000       7.000000\n",
       "max         5.000000   18244.000000"
      ]
     },
     "execution_count": 15,
     "metadata": {},
     "output_type": "execute_result"
    }
   ],
   "source": [
    "# 5 Point analysis for the products\n",
    "rpmeancount.describe()"
   ]
  },
  {
   "cell_type": "code",
   "execution_count": 16,
   "metadata": {},
   "outputs": [
    {
     "data": {
      "text/plain": [
       "<seaborn.axisgrid.JointGrid at 0x16582160448>"
      ]
     },
     "execution_count": 16,
     "metadata": {},
     "output_type": "execute_result"
    },
    {
     "data": {
      "image/png": "[encoded data removed]",
      "text/plain": [
       "<Figure size 432x432 with 3 Axes>"
      ]
     },
     "metadata": {
      "needs_background": "light"
     },
     "output_type": "display_data"
    }
   ],
   "source": [
    "sns.jointplot(data=rpmeancount,x=rpmeancount['ratings'],y=rpmeancount['counts'])"
   ]
  },
  {
   "cell_type": "markdown",
   "metadata": {},
   "source": [
    "It could be visually summarised that product with 4-5 ratings are more than 1-3 ratings & also number of rating (count) is more on the lower end & the data gets sparse as the product count increases"
   ]
  },
  {
   "cell_type": "markdown",
   "metadata": {},
   "source": [
    "#### User Analysis"
   ]
  },
  {
   "cell_type": "code",
   "execution_count": 17,
   "metadata": {},
   "outputs": [
    {
     "data": {
      "text/html": [
       "<div>\n",
       "<style scoped>\n",
       "    .dataframe tbody tr th:only-of-type {\n",
       "        vertical-align: middle;\n",
       "    }\n",
       "\n",
       "    .dataframe tbody tr th {\n",
       "        vertical-align: top;\n",
       "    }\n",
       "\n",
       "    .dataframe thead th {\n",
       "        text-align: right;\n",
       "    }\n",
       "</style>\n",
       "<table border=\"1\" class=\"dataframe\">\n",
       "  <thead>\n",
       "    <tr style=\"text-align: right;\">\n",
       "      <th></th>\n",
       "      <th>ratings</th>\n",
       "      <th>counts</th>\n",
       "    </tr>\n",
       "    <tr>\n",
       "      <th>userId</th>\n",
       "      <th></th>\n",
       "      <th></th>\n",
       "    </tr>\n",
       "  </thead>\n",
       "  <tbody>\n",
       "    <tr>\n",
       "      <th>AZZZOVIBXHGDR</th>\n",
       "      <td>3.333333</td>\n",
       "      <td>3</td>\n",
       "    </tr>\n",
       "    <tr>\n",
       "      <th>AZZZRS1YZ8HVP</th>\n",
       "      <td>4.000000</td>\n",
       "      <td>2</td>\n",
       "    </tr>\n",
       "    <tr>\n",
       "      <th>AZZZSIK7NFFVP</th>\n",
       "      <td>5.000000</td>\n",
       "      <td>1</td>\n",
       "    </tr>\n",
       "    <tr>\n",
       "      <th>AZZZWXXUPZ1F3</th>\n",
       "      <td>5.000000</td>\n",
       "      <td>1</td>\n",
       "    </tr>\n",
       "    <tr>\n",
       "      <th>AZZZY1W55XHZR</th>\n",
       "      <td>4.000000</td>\n",
       "      <td>1</td>\n",
       "    </tr>\n",
       "  </tbody>\n",
       "</table>\n",
       "</div>"
      ],
      "text/plain": [
       "                ratings  counts\n",
       "userId                         \n",
       "AZZZOVIBXHGDR  3.333333       3\n",
       "AZZZRS1YZ8HVP  4.000000       2\n",
       "AZZZSIK7NFFVP  5.000000       1\n",
       "AZZZWXXUPZ1F3  5.000000       1\n",
       "AZZZY1W55XHZR  4.000000       1"
      ]
     },
     "execution_count": 17,
     "metadata": {},
     "output_type": "execute_result"
    }
   ],
   "source": [
    "rumeancount = pd.DataFrame(ratings.groupby('userId')['ratings'].mean())\n",
    "rumeancount['counts'] = pd.DataFrame(ratings.groupby('userId')['ratings'].count())\n",
    "rumeancount.tail()"
   ]
  },
  {
   "cell_type": "code",
   "execution_count": 18,
   "metadata": {},
   "outputs": [
    {
     "data": {
      "text/plain": [
       "520"
      ]
     },
     "execution_count": 18,
     "metadata": {},
     "output_type": "execute_result"
    }
   ],
   "source": [
    "# The user who has provided maximum ratings is the person who has given overall 520 ratings across various products\n",
    "rumeancount['counts'].max()"
   ]
  },
  {
   "cell_type": "code",
   "execution_count": 19,
   "metadata": {},
   "outputs": [
    {
     "data": {
      "text/html": [
       "<div>\n",
       "<style scoped>\n",
       "    .dataframe tbody tr th:only-of-type {\n",
       "        vertical-align: middle;\n",
       "    }\n",
       "\n",
       "    .dataframe tbody tr th {\n",
       "        vertical-align: top;\n",
       "    }\n",
       "\n",
       "    .dataframe thead th {\n",
       "        text-align: right;\n",
       "    }\n",
       "</style>\n",
       "<table border=\"1\" class=\"dataframe\">\n",
       "  <thead>\n",
       "    <tr style=\"text-align: right;\">\n",
       "      <th></th>\n",
       "      <th>ratings</th>\n",
       "      <th>counts</th>\n",
       "    </tr>\n",
       "  </thead>\n",
       "  <tbody>\n",
       "    <tr>\n",
       "      <th>count</th>\n",
       "      <td>4.201696e+06</td>\n",
       "      <td>4.201696e+06</td>\n",
       "    </tr>\n",
       "    <tr>\n",
       "      <th>mean</th>\n",
       "      <td>3.910163e+00</td>\n",
       "      <td>1.862220e+00</td>\n",
       "    </tr>\n",
       "    <tr>\n",
       "      <th>std</th>\n",
       "      <td>1.361308e+00</td>\n",
       "      <td>2.885110e+00</td>\n",
       "    </tr>\n",
       "    <tr>\n",
       "      <th>min</th>\n",
       "      <td>1.000000e+00</td>\n",
       "      <td>1.000000e+00</td>\n",
       "    </tr>\n",
       "    <tr>\n",
       "      <th>25%</th>\n",
       "      <td>3.000000e+00</td>\n",
       "      <td>1.000000e+00</td>\n",
       "    </tr>\n",
       "    <tr>\n",
       "      <th>50%</th>\n",
       "      <td>4.500000e+00</td>\n",
       "      <td>1.000000e+00</td>\n",
       "    </tr>\n",
       "    <tr>\n",
       "      <th>75%</th>\n",
       "      <td>5.000000e+00</td>\n",
       "      <td>2.000000e+00</td>\n",
       "    </tr>\n",
       "    <tr>\n",
       "      <th>max</th>\n",
       "      <td>5.000000e+00</td>\n",
       "      <td>5.200000e+02</td>\n",
       "    </tr>\n",
       "  </tbody>\n",
       "</table>\n",
       "</div>"
      ],
      "text/plain": [
       "            ratings        counts\n",
       "count  4.201696e+06  4.201696e+06\n",
       "mean   3.910163e+00  1.862220e+00\n",
       "std    1.361308e+00  2.885110e+00\n",
       "min    1.000000e+00  1.000000e+00\n",
       "25%    3.000000e+00  1.000000e+00\n",
       "50%    4.500000e+00  1.000000e+00\n",
       "75%    5.000000e+00  2.000000e+00\n",
       "max    5.000000e+00  5.200000e+02"
      ]
     },
     "execution_count": 19,
     "metadata": {},
     "output_type": "execute_result"
    }
   ],
   "source": [
    "#5 Point analysis for various users\n",
    "rumeancount.describe()"
   ]
  },
  {
   "cell_type": "code",
   "execution_count": 20,
   "metadata": {},
   "outputs": [
    {
     "data": {
      "text/plain": [
       "<seaborn.axisgrid.JointGrid at 0x165853e6308>"
      ]
     },
     "execution_count": 20,
     "metadata": {},
     "output_type": "execute_result"
    },
    {
     "data": {
      "image/png": "[encoded data removed]",
      "text/plain": [
       "<Figure size 432x432 with 3 Axes>"
      ]
     },
     "metadata": {
      "needs_background": "light"
     },
     "output_type": "display_data"
    }
   ],
   "source": [
    "sns.jointplot(data=rumeancount,x=rumeancount['ratings'],y=rumeancount['counts'])"
   ]
  },
  {
   "cell_type": "markdown",
   "metadata": {},
   "source": [
    "It could be seen that most of the users have provided a rating between 4-5 & average rating count per user seems to be on the lower end"
   ]
  },
  {
   "cell_type": "markdown",
   "metadata": {},
   "source": [
    "#### Subsetting the data  "
   ]
  },
  {
   "cell_type": "markdown",
   "metadata": {},
   "source": [
    "Since the dataset is huge by size, let us create a subset of the data. The condition used is filter out the products that have ratings count less than 100"
   ]
  },
  {
   "cell_type": "code",
   "execution_count": 21,
   "metadata": {},
   "outputs": [
    {
     "data": {
      "image/png": "[encoded data removed]",
      "text/plain": [
       "<Figure size 432x288 with 1 Axes>"
      ]
     },
     "metadata": {
      "needs_background": "light"
     },
     "output_type": "display_data"
    }
   ],
   "source": [
    "ax = rpmeancount[rpmeancount.counts < 101].plot(kind='scatter', x='ratings', y='counts', color='grey', alpha=0.1)\n",
    "plt.show()"
   ]
  },
  {
   "cell_type": "code",
   "execution_count": 22,
   "metadata": {},
   "outputs": [
    {
     "name": "stderr",
     "output_type": "stream",
     "text": [
      "C:\\ProgramData\\Anaconda3\\lib\\site-packages\\ipykernel_launcher.py:2: UserWarning: Boolean Series key will be reindexed to match DataFrame index.\n",
      "  \n"
     ]
    },
    {
     "data": {
      "image/png": "[encoded data removed]",
      "text/plain": [
       "<Figure size 432x288 with 1 Axes>"
      ]
     },
     "metadata": {
      "needs_background": "light"
     },
     "output_type": "display_data"
    }
   ],
   "source": [
    "ax = rpmeancount[rpmeancount.counts >= 101]\\\n",
    "[rpmeancount.counts<501].plot(kind='scatter', x='ratings', y='counts', color='grey', alpha=0.4)\n",
    "plt.show()"
   ]
  },
  {
   "cell_type": "markdown",
   "metadata": {},
   "source": [
    "It could be seen from the above plots that the data is very dense when the number of ratings count is less than 100.The density gradually decreases when the number of ratings count crosses 100"
   ]
  },
  {
   "cell_type": "code",
   "execution_count": 23,
   "metadata": {},
   "outputs": [],
   "source": [
    "ratings100=ratings.groupby(\"productId\").filter(lambda x:x['ratings'].count() >100)"
   ]
  },
  {
   "cell_type": "code",
   "execution_count": 24,
   "metadata": {},
   "outputs": [
    {
     "name": "stdout",
     "output_type": "stream",
     "text": [
      "Size of Original Dataset: (7824481, 4)\n",
      "Size of products that has a minimum of 100 ratings:  (4459079, 4)\n",
      "The number of products that have over 100 ratings is more than 50% of the overall dataset\n"
     ]
    }
   ],
   "source": [
    "print(\"Size of Original Dataset:\",ratings.shape)\n",
    "print(\"Size of products that has a minimum of 100 ratings: \",ratings100.shape)\n",
    "print(\"The number of products that have over 100 ratings is more than 50% of the overall dataset\")"
   ]
  },
  {
   "cell_type": "code",
   "execution_count": 25,
   "metadata": {},
   "outputs": [
    {
     "data": {
      "text/plain": [
       "productId\n",
       "B00GMRCAC6    4.951872\n",
       "B008I6RVZU    4.951456\n",
       "B00CG70K78    4.949367\n",
       "B000053HC5    4.945783\n",
       "B008VGCT9K    4.939130\n",
       "Name: ratings, dtype: float64"
      ]
     },
     "execution_count": 25,
     "metadata": {},
     "output_type": "execute_result"
    }
   ],
   "source": [
    "# Top 5 ratings of the products that has minimum 100 ratings\n",
    "ratings100.groupby('productId')['ratings'].mean().sort_values(ascending=False).head()"
   ]
  },
  {
   "cell_type": "code",
   "execution_count": 26,
   "metadata": {},
   "outputs": [
    {
     "data": {
      "text/plain": [
       "productId\n",
       "B0074BW614    18244\n",
       "B00DR0PDNE    16454\n",
       "B007WTAJTO    14172\n",
       "B0019EHU8G    12285\n",
       "B006GWO5WK    12226\n",
       "Name: ratings, dtype: int64"
      ]
     },
     "execution_count": 26,
     "metadata": {},
     "output_type": "execute_result"
    }
   ],
   "source": [
    "# Top 5 count of ratings of the products that has minimum 100 ratings\n",
    "ratings100.groupby('productId')['ratings'].count().sort_values(ascending=False).head()"
   ]
  },
  {
   "cell_type": "code",
   "execution_count": 27,
   "metadata": {},
   "outputs": [
    {
     "data": {
      "text/html": [
       "<div>\n",
       "<style scoped>\n",
       "    .dataframe tbody tr th:only-of-type {\n",
       "        vertical-align: middle;\n",
       "    }\n",
       "\n",
       "    .dataframe tbody tr th {\n",
       "        vertical-align: top;\n",
       "    }\n",
       "\n",
       "    .dataframe thead th {\n",
       "        text-align: right;\n",
       "    }\n",
       "</style>\n",
       "<table border=\"1\" class=\"dataframe\">\n",
       "  <thead>\n",
       "    <tr style=\"text-align: right;\">\n",
       "      <th></th>\n",
       "      <th>ratings</th>\n",
       "      <th>counts</th>\n",
       "    </tr>\n",
       "    <tr>\n",
       "      <th>productId</th>\n",
       "      <th></th>\n",
       "      <th></th>\n",
       "    </tr>\n",
       "  </thead>\n",
       "  <tbody>\n",
       "    <tr>\n",
       "      <th>B00GMRCAC6</th>\n",
       "      <td>4.951872</td>\n",
       "      <td>187</td>\n",
       "    </tr>\n",
       "    <tr>\n",
       "      <th>B008I6RVZU</th>\n",
       "      <td>4.951456</td>\n",
       "      <td>103</td>\n",
       "    </tr>\n",
       "    <tr>\n",
       "      <th>B00CG70K78</th>\n",
       "      <td>4.949367</td>\n",
       "      <td>237</td>\n",
       "    </tr>\n",
       "    <tr>\n",
       "      <th>B000053HC5</th>\n",
       "      <td>4.945783</td>\n",
       "      <td>166</td>\n",
       "    </tr>\n",
       "    <tr>\n",
       "      <th>B008VGCT9K</th>\n",
       "      <td>4.939130</td>\n",
       "      <td>230</td>\n",
       "    </tr>\n",
       "  </tbody>\n",
       "</table>\n",
       "</div>"
      ],
      "text/plain": [
       "             ratings  counts\n",
       "productId                   \n",
       "B00GMRCAC6  4.951872     187\n",
       "B008I6RVZU  4.951456     103\n",
       "B00CG70K78  4.949367     237\n",
       "B000053HC5  4.945783     166\n",
       "B008VGCT9K  4.939130     230"
      ]
     },
     "execution_count": 27,
     "metadata": {},
     "output_type": "execute_result"
    }
   ],
   "source": [
    "rp100meancount = pd.DataFrame(ratings100.groupby('productId')['ratings'].mean().sort_values(ascending=False))\n",
    "rp100meancount['counts'] = pd.DataFrame(ratings100.groupby('productId')['ratings'].count())\n",
    "rp100meancount.head()"
   ]
  },
  {
   "cell_type": "code",
   "execution_count": 28,
   "metadata": {},
   "outputs": [
    {
     "data": {
      "text/html": [
       "<div>\n",
       "<style scoped>\n",
       "    .dataframe tbody tr th:only-of-type {\n",
       "        vertical-align: middle;\n",
       "    }\n",
       "\n",
       "    .dataframe tbody tr th {\n",
       "        vertical-align: top;\n",
       "    }\n",
       "\n",
       "    .dataframe thead th {\n",
       "        text-align: right;\n",
       "    }\n",
       "</style>\n",
       "<table border=\"1\" class=\"dataframe\">\n",
       "  <thead>\n",
       "    <tr style=\"text-align: right;\">\n",
       "      <th></th>\n",
       "      <th>ratings</th>\n",
       "      <th>counts</th>\n",
       "    </tr>\n",
       "    <tr>\n",
       "      <th>productId</th>\n",
       "      <th></th>\n",
       "      <th></th>\n",
       "    </tr>\n",
       "  </thead>\n",
       "  <tbody>\n",
       "    <tr>\n",
       "      <th>B00GMRCAC6</th>\n",
       "      <td>4.951872</td>\n",
       "      <td>187</td>\n",
       "    </tr>\n",
       "    <tr>\n",
       "      <th>B008I6RVZU</th>\n",
       "      <td>4.951456</td>\n",
       "      <td>103</td>\n",
       "    </tr>\n",
       "    <tr>\n",
       "      <th>B00CG70K78</th>\n",
       "      <td>4.949367</td>\n",
       "      <td>237</td>\n",
       "    </tr>\n",
       "    <tr>\n",
       "      <th>B000053HC5</th>\n",
       "      <td>4.945783</td>\n",
       "      <td>166</td>\n",
       "    </tr>\n",
       "    <tr>\n",
       "      <th>B008VGCT9K</th>\n",
       "      <td>4.939130</td>\n",
       "      <td>230</td>\n",
       "    </tr>\n",
       "  </tbody>\n",
       "</table>\n",
       "</div>"
      ],
      "text/plain": [
       "             ratings  counts\n",
       "productId                   \n",
       "B00GMRCAC6  4.951872     187\n",
       "B008I6RVZU  4.951456     103\n",
       "B00CG70K78  4.949367     237\n",
       "B000053HC5  4.945783     166\n",
       "B008VGCT9K  4.939130     230"
      ]
     },
     "execution_count": 28,
     "metadata": {},
     "output_type": "execute_result"
    }
   ],
   "source": [
    "rp100meancount = pd.DataFrame(ratings100.groupby('productId')['ratings'].mean().sort_values(ascending=False))\n",
    "rp100meancount['counts'] = pd.DataFrame(ratings100.groupby('productId')['ratings'].count())\n",
    "rp100meancount.head()"
   ]
  },
  {
   "cell_type": "code",
   "execution_count": 29,
   "metadata": {},
   "outputs": [
    {
     "data": {
      "text/plain": [
       "<seaborn.axisgrid.JointGrid at 0x1658608f608>"
      ]
     },
     "execution_count": 29,
     "metadata": {},
     "output_type": "execute_result"
    },
    {
     "data": {
      "image/png": "[encoded data removed]",
      "text/plain": [
       "<Figure size 432x432 with 3 Axes>"
      ]
     },
     "metadata": {
      "needs_background": "light"
     },
     "output_type": "display_data"
    }
   ],
   "source": [
    "sns.jointplot(data=rp100meancount,x=rp100meancount['ratings'],y=rp100meancount['counts'])"
   ]
  },
  {
   "cell_type": "markdown",
   "metadata": {},
   "source": [
    "sns.jointplot(data=rp100meancount,x=rp100meancount['ratings'],y=rp100meancount['counts'])"
   ]
  },
  {
   "cell_type": "markdown",
   "metadata": {},
   "source": [
    "Eventhough we have taken a subset of data i.e the list of products for which there are minimum 100 ratings count, the pattern in which products/ratings are positioned is almost similar to the original dataset"
   ]
  },
  {
   "cell_type": "markdown",
   "metadata": {},
   "source": [
    "#### Popularity based recommendation"
   ]
  },
  {
   "cell_type": "markdown",
   "metadata": {},
   "source": [
    "As the name suggests Popularity based recommendation system works with the trend. It basically uses the items which are in trend right now i.e out of all the products, which of them are bought most. \n",
    "\n",
    "In our context, the products that are rated the most number of times can be considered as most popular product. In order to find this, let us get back to the product analysis that we had done sometime back"
   ]
  },
  {
   "cell_type": "code",
   "execution_count": 30,
   "metadata": {},
   "outputs": [
    {
     "data": {
      "text/html": [
       "<div>\n",
       "<style scoped>\n",
       "    .dataframe tbody tr th:only-of-type {\n",
       "        vertical-align: middle;\n",
       "    }\n",
       "\n",
       "    .dataframe tbody tr th {\n",
       "        vertical-align: top;\n",
       "    }\n",
       "\n",
       "    .dataframe thead th {\n",
       "        text-align: right;\n",
       "    }\n",
       "</style>\n",
       "<table border=\"1\" class=\"dataframe\">\n",
       "  <thead>\n",
       "    <tr style=\"text-align: right;\">\n",
       "      <th></th>\n",
       "      <th>ratings</th>\n",
       "      <th>counts</th>\n",
       "    </tr>\n",
       "    <tr>\n",
       "      <th>productId</th>\n",
       "      <th></th>\n",
       "      <th></th>\n",
       "    </tr>\n",
       "  </thead>\n",
       "  <tbody>\n",
       "    <tr>\n",
       "      <th>0321732944</th>\n",
       "      <td>5.000000</td>\n",
       "      <td>1</td>\n",
       "    </tr>\n",
       "    <tr>\n",
       "      <th>0439886341</th>\n",
       "      <td>1.666667</td>\n",
       "      <td>3</td>\n",
       "    </tr>\n",
       "    <tr>\n",
       "      <th>0511189877</th>\n",
       "      <td>4.500000</td>\n",
       "      <td>6</td>\n",
       "    </tr>\n",
       "    <tr>\n",
       "      <th>0528881469</th>\n",
       "      <td>2.851852</td>\n",
       "      <td>27</td>\n",
       "    </tr>\n",
       "    <tr>\n",
       "      <th>0558835155</th>\n",
       "      <td>3.000000</td>\n",
       "      <td>1</td>\n",
       "    </tr>\n",
       "  </tbody>\n",
       "</table>\n",
       "</div>"
      ],
      "text/plain": [
       "             ratings  counts\n",
       "productId                   \n",
       "0321732944  5.000000       1\n",
       "0439886341  1.666667       3\n",
       "0511189877  4.500000       6\n",
       "0528881469  2.851852      27\n",
       "0558835155  3.000000       1"
      ]
     },
     "execution_count": 30,
     "metadata": {},
     "output_type": "execute_result"
    }
   ],
   "source": [
    "rpmeancount.head()"
   ]
  },
  {
   "cell_type": "code",
   "execution_count": 31,
   "metadata": {},
   "outputs": [
    {
     "data": {
      "image/png": "[encoded data removed]",
      "text/plain": [
       "<Figure size 432x288 with 1 Axes>"
      ]
     },
     "metadata": {
      "needs_background": "light"
     },
     "output_type": "display_data"
    }
   ],
   "source": [
    "ax = sns.kdeplot(rpmeancount['ratings'], shade=True, color='grey')\n",
    "plt.show()"
   ]
  },
  {
   "cell_type": "code",
   "execution_count": 32,
   "metadata": {},
   "outputs": [
    {
     "data": {
      "text/plain": [
       "<matplotlib.axes._subplots.AxesSubplot at 0x16586b22688>"
      ]
     },
     "execution_count": 32,
     "metadata": {},
     "output_type": "execute_result"
    },
    {
     "data": {
      "image/png": "[encoded data removed]",
      "text/plain": [
       "<Figure size 1296x360 with 1 Axes>"
      ]
     },
     "metadata": {
      "needs_background": "light"
     },
     "output_type": "display_data"
    }
   ],
   "source": [
    "from pylab import rcParams\n",
    "rcParams['figure.figsize'] = 18,5\n",
    "\n",
    "popular_products = pd.DataFrame(ratings.groupby('productId')['ratings'].count())\n",
    "high_rating = rpmeancount.sort_values([\"ratings\",\"counts\"], ascending=False)\n",
    "high_rating.head(30).plot(kind = \"bar\")"
   ]
  },
  {
   "cell_type": "markdown",
   "metadata": {},
   "source": [
    "The above plot shows the list of products that are rated the highest(5 in our case) & the list of products are sorted by the ratings count. In a nutshell, the above is highly rated products. Even though they are highly rated, number of ratings for there products haven't crossed 50. "
   ]
  },
  {
   "cell_type": "code",
   "execution_count": 33,
   "metadata": {},
   "outputs": [
    {
     "data": {
      "text/plain": [
       "<matplotlib.axes._subplots.AxesSubplot at 0x16586c84088>"
      ]
     },
     "execution_count": 33,
     "metadata": {},
     "output_type": "execute_result"
    },
    {
     "data": {
      "image/png": "[encoded data removed]",
      "text/plain": [
       "<Figure size 1296x360 with 1 Axes>"
      ]
     },
     "metadata": {
      "needs_background": "light"
     },
     "output_type": "display_data"
    }
   ],
   "source": [
    "from pylab import rcParams\n",
    "rcParams['figure.figsize'] = 18,5\n",
    "\n",
    "popular_products = pd.DataFrame(ratings.groupby('productId')['ratings'].count())\n",
    "most_popular = rpmeancount.sort_values([\"counts\",\"ratings\"], ascending=False)\n",
    "most_popular.head(30).plot(kind = \"bar\")"
   ]
  },
  {
   "cell_type": "markdown",
   "metadata": {},
   "source": [
    "We could see that the product B0074BW614 has highest number of ratings (18244) & this is the most popular product & top 30 popular products are shown in the charts"
   ]
  },
  {
   "cell_type": "markdown",
   "metadata": {},
   "source": [
    "### Collaborative Recommendation"
   ]
  },
  {
   "cell_type": "markdown",
   "metadata": {},
   "source": [
    "collaborative filtering models which are based on assumption that people like things similar to other things they like, and things that are liked by other people with similar taste."
   ]
  },
  {
   "cell_type": "markdown",
   "metadata": {},
   "source": [
    "Nearest neighbor collaborative filtering:\n",
    "\n",
    "In these type of recommendation systems are recommending based on nearest neighbors, nearest neighbor approach used to find out either similar users or similar products,\n",
    "It can be looked at two ways: User-User filtering or Item-Item filtering\n",
    "While defining the Algorithm, if 'user_based': False is set to false, then it could be treated as Item-Item filtering "
   ]
  },
  {
   "cell_type": "markdown",
   "metadata": {},
   "source": [
    "User-User filtering:\n",
    "The method identifies users that are similar to the current user and estimate the desired rating to be the weighted average of the ratings of these similar users.\n",
    "\n",
    "Item-Item filtering:\n",
    "Item-item collaborative filtering is one kind of recommendation method which looks for similar items based on the items users have already liked or positively interacted with in the past."
   ]
  },
  {
   "cell_type": "markdown",
   "metadata": {},
   "source": [
    "Let us try Item-Item filtering in our dataset. Note that we are using surprise package to read the data, load the data, split the data into test/train etc."
   ]
  },
  {
   "cell_type": "code",
   "execution_count": 34,
   "metadata": {},
   "outputs": [],
   "source": [
    "reader = Reader(rating_scale=(1, 5))\n",
    "df = pd.DataFrame(ratings100[['userId', 'productId', 'ratings']])"
   ]
  },
  {
   "cell_type": "code",
   "execution_count": 35,
   "metadata": {},
   "outputs": [],
   "source": [
    "data = Dataset.load_from_df(df, reader)"
   ]
  },
  {
   "cell_type": "markdown",
   "metadata": {},
   "source": [
    "The first approach for prediction that is tried currently is utilize the entire dataset for training. "
   ]
  },
  {
   "cell_type": "code",
   "execution_count": 36,
   "metadata": {},
   "outputs": [],
   "source": [
    "#Full Trainset\n",
    "trainset = data.build_full_trainset( )"
   ]
  },
  {
   "cell_type": "code",
   "execution_count": 37,
   "metadata": {},
   "outputs": [
    {
     "name": "stdout",
     "output_type": "stream",
     "text": [
      "Estimating biases using als...\n",
      "Computing the pearson_baseline similarity matrix...\n",
      "Done computing similarity matrix.\n"
     ]
    },
    {
     "data": {
      "text/plain": [
       "<surprise.prediction_algorithms.knns.KNNWithMeans at 0x1663a506c08>"
      ]
     },
     "execution_count": 37,
     "metadata": {},
     "output_type": "execute_result"
    }
   ],
   "source": [
    "algo = KNNWithMeans(k=50, sim_options={'name': 'pearson_baseline', 'user_based': False})\n",
    "algo.fit(trainset)"
   ]
  },
  {
   "cell_type": "code",
   "execution_count": 38,
   "metadata": {},
   "outputs": [
    {
     "name": "stdout",
     "output_type": "stream",
     "text": [
      "user: A2CX7LUOHB2NDG item: 0321732944 r_ui = 5.00   est = 4.09   {'was_impossible': True, 'reason': 'User and/or item is unkown.'}\n"
     ]
    }
   ],
   "source": [
    "uid='A2CX7LUOHB2NDG'\n",
    "pid='0321732944'\n",
    "pred = algo.predict(uid, pid, r_ui=5, verbose=True)"
   ]
  },
  {
   "cell_type": "markdown",
   "metadata": {},
   "source": [
    "It can be seen from the above approach that the original rating was 5 for the product ID/user ID combination & our algorithm has predicted the value as 4.09. The above approach can be tested for various user-product combinations like above. To my understanding, there seems to be no means to find accuracy for above approach like we do for test-train split"
   ]
  },
  {
   "cell_type": "markdown",
   "metadata": {},
   "source": [
    "Now let us try our traditional test-train approach & understand the accuracy of our prediction"
   ]
  },
  {
   "cell_type": "code",
   "execution_count": 39,
   "metadata": {},
   "outputs": [],
   "source": [
    "trainset, testset = train_test_split(data, test_size=.7)"
   ]
  },
  {
   "cell_type": "code",
   "execution_count": 40,
   "metadata": {},
   "outputs": [
    {
     "name": "stdout",
     "output_type": "stream",
     "text": [
      "Estimating biases using als...\n",
      "Computing the pearson_baseline similarity matrix...\n",
      "Done computing similarity matrix.\n"
     ]
    },
    {
     "data": {
      "text/plain": [
       "<surprise.prediction_algorithms.knns.KNNWithMeans at 0x166975f4288>"
      ]
     },
     "execution_count": 40,
     "metadata": {},
     "output_type": "execute_result"
    }
   ],
   "source": [
    "algo = KNNWithMeans(k=50, sim_options={'name': 'pearson_baseline', 'user_based': False})\n",
    "algo.fit(trainset)"
   ]
  },
  {
   "cell_type": "code",
   "execution_count": 41,
   "metadata": {},
   "outputs": [
    {
     "data": {
      "text/plain": [
       "[Prediction(uid='A147259HFTG428', iid='B003C1CCJG', r_ui=4.0, est=4.087829094663095, details={'was_impossible': True, 'reason': 'User and/or item is unkown.'}),\n",
       " Prediction(uid='A1XJN03ZJHGK0I', iid='B004D9WXCM', r_ui=5.0, est=4.087829094663095, details={'was_impossible': True, 'reason': 'User and/or item is unkown.'}),\n",
       " Prediction(uid='AX2ZUILPCADBW', iid='B002MMY4WY', r_ui=5.0, est=4.087829094663095, details={'was_impossible': True, 'reason': 'User and/or item is unkown.'}),\n",
       " Prediction(uid='AY5RRL56YZXTG', iid='B0011E4N2K', r_ui=5.0, est=4.087829094663095, details={'was_impossible': True, 'reason': 'User and/or item is unkown.'}),\n",
       " Prediction(uid='A2GQVOO46KNI1G', iid='B00D5T3QK4', r_ui=5.0, est=4.087829094663095, details={'was_impossible': True, 'reason': 'User and/or item is unkown.'}),\n",
       " Prediction(uid='A116K4Y888NQC6', iid='B00G5R5534', r_ui=1.0, est=4.087829094663095, details={'was_impossible': True, 'reason': 'User and/or item is unkown.'}),\n",
       " Prediction(uid='AQ6XS10RR7CE0', iid='B00009X6PH', r_ui=5.0, est=3.506849315068493, details={'actual_k': 0, 'was_impossible': False}),\n",
       " Prediction(uid='A2JQBUKWSKBF7Q', iid='B005DKZTMG', r_ui=4.0, est=4.2516891891891895, details={'actual_k': 0, 'was_impossible': False}),\n",
       " Prediction(uid='A3MWMJBD4ULSSP', iid='B00005LEN4', r_ui=5.0, est=4.087829094663095, details={'was_impossible': True, 'reason': 'User and/or item is unkown.'}),\n",
       " Prediction(uid='A1349ZE0PBOQZ1', iid='B001EQ0HAW', r_ui=4.0, est=4.087829094663095, details={'was_impossible': True, 'reason': 'User and/or item is unkown.'}),\n",
       " Prediction(uid='A2ALV2JSJFQ0X3', iid='B000WOF5L8', r_ui=1.0, est=4.087829094663095, details={'was_impossible': True, 'reason': 'User and/or item is unkown.'}),\n",
       " Prediction(uid='A1C5ABPJP248HA', iid='B00F3SISYO', r_ui=5.0, est=4.087829094663095, details={'was_impossible': True, 'reason': 'User and/or item is unkown.'}),\n",
       " Prediction(uid='AN2UCCNBTNXYT', iid='B002Y27P6O', r_ui=4.0, est=4.087829094663095, details={'was_impossible': True, 'reason': 'User and/or item is unkown.'}),\n",
       " Prediction(uid='A2894L07WQIL4Q', iid='B0014H16V0', r_ui=1.0, est=3.4335664335664338, details={'actual_k': 0, 'was_impossible': False}),\n",
       " Prediction(uid='A3E0PNZPRFBY8U', iid='B001XURP7W', r_ui=5.0, est=4.087829094663095, details={'was_impossible': True, 'reason': 'User and/or item is unkown.'}),\n",
       " Prediction(uid='A26G6X60J0EL2A', iid='B007SYKBL4', r_ui=2.0, est=4.087829094663095, details={'was_impossible': True, 'reason': 'User and/or item is unkown.'}),\n",
       " Prediction(uid='A32JU9PA9B5JUV', iid='B00322PYYK', r_ui=4.0, est=4.087829094663095, details={'was_impossible': True, 'reason': 'User and/or item is unkown.'}),\n",
       " Prediction(uid='A1PWMV1L4V85GN', iid='B00849BPFI', r_ui=5.0, est=4.087829094663095, details={'was_impossible': True, 'reason': 'User and/or item is unkown.'}),\n",
       " Prediction(uid='A18EA7MNLXP9H5', iid='B002R0DZXU', r_ui=5.0, est=3.888888888888889, details={'actual_k': 0, 'was_impossible': False}),\n",
       " Prediction(uid='A2QL99F4W9IB3E', iid='B003GSL6UQ', r_ui=5.0, est=4.333333333333333, details={'actual_k': 0, 'was_impossible': False}),\n",
       " Prediction(uid='A17SZW4Z0UIRYP', iid='B0074BW614', r_ui=5.0, est=4.087829094663095, details={'was_impossible': True, 'reason': 'User and/or item is unkown.'}),\n",
       " Prediction(uid='A2JKKS8EN6DWDN', iid='B002J9HBIO', r_ui=5.0, est=4.087829094663095, details={'was_impossible': True, 'reason': 'User and/or item is unkown.'}),\n",
       " Prediction(uid='AGNO7MXKA9AV4', iid='B005KOZNBW', r_ui=5.0, est=3.7079796264855687, details={'actual_k': 0, 'was_impossible': False}),\n",
       " Prediction(uid='A2FGCQURJCFBKG', iid='B00DQEB1V4', r_ui=2.0, est=4.087829094663095, details={'was_impossible': True, 'reason': 'User and/or item is unkown.'}),\n",
       " Prediction(uid='ANRXH0BVEAR6B', iid='B003GALRIA', r_ui=5.0, est=3.64, details={'actual_k': 0, 'was_impossible': False}),\n",
       " Prediction(uid='A14YZVQTMRO7NE', iid='B000EHYG9K', r_ui=3.0, est=4.389705882352941, details={'actual_k': 0, 'was_impossible': False}),\n",
       " Prediction(uid='A3CDPJSFA9HDME', iid='B000MWNJPE', r_ui=1.0, est=4.087829094663095, details={'was_impossible': True, 'reason': 'User and/or item is unkown.'}),\n",
       " Prediction(uid='A25L6YWF74RTO7', iid='B002EJVLBW', r_ui=5.0, est=4.087829094663095, details={'was_impossible': True, 'reason': 'User and/or item is unkown.'}),\n",
       " Prediction(uid='A2TX5P9CLCGD2F', iid='B004KKZ0HO', r_ui=5.0, est=4.087829094663095, details={'was_impossible': True, 'reason': 'User and/or item is unkown.'}),\n",
       " Prediction(uid='A2REYRZWFV21BE', iid='B0019EHU8G', r_ui=5.0, est=4.087829094663095, details={'was_impossible': True, 'reason': 'User and/or item is unkown.'}),\n",
       " Prediction(uid='A2ZT0SX3ZJAPJ9', iid='B0027AGK3M', r_ui=5.0, est=4.1940298507462686, details={'actual_k': 0, 'was_impossible': False}),\n",
       " Prediction(uid='A2RJ3M1MPO3YGM', iid='B0015YJOK2', r_ui=5.0, est=4.14, details={'actual_k': 0, 'was_impossible': False}),\n",
       " Prediction(uid='A3CBL8XYDCC54J', iid='B006ZH0KJS', r_ui=5.0, est=4.087829094663095, details={'was_impossible': True, 'reason': 'User and/or item is unkown.'}),\n",
       " Prediction(uid='A601VITH4TXO3', iid='B0056ENTVC', r_ui=5.0, est=4.233333333333333, details={'actual_k': 0, 'was_impossible': False}),\n",
       " Prediction(uid='A3N9V27XU1T3L6', iid='B0042I3J1I', r_ui=5.0, est=4.087829094663095, details={'was_impossible': True, 'reason': 'User and/or item is unkown.'}),\n",
       " Prediction(uid='A3RPDQ60726JVY', iid='B004NPH7BI', r_ui=5.0, est=4.755102040816326, details={'actual_k': 0, 'was_impossible': False}),\n",
       " Prediction(uid='ACTHKEUTJITOJ', iid='B004B8GF7Y', r_ui=3.0, est=4.183760683760684, details={'actual_k': 0, 'was_impossible': False}),\n",
       " Prediction(uid='A3G7UY8OSVNHZG', iid='B00E44B18I', r_ui=3.0, est=4.471615720524017, details={'actual_k': 0, 'was_impossible': False}),\n",
       " Prediction(uid='ASHBAMBV6VBRN', iid='B004K4VSCG', r_ui=5.0, est=4.087829094663095, details={'was_impossible': True, 'reason': 'User and/or item is unkown.'}),\n",
       " Prediction(uid='A153NV0J69DET7', iid='B003CYKYVG', r_ui=1.0, est=4.087829094663095, details={'was_impossible': True, 'reason': 'User and/or item is unkown.'}),\n",
       " Prediction(uid='A1LHL429TZVQ8P', iid='B002AZ3D3E', r_ui=5.0, est=3.746987951807229, details={'actual_k': 0, 'was_impossible': False}),\n",
       " Prediction(uid='A20YHB36WWQCKC', iid='B00029X1O6', r_ui=5.0, est=4.087829094663095, details={'was_impossible': True, 'reason': 'User and/or item is unkown.'}),\n",
       " Prediction(uid='ATLXQ60OZSXV6', iid='B007JF85WE', r_ui=5.0, est=4.087829094663095, details={'was_impossible': True, 'reason': 'User and/or item is unkown.'}),\n",
       " Prediction(uid='ATL7NCE31CX0K', iid='B000ANOY7M', r_ui=5.0, est=3.4659685863874348, details={'actual_k': 0, 'was_impossible': False}),\n",
       " Prediction(uid='A373VRLK3X3S0Y', iid='B001N2MUD4', r_ui=3.0, est=4.087829094663095, details={'was_impossible': True, 'reason': 'User and/or item is unkown.'}),\n",
       " Prediction(uid='A27BCYSMKRLLTN', iid='B003Z6AB0A', r_ui=5.0, est=4.087829094663095, details={'was_impossible': True, 'reason': 'User and/or item is unkown.'}),\n",
       " Prediction(uid='A22BSWHE4GGLFB', iid='B002MAPS6W', r_ui=4.0, est=4.087829094663095, details={'was_impossible': True, 'reason': 'User and/or item is unkown.'}),\n",
       " Prediction(uid='A5UYML4VHE0VW', iid='B0087NZ31S', r_ui=5.0, est=4.087829094663095, details={'was_impossible': True, 'reason': 'User and/or item is unkown.'}),\n",
       " Prediction(uid='A1XXAYC0ORYVOJ', iid='B003ES5ZUU', r_ui=4.0, est=4.718031725477501, details={'actual_k': 0, 'was_impossible': False}),\n",
       " Prediction(uid='A2EEE841RGBG9T', iid='B00B46XUQU', r_ui=3.0, est=4.087829094663095, details={'was_impossible': True, 'reason': 'User and/or item is unkown.'}),\n",
       " Prediction(uid='A27JCOZ7CFAX55', iid='B001VMAYAM', r_ui=4.0, est=3.73109243697479, details={'actual_k': 0, 'was_impossible': False}),\n",
       " Prediction(uid='A2XXQQT2YA1CRY', iid='B0085V61HW', r_ui=5.0, est=4.087829094663095, details={'was_impossible': True, 'reason': 'User and/or item is unkown.'}),\n",
       " Prediction(uid='A1TXJWAPTQMBK2', iid='B0032GO0SW', r_ui=5.0, est=4.425, details={'actual_k': 0, 'was_impossible': False}),\n",
       " Prediction(uid='A3DDPLYMNIVED0', iid='B000NMFCIA', r_ui=5.0, est=4.581573896353167, details={'actual_k': 0, 'was_impossible': False}),\n",
       " Prediction(uid='A192Z78IQJML5R', iid='B002OB4BKI', r_ui=5.0, est=4.087829094663095, details={'was_impossible': True, 'reason': 'User and/or item is unkown.'}),\n",
       " Prediction(uid='A1V157RB6GAT7S', iid='B002MAPRYU', r_ui=1.0, est=3.9186046511627906, details={'actual_k': 0, 'was_impossible': False}),\n",
       " Prediction(uid='A2DS9DLMSU2M2Z', iid='B0000C4G79', r_ui=5.0, est=4.256410256410256, details={'actual_k': 0, 'was_impossible': False}),\n",
       " Prediction(uid='ACC2LSXV8J1TB', iid='B000Y8Y8FG', r_ui=1.0, est=4.087829094663095, details={'was_impossible': True, 'reason': 'User and/or item is unkown.'}),\n",
       " Prediction(uid='A3V1IYKZTLDPMT', iid='B00AWKC0EC', r_ui=5.0, est=4.087829094663095, details={'was_impossible': True, 'reason': 'User and/or item is unkown.'}),\n",
       " Prediction(uid='A29XQXCR73N1X7', iid='B007JGB4RQ', r_ui=5.0, est=4.03125, details={'actual_k': 0, 'was_impossible': False}),\n",
       " Prediction(uid='A3BJBOSDBWVRAX', iid='B0072ZXB8O', r_ui=5.0, est=4.087829094663095, details={'was_impossible': True, 'reason': 'User and/or item is unkown.'}),\n",
       " Prediction(uid='A38X6ZU400WPU6', iid='B003LPUWT0', r_ui=5.0, est=4.087829094663095, details={'was_impossible': True, 'reason': 'User and/or item is unkown.'}),\n",
       " Prediction(uid='A1GUEMSTC99PD8', iid='B000089GN2', r_ui=4.0, est=4.087829094663095, details={'was_impossible': True, 'reason': 'User and/or item is unkown.'}),\n",
       " Prediction(uid='A3ONE2VJCDI5GZ', iid='B0002CPBWI', r_ui=2.0, est=4.074398249452954, details={'actual_k': 0, 'was_impossible': False}),\n",
       " Prediction(uid='A2FM1GU2K0NPIN', iid='B003LR7ME6', r_ui=5.0, est=4.087829094663095, details={'was_impossible': True, 'reason': 'User and/or item is unkown.'}),\n",
       " Prediction(uid='A1FFVWOX9EHCMH', iid='B008NMCPTQ', r_ui=5.0, est=4.087829094663095, details={'was_impossible': True, 'reason': 'User and/or item is unkown.'}),\n",
       " Prediction(uid='A2LCWRXBN0UYH2', iid='B000NMFCIA', r_ui=5.0, est=4.087829094663095, details={'was_impossible': True, 'reason': 'User and/or item is unkown.'}),\n",
       " Prediction(uid='AKN5MB4NMZXWV', iid='B00F3F0EIU', r_ui=5.0, est=4.087829094663095, details={'was_impossible': True, 'reason': 'User and/or item is unkown.'}),\n",
       " Prediction(uid='A2EODXH1PW7I27', iid='B003B41XYO', r_ui=3.0, est=4.087829094663095, details={'was_impossible': True, 'reason': 'User and/or item is unkown.'}),\n",
       " Prediction(uid='ACDIUPXLGFXHJ', iid='B0015EWMX8', r_ui=5.0, est=4.087829094663095, details={'was_impossible': True, 'reason': 'User and/or item is unkown.'}),\n",
       " Prediction(uid='A2B0X8M31AI911', iid='B004T9RR6I', r_ui=5.0, est=4.087829094663095, details={'was_impossible': True, 'reason': 'User and/or item is unkown.'}),\n",
       " Prediction(uid='A2JVJ81UQGRPOH', iid='B000RHZJN4', r_ui=5.0, est=4.087829094663095, details={'was_impossible': True, 'reason': 'User and/or item is unkown.'}),\n",
       " Prediction(uid='AAD1LFDYLMCW5', iid='B00113PUJQ', r_ui=5.0, est=4.087829094663095, details={'was_impossible': True, 'reason': 'User and/or item is unkown.'}),\n",
       " Prediction(uid='A3NEBPLQ8RK3ZZ', iid='B0000BVYTV', r_ui=5.0, est=4.087829094663095, details={'was_impossible': True, 'reason': 'User and/or item is unkown.'}),\n",
       " Prediction(uid='A1GNOK6Z9UH4P0', iid='B006GWO5WK', r_ui=5.0, est=4.847838459612172, details={'actual_k': 2, 'was_impossible': False}),\n",
       " Prediction(uid='A3TVBC6Y8B7PN1', iid='B009EIUH6G', r_ui=5.0, est=4.087829094663095, details={'was_impossible': True, 'reason': 'User and/or item is unkown.'}),\n",
       " Prediction(uid='ASIZ8XCG3LTAR', iid='B00AHBKW2S', r_ui=5.0, est=4.087829094663095, details={'was_impossible': True, 'reason': 'User and/or item is unkown.'}),\n",
       " Prediction(uid='A12TP6F0EAKNIK', iid='B0052YFYFK', r_ui=5.0, est=4.087829094663095, details={'was_impossible': True, 'reason': 'User and/or item is unkown.'}),\n",
       " Prediction(uid='A3U1QXQFISK94B', iid='B000VX6XL6', r_ui=5.0, est=4.424477149496514, details={'actual_k': 0, 'was_impossible': False}),\n",
       " Prediction(uid='A2NIRDXACJ9DW3', iid='B0041OYTJE', r_ui=5.0, est=4.087829094663095, details={'was_impossible': True, 'reason': 'User and/or item is unkown.'}),\n",
       " Prediction(uid='A3MUJL34RIJ8IU', iid='B0058AH2US', r_ui=5.0, est=4.087829094663095, details={'was_impossible': True, 'reason': 'User and/or item is unkown.'}),\n",
       " Prediction(uid='AKS7F0JR9Q180', iid='B009ZN9WIO', r_ui=5.0, est=4.0120481927710845, details={'actual_k': 0, 'was_impossible': False}),\n",
       " Prediction(uid='A3JO5U3ITC6EFA', iid='B008D4X7Y6', r_ui=5.0, est=4.087829094663095, details={'was_impossible': True, 'reason': 'User and/or item is unkown.'}),\n",
       " Prediction(uid='ANQBODSRKJ6V3', iid='B007R5YDYA', r_ui=5.0, est=5, details={'actual_k': 1, 'was_impossible': False}),\n",
       " Prediction(uid='A1D8T4JZILK0S5', iid='B00CMQTVK0', r_ui=1.0, est=4.087829094663095, details={'was_impossible': True, 'reason': 'User and/or item is unkown.'}),\n",
       " Prediction(uid='AQ2T4Q936FP64', iid='B00BT7RAPG', r_ui=5.0, est=4.087829094663095, details={'was_impossible': True, 'reason': 'User and/or item is unkown.'}),\n",
       " Prediction(uid='A32M0DZS40DKU1', iid='B004FVMKV2', r_ui=1.0, est=4.087829094663095, details={'was_impossible': True, 'reason': 'User and/or item is unkown.'}),\n",
       " Prediction(uid='A1XE0XETW1ZKY6', iid='B00AIRUOI8', r_ui=5.0, est=4.087829094663095, details={'was_impossible': True, 'reason': 'User and/or item is unkown.'}),\n",
       " Prediction(uid='A23ABXFLAA0FRT', iid='B006IHRNUY', r_ui=5.0, est=4.087829094663095, details={'was_impossible': True, 'reason': 'User and/or item is unkown.'}),\n",
       " Prediction(uid='A1BVX0PLGRSPPN', iid='B0036QLHKC', r_ui=5.0, est=4.087829094663095, details={'was_impossible': True, 'reason': 'User and/or item is unkown.'}),\n",
       " Prediction(uid='A3RITQAW0FR0RC', iid='B00ATE7TQA', r_ui=5.0, est=4.087829094663095, details={'was_impossible': True, 'reason': 'User and/or item is unkown.'}),\n",
       " Prediction(uid='A37911TNO55SXE', iid='B0041G62TC', r_ui=5.0, est=4.087829094663095, details={'was_impossible': True, 'reason': 'User and/or item is unkown.'}),\n",
       " Prediction(uid='AK00N929GM23D', iid='B005HSG446', r_ui=4.0, est=4.087829094663095, details={'was_impossible': True, 'reason': 'User and/or item is unkown.'}),\n",
       " Prediction(uid='AIIEO4DUUCJWT', iid='B000F7JYJQ', r_ui=2.0, est=3.3684210526315788, details={'actual_k': 0, 'was_impossible': False}),\n",
       " Prediction(uid='A2QVEFC94U3Y0M', iid='B004LSNF04', r_ui=5.0, est=4.087829094663095, details={'was_impossible': True, 'reason': 'User and/or item is unkown.'}),\n",
       " Prediction(uid='A1OJJEU9M730UY', iid='B001E46A7I', r_ui=5.0, est=4.087829094663095, details={'was_impossible': True, 'reason': 'User and/or item is unkown.'}),\n",
       " Prediction(uid='A2C7FHNKE4UZGR', iid='B008EWNVI4', r_ui=5.0, est=4.087829094663095, details={'was_impossible': True, 'reason': 'User and/or item is unkown.'}),\n",
       " Prediction(uid='A9412UZX7PKMH', iid='B006OBGEHW', r_ui=5.0, est=4.087829094663095, details={'was_impossible': True, 'reason': 'User and/or item is unkown.'}),\n",
       " Prediction(uid='A1YL3TMSHB3P0V', iid='B009LL9VDG', r_ui=2.0, est=4.087829094663095, details={'was_impossible': True, 'reason': 'User and/or item is unkown.'}),\n",
       " Prediction(uid='A1T356OKLHOVDB', iid='B001EAQTRI', r_ui=5.0, est=4.087829094663095, details={'was_impossible': True, 'reason': 'User and/or item is unkown.'}),\n",
       " Prediction(uid='AHRYFV48DZ6T6', iid='B005ESY8VA', r_ui=5.0, est=4.087829094663095, details={'was_impossible': True, 'reason': 'User and/or item is unkown.'}),\n",
       " Prediction(uid='A3U4FCEAT75XLS', iid='B008FF8360', r_ui=3.0, est=3.891304347826087, details={'actual_k': 0, 'was_impossible': False}),\n",
       " Prediction(uid='A27AK1Q07JW2XH', iid='B00182CIB8', r_ui=1.0, est=4.426136363636363, details={'actual_k': 0, 'was_impossible': False}),\n",
       " Prediction(uid='AVSRQJMZL5GQ6', iid='B004CAHTCQ', r_ui=5.0, est=4.087829094663095, details={'was_impossible': True, 'reason': 'User and/or item is unkown.'}),\n",
       " Prediction(uid='A1OGC35Q0QTPEX', iid='B006ZS5ATM', r_ui=2.0, est=4.076759061833688, details={'actual_k': 0, 'was_impossible': False}),\n",
       " Prediction(uid='A2UYP42A3I87IK', iid='B0049LBJ56', r_ui=5.0, est=4.087829094663095, details={'was_impossible': True, 'reason': 'User and/or item is unkown.'}),\n",
       " Prediction(uid='ABD24TWHU4AF3', iid='B0018O9JIG', r_ui=5.0, est=4.087829094663095, details={'was_impossible': True, 'reason': 'User and/or item is unkown.'}),\n",
       " Prediction(uid='A22EDENQI1XZG7', iid='B00752QXZ2', r_ui=5.0, est=4.087829094663095, details={'was_impossible': True, 'reason': 'User and/or item is unkown.'}),\n",
       " Prediction(uid='A3K2MT2WQCFCO1', iid='B002P3KMVC', r_ui=4.0, est=4.087829094663095, details={'was_impossible': True, 'reason': 'User and/or item is unkown.'}),\n",
       " Prediction(uid='A23SVGAPZ4R1U3', iid='B0056ENTVC', r_ui=4.0, est=4.087829094663095, details={'was_impossible': True, 'reason': 'User and/or item is unkown.'}),\n",
       " Prediction(uid='A252C35PJ1FCGV', iid='B003XIJ566', r_ui=4.0, est=4.087829094663095, details={'was_impossible': True, 'reason': 'User and/or item is unkown.'}),\n",
       " Prediction(uid='A3JNDS0YVFFKIQ', iid='B00DB3SH2G', r_ui=4.0, est=3.9198473282442747, details={'actual_k': 0, 'was_impossible': False}),\n",
       " Prediction(uid='A16U9GN9BAJIEA', iid='B00006I5SQ', r_ui=2.0, est=3.7252747252747254, details={'actual_k': 0, 'was_impossible': False}),\n",
       " Prediction(uid='A19KC5S5V547I6', iid='B0074BW614', r_ui=3.0, est=4.485719450469992, details={'actual_k': 0, 'was_impossible': False}),\n",
       " Prediction(uid='A36LG3L89N6GBK', iid='B002P39DUS', r_ui=5.0, est=4.087829094663095, details={'was_impossible': True, 'reason': 'User and/or item is unkown.'}),\n",
       " Prediction(uid='AU3OUM2Q61BRA', iid='B009SYZ8OC', r_ui=1.0, est=4.087829094663095, details={'was_impossible': True, 'reason': 'User and/or item is unkown.'}),\n",
       " Prediction(uid='A3NGE5FF91PGQE', iid='B0036QLHKC', r_ui=1.0, est=4.087829094663095, details={'was_impossible': True, 'reason': 'User and/or item is unkown.'}),\n",
       " Prediction(uid='A1UO3K92LJARI', iid='B009XE0K7W', r_ui=5.0, est=4.087829094663095, details={'was_impossible': True, 'reason': 'User and/or item is unkown.'}),\n",
       " Prediction(uid='A3N3QD8LJUWNQQ', iid='B004U5T2P0', r_ui=5.0, est=4.054054054054054, details={'actual_k': 0, 'was_impossible': False}),\n",
       " Prediction(uid='A3P378OR01AFTZ', iid='B004R7A9YE', r_ui=5.0, est=4.087829094663095, details={'was_impossible': True, 'reason': 'User and/or item is unkown.'}),\n",
       " Prediction(uid='AWI5RI03379E0', iid='B000UZN2ZK', r_ui=4.0, est=4.434782608695652, details={'actual_k': 0, 'was_impossible': False}),\n",
       " Prediction(uid='AAJDWEEYGBQQ8', iid='B009ZGK6QS', r_ui=5.0, est=4.087829094663095, details={'was_impossible': True, 'reason': 'User and/or item is unkown.'}),\n",
       " Prediction(uid='A3977M5S0GIG5H', iid='B0000DCRHA', r_ui=5.0, est=4.270833333333333, details={'actual_k': 0, 'was_impossible': False}),\n",
       " Prediction(uid='AVTI4J2IVUSV7', iid='B005NGQWL2', r_ui=5.0, est=4.488888888888889, details={'actual_k': 0, 'was_impossible': False}),\n",
       " Prediction(uid='ABVYHI6L4D018', iid='B005QWM1UY', r_ui=5.0, est=4.087829094663095, details={'was_impossible': True, 'reason': 'User and/or item is unkown.'}),\n",
       " Prediction(uid='A2VIWPMEVHX3VY', iid='B0038VETHS', r_ui=5.0, est=4.087829094663095, details={'was_impossible': True, 'reason': 'User and/or item is unkown.'}),\n",
       " Prediction(uid='AEV135MP8ELTD', iid='B000FGI970', r_ui=1.0, est=4.087829094663095, details={'was_impossible': True, 'reason': 'User and/or item is unkown.'}),\n",
       " Prediction(uid='A3D5BTDWTV5233', iid='B000EMU4HS', r_ui=4.0, est=4.309523809523809, details={'actual_k': 0, 'was_impossible': False}),\n",
       " Prediction(uid='A7Y4J4Z5RPGZQ', iid='B001TH7GSW', r_ui=5.0, est=4.087829094663095, details={'was_impossible': True, 'reason': 'User and/or item is unkown.'}),\n",
       " Prediction(uid='AZ5RY3ZMGA8NE', iid='B006HX676K', r_ui=5.0, est=4.087829094663095, details={'was_impossible': True, 'reason': 'User and/or item is unkown.'}),\n",
       " Prediction(uid='A2UHBILX9067IH', iid='B005PRE31U', r_ui=3.0, est=4.468354430379747, details={'actual_k': 0, 'was_impossible': False}),\n",
       " Prediction(uid='AXXVMSI2P5N9P', iid='B005CSPHYY', r_ui=2.0, est=4.087829094663095, details={'was_impossible': True, 'reason': 'User and/or item is unkown.'}),\n",
       " Prediction(uid='A3IXOHLVUYPZ8Y', iid='B004SBHSZ2', r_ui=5.0, est=3.675675675675676, details={'actual_k': 0, 'was_impossible': False}),\n",
       " Prediction(uid='A3JBENXO9S7IOB', iid='B003Y54NPQ', r_ui=5.0, est=4.087829094663095, details={'was_impossible': True, 'reason': 'User and/or item is unkown.'}),\n",
       " Prediction(uid='AOPJM1GEN7OTN', iid='B0043WJRRS', r_ui=5.0, est=4.087829094663095, details={'was_impossible': True, 'reason': 'User and/or item is unkown.'}),\n",
       " Prediction(uid='A1668AD032PKH0', iid='B0034XRDUA', r_ui=3.0, est=4.098630136986301, details={'actual_k': 0, 'was_impossible': False}),\n",
       " Prediction(uid='A3PZEQKN0F0PP9', iid='B0052QGGYQ', r_ui=5.0, est=2.9727272727272727, details={'actual_k': 0, 'was_impossible': False}),\n",
       " Prediction(uid='A6IT29FMRMLXQ', iid='B005CLPP84', r_ui=5.0, est=4.087829094663095, details={'was_impossible': True, 'reason': 'User and/or item is unkown.'}),\n",
       " Prediction(uid='AYIHRQ05XVXIV', iid='B000GX31G6', r_ui=3.0, est=4.087829094663095, details={'was_impossible': True, 'reason': 'User and/or item is unkown.'}),\n",
       " Prediction(uid='A3JIWT2DUMZPVF', iid='B008LTBITY', r_ui=5.0, est=4.792982456140351, details={'actual_k': 0, 'was_impossible': False}),\n",
       " Prediction(uid='A1VVEQ2FMNVAQ1', iid='B005SEZBXY', r_ui=4.0, est=4.266666666666667, details={'actual_k': 0, 'was_impossible': False}),\n",
       " Prediction(uid='A149PPP5KTJZTD', iid='B003E2O3TU', r_ui=1.0, est=4.087829094663095, details={'was_impossible': True, 'reason': 'User and/or item is unkown.'}),\n",
       " Prediction(uid='A309CMGBG1LP9M', iid='B003UE52ME', r_ui=5.0, est=4.087829094663095, details={'was_impossible': True, 'reason': 'User and/or item is unkown.'}),\n",
       " Prediction(uid='A79KDFV7E84EW', iid='B000J01I1G', r_ui=5.0, est=4.087829094663095, details={'was_impossible': True, 'reason': 'User and/or item is unkown.'}),\n",
       " Prediction(uid='AWWK9Z84IH6FL', iid='B003VWU79I', r_ui=4.0, est=4.087829094663095, details={'was_impossible': True, 'reason': 'User and/or item is unkown.'}),\n",
       " Prediction(uid='AA0895QQNAAJ7', iid='B003N197CU', r_ui=1.0, est=4.087829094663095, details={'was_impossible': True, 'reason': 'User and/or item is unkown.'}),\n",
       " Prediction(uid='A3P45WGAKZCUC6', iid='B0093W1LDG', r_ui=5.0, est=4.087829094663095, details={'was_impossible': True, 'reason': 'User and/or item is unkown.'}),\n",
       " Prediction(uid='A3S4QEPVBZ461B', iid='B008XKRPD4', r_ui=4.0, est=4.087829094663095, details={'was_impossible': True, 'reason': 'User and/or item is unkown.'}),\n",
       " Prediction(uid='ANOW7CKGF7D10', iid='B005CLPP84', r_ui=4.0, est=4.087829094663095, details={'was_impossible': True, 'reason': 'User and/or item is unkown.'}),\n",
       " Prediction(uid='AKUMFDPG216OS', iid='B001ELJ9QK', r_ui=4.0, est=4.087829094663095, details={'was_impossible': True, 'reason': 'User and/or item is unkown.'}),\n",
       " Prediction(uid='A2TIP4NEY64PLK', iid='B002V88HFE', r_ui=5.0, est=4.690459363957597, details={'actual_k': 0, 'was_impossible': False}),\n",
       " Prediction(uid='A2T89ASERB3BRD', iid='B0015V1H28', r_ui=1.0, est=4.087829094663095, details={'was_impossible': True, 'reason': 'User and/or item is unkown.'}),\n",
       " Prediction(uid='AO2WM2Q24KHW2', iid='B005HSG3JC', r_ui=4.0, est=4.087829094663095, details={'was_impossible': True, 'reason': 'User and/or item is unkown.'}),\n",
       " Prediction(uid='A30423CYQA2EKZ', iid='B001FW9QGQ', r_ui=1.0, est=4.087829094663095, details={'was_impossible': True, 'reason': 'User and/or item is unkown.'}),\n",
       " Prediction(uid='A1HG40N9I77PM8', iid='B000EVS4YY', r_ui=5.0, est=4.508196721311475, details={'actual_k': 0, 'was_impossible': False}),\n",
       " Prediction(uid='A3UK21NY0SBOZ7', iid='B00C2MBTK4', r_ui=4.0, est=3.8412698412698414, details={'actual_k': 0, 'was_impossible': False}),\n",
       " Prediction(uid='A1NW36GJDTIHY0', iid='B008MDOTUE', r_ui=4.0, est=4.098039215686274, details={'actual_k': 0, 'was_impossible': False}),\n",
       " Prediction(uid='A1HX4GE1TR6DKQ', iid='B0041D0K1Q', r_ui=5.0, est=4.153846153846154, details={'actual_k': 0, 'was_impossible': False}),\n",
       " Prediction(uid='A1J7KB1ZMXAJTW', iid='B002HU629E', r_ui=1.0, est=4.087829094663095, details={'was_impossible': True, 'reason': 'User and/or item is unkown.'}),\n",
       " Prediction(uid='AFYPYQAFA31JU', iid='B003N12TSY', r_ui=5.0, est=3.8742138364779874, details={'actual_k': 0, 'was_impossible': False}),\n",
       " Prediction(uid='A3DSXITIH16XZ1', iid='B000FVDD30', r_ui=2.0, est=4.087829094663095, details={'was_impossible': True, 'reason': 'User and/or item is unkown.'}),\n",
       " Prediction(uid='A3FPYB954L4LGT', iid='B00AWKC0JM', r_ui=5.0, est=4.087829094663095, details={'was_impossible': True, 'reason': 'User and/or item is unkown.'}),\n",
       " Prediction(uid='A24XNKGJG16LMU', iid='B003LR7ME6', r_ui=5.0, est=4.087829094663095, details={'was_impossible': True, 'reason': 'User and/or item is unkown.'}),\n",
       " Prediction(uid='AXNQW7NQ0KBZH', iid='B003UCESP8', r_ui=5.0, est=4.087829094663095, details={'was_impossible': True, 'reason': 'User and/or item is unkown.'}),\n",
       " Prediction(uid='APQWB5OKR18KT', iid='B001D60LG8', r_ui=4.0, est=4.087829094663095, details={'was_impossible': True, 'reason': 'User and/or item is unkown.'}),\n",
       " Prediction(uid='A2DLGHP7B0J454', iid='B000RHZJN4', r_ui=5.0, est=4.354948805460751, details={'actual_k': 0, 'was_impossible': False}),\n",
       " Prediction(uid='A1QBV4EMG8XB4Q', iid='B0000BZOGJ', r_ui=5.0, est=4.087829094663095, details={'was_impossible': True, 'reason': 'User and/or item is unkown.'}),\n",
       " Prediction(uid='A3K17MT2DPMYKN', iid='B0097BEF0O', r_ui=5.0, est=4.087829094663095, details={'was_impossible': True, 'reason': 'User and/or item is unkown.'}),\n",
       " Prediction(uid='A3LS7CSTIF25NI', iid='B005HM0SNA', r_ui=5.0, est=4.087829094663095, details={'was_impossible': True, 'reason': 'User and/or item is unkown.'}),\n",
       " Prediction(uid='A2MQ7SPE8V1WLC', iid='B00E98O7GC', r_ui=4.0, est=4.087829094663095, details={'was_impossible': True, 'reason': 'User and/or item is unkown.'}),\n",
       " Prediction(uid='A277QWS5WF6DWI', iid='B00062PN6I', r_ui=4.0, est=4.169491525423729, details={'actual_k': 0, 'was_impossible': False}),\n",
       " Prediction(uid='A1WWCYLL2LHFPX', iid='B000WL6YY8', r_ui=5.0, est=4.475476389378929, details={'actual_k': 1, 'was_impossible': False}),\n",
       " Prediction(uid='A3JIW1DOLLG4B7', iid='B0039ORBLK', r_ui=1.0, est=4.087829094663095, details={'was_impossible': True, 'reason': 'User and/or item is unkown.'}),\n",
       " Prediction(uid='A39BM484XK3NJJ', iid='B002Q88CGI', r_ui=4.0, est=4.087829094663095, details={'was_impossible': True, 'reason': 'User and/or item is unkown.'}),\n",
       " Prediction(uid='A19X4BF861LQST', iid='B00243HHNY', r_ui=2.0, est=4.5777777777777775, details={'actual_k': 0, 'was_impossible': False}),\n",
       " Prediction(uid='AHG3BKO8YU616', iid='B0043EV20Q', r_ui=5.0, est=4.087829094663095, details={'was_impossible': True, 'reason': 'User and/or item is unkown.'}),\n",
       " Prediction(uid='A1SMX0EPLAX04Y', iid='B000JNQSIQ', r_ui=5.0, est=4.338289962825279, details={'actual_k': 0, 'was_impossible': False}),\n",
       " Prediction(uid='A1PQ41VOHFPO6T', iid='B008OHRJ32', r_ui=5.0, est=4.087829094663095, details={'was_impossible': True, 'reason': 'User and/or item is unkown.'}),\n",
       " Prediction(uid='A1W23IN4RBS680', iid='B008OHNZI0', r_ui=1.0, est=4.087829094663095, details={'was_impossible': True, 'reason': 'User and/or item is unkown.'}),\n",
       " Prediction(uid='A3CUP5LXK1XQ9I', iid='B003U46SWC', r_ui=5.0, est=4.087829094663095, details={'was_impossible': True, 'reason': 'User and/or item is unkown.'}),\n",
       " Prediction(uid='AI7HCR784CVVR', iid='B002Y6CJJ8', r_ui=5.0, est=4.087829094663095, details={'was_impossible': True, 'reason': 'User and/or item is unkown.'}),\n",
       " Prediction(uid='A2PFT876NFV47S', iid='B007POASC4', r_ui=4.0, est=4.087829094663095, details={'was_impossible': True, 'reason': 'User and/or item is unkown.'}),\n",
       " Prediction(uid='A14BT093TGN1IL', iid='B00EPD93Z6', r_ui=5.0, est=4.087829094663095, details={'was_impossible': True, 'reason': 'User and/or item is unkown.'}),\n",
       " Prediction(uid='A1VRDXPRW2FG3U', iid='B00B5HE1SY', r_ui=2.0, est=4.087829094663095, details={'was_impossible': True, 'reason': 'User and/or item is unkown.'}),\n",
       " Prediction(uid='A2XUNV62GDKLAJ', iid='B002HZW6K8', r_ui=5.0, est=4.087829094663095, details={'was_impossible': True, 'reason': 'User and/or item is unkown.'}),\n",
       " Prediction(uid='A1EO3O3TGNR7ST', iid='B002V88HFE', r_ui=5.0, est=4.690459363957597, details={'actual_k': 0, 'was_impossible': False}),\n",
       " Prediction(uid='A9VRYNX53C01T', iid='B0000CE1UO', r_ui=1.0, est=3.708, details={'actual_k': 0, 'was_impossible': False}),\n",
       " Prediction(uid='AO3HSJGG6FZW', iid='B004WE7UQ2', r_ui=1.0, est=3.9074074074074074, details={'actual_k': 0, 'was_impossible': False}),\n",
       " Prediction(uid='AAN5WBG2IXJH3', iid='B005AF0C2G', r_ui=4.0, est=4.087829094663095, details={'was_impossible': True, 'reason': 'User and/or item is unkown.'}),\n",
       " Prediction(uid='A1J6GZ8RLILC9M', iid='B006P88VSE', r_ui=5.0, est=4.087829094663095, details={'was_impossible': True, 'reason': 'User and/or item is unkown.'}),\n",
       " Prediction(uid='AIJ9WDUMGAJ15', iid='B002WE6D44', r_ui=5.0, est=4.426204039357845, details={'actual_k': 0, 'was_impossible': False}),\n",
       " Prediction(uid='AATVHYLPBPJ1K', iid='B0036E8V08', r_ui=5.0, est=4.087829094663095, details={'was_impossible': True, 'reason': 'User and/or item is unkown.'}),\n",
       " Prediction(uid='A2E6N42P92B5LK', iid='B006GQIIEM', r_ui=4.0, est=3.642857142857143, details={'actual_k': 0, 'was_impossible': False}),\n",
       " Prediction(uid='ALNV7T1OX5MT8', iid='B004PYD950', r_ui=5.0, est=4.087829094663095, details={'was_impossible': True, 'reason': 'User and/or item is unkown.'}),\n",
       " Prediction(uid='A1O6O9NIPIWC2O', iid='B001D60LG8', r_ui=4.0, est=4.087829094663095, details={'was_impossible': True, 'reason': 'User and/or item is unkown.'}),\n",
       " Prediction(uid='A1GXY0CDN8QV37', iid='B000XPSH70', r_ui=4.0, est=4.087829094663095, details={'was_impossible': True, 'reason': 'User and/or item is unkown.'}),\n",
       " Prediction(uid='A2U8J2XZW0UUGP', iid='B005IQRMN4', r_ui=1.0, est=4.25748502994012, details={'actual_k': 0, 'was_impossible': False}),\n",
       " Prediction(uid='A28RI1VVL3ITI1', iid='B001E1X67I', r_ui=1.0, est=2.7900552486187844, details={'actual_k': 0, 'was_impossible': False}),\n",
       " Prediction(uid='A19SK8A79L0R1J', iid='B00BCGRLSU', r_ui=5.0, est=4.315068493150685, details={'actual_k': 0, 'was_impossible': False}),\n",
       " Prediction(uid='A1547PL1P0WXFK', iid='B009M27MB2', r_ui=1.0, est=4.087829094663095, details={'was_impossible': True, 'reason': 'User and/or item is unkown.'}),\n",
       " Prediction(uid='AAETYRUPVXCNB', iid='B004BVALYY', r_ui=5.0, est=4.087829094663095, details={'was_impossible': True, 'reason': 'User and/or item is unkown.'}),\n",
       " Prediction(uid='A1ZV39LB3IJXXY', iid='B003NR57BY', r_ui=2.0, est=4.087829094663095, details={'was_impossible': True, 'reason': 'User and/or item is unkown.'}),\n",
       " Prediction(uid='A2S46SZ8UAI3DT', iid='B002WE6D44', r_ui=5.0, est=4.426204039357845, details={'actual_k': 0, 'was_impossible': False}),\n",
       " Prediction(uid='A1CHE1Q8FOUAFA', iid='B004V4K4SO', r_ui=5.0, est=4.087829094663095, details={'was_impossible': True, 'reason': 'User and/or item is unkown.'}),\n",
       " Prediction(uid='A1VE78UMNBSD8V', iid='B000EOPQ7E', r_ui=4.0, est=4.087829094663095, details={'was_impossible': True, 'reason': 'User and/or item is unkown.'}),\n",
       " Prediction(uid='A38LUB6DHFK0RV', iid='B004O9GNKO', r_ui=2.0, est=4.087829094663095, details={'was_impossible': True, 'reason': 'User and/or item is unkown.'}),\n",
       " Prediction(uid='A6DLJXPNSNWMK', iid='B001B077PO', r_ui=4.0, est=4.087829094663095, details={'was_impossible': True, 'reason': 'User and/or item is unkown.'}),\n",
       " Prediction(uid='A3103BV64ZXPO0', iid='B003YGSPW2', r_ui=2.0, est=4.087829094663095, details={'was_impossible': True, 'reason': 'User and/or item is unkown.'}),\n",
       " Prediction(uid='A2UM60QQOVEPC4', iid='B00001WRSJ', r_ui=5.0, est=4.087829094663095, details={'was_impossible': True, 'reason': 'User and/or item is unkown.'}),\n",
       " Prediction(uid='A3LW7HNTDJEXFZ', iid='B008GVETNE', r_ui=5.0, est=4.087829094663095, details={'was_impossible': True, 'reason': 'User and/or item is unkown.'}),\n",
       " Prediction(uid='A24O07HOMBKVDY', iid='B001LYWBOM', r_ui=5.0, est=4.087829094663095, details={'was_impossible': True, 'reason': 'User and/or item is unkown.'}),\n",
       " Prediction(uid='AWU7V4WGYE3Q1', iid='B004QK7HI8', r_ui=5.0, est=4.087829094663095, details={'was_impossible': True, 'reason': 'User and/or item is unkown.'}),\n",
       " Prediction(uid='A3PWGYE0T145X0', iid='B000TYR5R8', r_ui=5.0, est=4.087829094663095, details={'was_impossible': True, 'reason': 'User and/or item is unkown.'}),\n",
       " Prediction(uid='A2092HXJRKDZG2', iid='B000063574', r_ui=5.0, est=4.087829094663095, details={'was_impossible': True, 'reason': 'User and/or item is unkown.'}),\n",
       " Prediction(uid='A3TOT2DTT4RMQU', iid='B008Z2661W', r_ui=5.0, est=4.087829094663095, details={'was_impossible': True, 'reason': 'User and/or item is unkown.'}),\n",
       " Prediction(uid='A36SR8DK41CSH3', iid='B002Q8IHDQ', r_ui=5.0, est=4.087829094663095, details={'was_impossible': True, 'reason': 'User and/or item is unkown.'}),\n",
       " Prediction(uid='A31DPFB42X0Q5S', iid='B00908BMVE', r_ui=2.0, est=4.087829094663095, details={'was_impossible': True, 'reason': 'User and/or item is unkown.'}),\n",
       " Prediction(uid='A2DO6GQZUF7QBU', iid='B003ULP5PG', r_ui=2.0, est=4.087829094663095, details={'was_impossible': True, 'reason': 'User and/or item is unkown.'}),\n",
       " Prediction(uid='A350HS69NBPZBO', iid='B005ZMLEYO', r_ui=2.0, est=4.087829094663095, details={'was_impossible': True, 'reason': 'User and/or item is unkown.'}),\n",
       " Prediction(uid='A1FDH349KTDS46', iid='B00028DM96', r_ui=2.0, est=4.087829094663095, details={'was_impossible': True, 'reason': 'User and/or item is unkown.'}),\n",
       " Prediction(uid='A3TFPT5VV0XG6V', iid='B002MAPS6W', r_ui=3.0, est=4.087829094663095, details={'was_impossible': True, 'reason': 'User and/or item is unkown.'}),\n",
       " Prediction(uid='A2XQEB2JYDG1L8', iid='B00000J1V5', r_ui=5.0, est=4.087829094663095, details={'was_impossible': True, 'reason': 'User and/or item is unkown.'}),\n",
       " Prediction(uid='A2Q2J7Q53PD6LB', iid='B008GHN0NS', r_ui=4.0, est=4.627797928559589, details={'actual_k': 1, 'was_impossible': False}),\n",
       " Prediction(uid='AUY6FID25FWZR', iid='B0087NZ31S', r_ui=5.0, est=4.087829094663095, details={'was_impossible': True, 'reason': 'User and/or item is unkown.'}),\n",
       " Prediction(uid='A2QB2ISYKMLRU2', iid='B00BT7RAPG', r_ui=5.0, est=4.087829094663095, details={'was_impossible': True, 'reason': 'User and/or item is unkown.'}),\n",
       " Prediction(uid='A1UGS4R2EZ8QWI', iid='B002N8A14M', r_ui=5.0, est=4.338983050847458, details={'actual_k': 0, 'was_impossible': False}),\n",
       " Prediction(uid='A1FCBSHXRKHFI8', iid='B009UNGYHG', r_ui=5.0, est=4.087829094663095, details={'was_impossible': True, 'reason': 'User and/or item is unkown.'}),\n",
       " Prediction(uid='A25O4WIPV5GWCI', iid='B004LTEUDO', r_ui=5.0, est=4.087829094663095, details={'was_impossible': True, 'reason': 'User and/or item is unkown.'}),\n",
       " Prediction(uid='A2DAU3BNP5RS05', iid='B007P4VOWC', r_ui=5.0, est=5, details={'actual_k': 1, 'was_impossible': False}),\n",
       " Prediction(uid='A29N31F2SU14ZR', iid='B000F78582', r_ui=1.0, est=4.087829094663095, details={'was_impossible': True, 'reason': 'User and/or item is unkown.'}),\n",
       " Prediction(uid='A2FQ2Y5K1LSUGU', iid='B00894WP4S', r_ui=5.0, est=4.087829094663095, details={'was_impossible': True, 'reason': 'User and/or item is unkown.'}),\n",
       " Prediction(uid='A11L69PAA2BULZ', iid='B007YUISN0', r_ui=5.0, est=4.087829094663095, details={'was_impossible': True, 'reason': 'User and/or item is unkown.'}),\n",
       " Prediction(uid='A2AS1XVESKIKG', iid='B004T9RR6I', r_ui=5.0, est=4.087829094663095, details={'was_impossible': True, 'reason': 'User and/or item is unkown.'}),\n",
       " Prediction(uid='A30P3RMIH0T6XE', iid='B000VY2BC0', r_ui=1.0, est=4.087829094663095, details={'was_impossible': True, 'reason': 'User and/or item is unkown.'}),\n",
       " Prediction(uid='A2PCSF569S87F5', iid='B00D029NNA', r_ui=5.0, est=4.087829094663095, details={'was_impossible': True, 'reason': 'User and/or item is unkown.'}),\n",
       " Prediction(uid='A1RRLO3E4JRHZL', iid='B005O81U9S', r_ui=5.0, est=3.685185185185185, details={'actual_k': 0, 'was_impossible': False}),\n",
       " Prediction(uid='A13JEXKJPGLXPK', iid='B000CQPWMS', r_ui=4.0, est=3.9344262295081966, details={'actual_k': 0, 'was_impossible': False}),\n",
       " Prediction(uid='A1Q2TSMBHPGZQS', iid='B001G5Z82I', r_ui=5.0, est=4.087829094663095, details={'was_impossible': True, 'reason': 'User and/or item is unkown.'}),\n",
       " Prediction(uid='A2DMWIOH1W0B9Z', iid='B006MBP7T0', r_ui=3.0, est=4.087829094663095, details={'was_impossible': True, 'reason': 'User and/or item is unkown.'}),\n",
       " Prediction(uid='A3KAY8YCUAVMQQ', iid='B005PXMKI2', r_ui=5.0, est=4.087829094663095, details={'was_impossible': True, 'reason': 'User and/or item is unkown.'}),\n",
       " Prediction(uid='AWEUMSR0HSC7E', iid='B00834SJNA', r_ui=5.0, est=4.021573604060913, details={'actual_k': 0, 'was_impossible': False}),\n",
       " Prediction(uid='AP7S01480RIPM', iid='B004JXVOD6', r_ui=5.0, est=4.087829094663095, details={'was_impossible': True, 'reason': 'User and/or item is unkown.'}),\n",
       " Prediction(uid='A241LVKU5KHU4V', iid='B005N4RO4I', r_ui=1.0, est=4.087829094663095, details={'was_impossible': True, 'reason': 'User and/or item is unkown.'}),\n",
       " Prediction(uid='A1Y6UJQYL4F7FR', iid='B001UALXG4', r_ui=5.0, est=4.087829094663095, details={'was_impossible': True, 'reason': 'User and/or item is unkown.'}),\n",
       " Prediction(uid='A14HPQASXO7QPW', iid='B0052YFYFK', r_ui=5.0, est=4.087829094663095, details={'was_impossible': True, 'reason': 'User and/or item is unkown.'}),\n",
       " Prediction(uid='A60UC6G914W0U', iid='B00FNPD1VW', r_ui=3.0, est=3.507836574702247, details={'actual_k': 1, 'was_impossible': False}),\n",
       " Prediction(uid='A3H6SI8SMCS0Q4', iid='B001GIPSAW', r_ui=5.0, est=4.087829094663095, details={'was_impossible': True, 'reason': 'User and/or item is unkown.'}),\n",
       " Prediction(uid='A2WD6CAYZ2BBUJ', iid='B000JMJWV2', r_ui=3.0, est=4.087829094663095, details={'was_impossible': True, 'reason': 'User and/or item is unkown.'}),\n",
       " Prediction(uid='A2Q1O057RU1R4P', iid='B00651CLCS', r_ui=5.0, est=4.03030303030303, details={'actual_k': 0, 'was_impossible': False}),\n",
       " Prediction(uid='A108KD9OWAJ8WO', iid='B00ESJPSWY', r_ui=5.0, est=4.087829094663095, details={'was_impossible': True, 'reason': 'User and/or item is unkown.'}),\n",
       " Prediction(uid='A2I9IO15NUIIHJ', iid='B00008WFVI', r_ui=4.0, est=3.972972972972973, details={'actual_k': 0, 'was_impossible': False}),\n",
       " Prediction(uid='AVZE0LRG5YOC8', iid='B003M0NT1M', r_ui=5.0, est=4.087829094663095, details={'was_impossible': True, 'reason': 'User and/or item is unkown.'}),\n",
       " Prediction(uid='AFWNUSL82GO1Q', iid='B000HKGK9I', r_ui=4.0, est=4.087829094663095, details={'was_impossible': True, 'reason': 'User and/or item is unkown.'}),\n",
       " Prediction(uid='A1NEN6D8NIUMNN', iid='B007POASC4', r_ui=3.0, est=4.087829094663095, details={'was_impossible': True, 'reason': 'User and/or item is unkown.'}),\n",
       " Prediction(uid='A1J1138CI0Q92G', iid='B005U0M9B8', r_ui=5.0, est=4.087829094663095, details={'was_impossible': True, 'reason': 'User and/or item is unkown.'}),\n",
       " Prediction(uid='A2VQ24Z114TCUU', iid='B000AY5Y5W', r_ui=5.0, est=4.24, details={'actual_k': 0, 'was_impossible': False}),\n",
       " Prediction(uid='A3UWA9HTTXWKV7', iid='B003ES5ZUU', r_ui=4.0, est=4.718031725477501, details={'actual_k': 0, 'was_impossible': False}),\n",
       " Prediction(uid='A34EZR9D0O2OWM', iid='B00894WP4S', r_ui=5.0, est=4.087829094663095, details={'was_impossible': True, 'reason': 'User and/or item is unkown.'}),\n",
       " Prediction(uid='A1LD0LBMHCYTIY', iid='B004I4BS1E', r_ui=4.0, est=4.087829094663095, details={'was_impossible': True, 'reason': 'User and/or item is unkown.'}),\n",
       " Prediction(uid='A1KD3DXR4PB3CY', iid='B006U0Z3BA', r_ui=5.0, est=4.087829094663095, details={'was_impossible': True, 'reason': 'User and/or item is unkown.'}),\n",
       " Prediction(uid='A2N2S0AY3WH01K', iid='B000FGI970', r_ui=5.0, est=2.0, details={'actual_k': 0, 'was_impossible': False}),\n",
       " Prediction(uid='APOXJ8I6412IR', iid='B0012S4APK', r_ui=1.0, est=4.311485267588695, details={'actual_k': 0, 'was_impossible': False}),\n",
       " Prediction(uid='A13R7Q9PQ8VMEG', iid='B005VAORH6', r_ui=5.0, est=4.087829094663095, details={'was_impossible': True, 'reason': 'User and/or item is unkown.'}),\n",
       " Prediction(uid='A3G2A7TQG8O6P0', iid='B00A6Q596I', r_ui=4.0, est=3.42, details={'actual_k': 0, 'was_impossible': False}),\n",
       " Prediction(uid='AVPNQUVZWMDSX', iid='B00IF0JAYE', r_ui=4.0, est=3.803921568627451, details={'actual_k': 0, 'was_impossible': False}),\n",
       " Prediction(uid='A30ZBPB2CJFC5N', iid='B00E055H5O', r_ui=5.0, est=4.440273037542662, details={'actual_k': 0, 'was_impossible': False}),\n",
       " Prediction(uid='A5XXFQ6X1C6ED', iid='B0043T7FXE', r_ui=4.0, est=4.15020641938983, details={'actual_k': 1, 'was_impossible': False}),\n",
       " Prediction(uid='A2O55A4TVOPFC0', iid='B007P8I3K4', r_ui=1.0, est=4.087829094663095, details={'was_impossible': True, 'reason': 'User and/or item is unkown.'}),\n",
       " Prediction(uid='A3GAJAV1Y2P7BI', iid='B00AXX0IC4', r_ui=4.0, est=4.087829094663095, details={'was_impossible': True, 'reason': 'User and/or item is unkown.'}),\n",
       " Prediction(uid='A3OKQ4E1NQBAL4', iid='B003M6FDS8', r_ui=5.0, est=3.7752808988764044, details={'actual_k': 0, 'was_impossible': False}),\n",
       " Prediction(uid='A1LOJ7Q4MWU4R3', iid='B00946XHI8', r_ui=5.0, est=4.087829094663095, details={'was_impossible': True, 'reason': 'User and/or item is unkown.'}),\n",
       " Prediction(uid='A2GC9Z06NICRQB', iid='B0033QJLQW', r_ui=4.0, est=4.087829094663095, details={'was_impossible': True, 'reason': 'User and/or item is unkown.'}),\n",
       " Prediction(uid='A1A3C1I11F8EZ8', iid='B004RKQMCY', r_ui=5.0, est=4.087829094663095, details={'was_impossible': True, 'reason': 'User and/or item is unkown.'}),\n",
       " Prediction(uid='A2BIIBN7NHR02L', iid='B002RM08RE', r_ui=3.0, est=4.087829094663095, details={'was_impossible': True, 'reason': 'User and/or item is unkown.'}),\n",
       " Prediction(uid='A2YJULYUQTHM1U', iid='B007QXLIWI', r_ui=5.0, est=4.087829094663095, details={'was_impossible': True, 'reason': 'User and/or item is unkown.'}),\n",
       " Prediction(uid='A3KDLT3TTMCEP0', iid='B009RH9FR6', r_ui=1.0, est=4.087829094663095, details={'was_impossible': True, 'reason': 'User and/or item is unkown.'}),\n",
       " Prediction(uid='A2D5V7UF0FVYDE', iid='B0053R0WWG', r_ui=4.0, est=4.142857142857143, details={'actual_k': 0, 'was_impossible': False}),\n",
       " Prediction(uid='A9ZB8M4HJUADZ', iid='B007OY5V68', r_ui=4.0, est=4.087829094663095, details={'was_impossible': True, 'reason': 'User and/or item is unkown.'}),\n",
       " Prediction(uid='ACP47OHOBAI1T', iid='B003UI62AG', r_ui=3.0, est=4.329192546583851, details={'actual_k': 0, 'was_impossible': False}),\n",
       " Prediction(uid='ALL3BK2N5BWQT', iid='B00006I53X', r_ui=5.0, est=4.821428571428571, details={'actual_k': 0, 'was_impossible': False}),\n",
       " Prediction(uid='A1MJCRTF3E5175', iid='B00622AG6S', r_ui=5.0, est=4.087829094663095, details={'was_impossible': True, 'reason': 'User and/or item is unkown.'}),\n",
       " Prediction(uid='A1TA1YUF4V1YWC', iid='B000A6PPOK', r_ui=5.0, est=4.087829094663095, details={'was_impossible': True, 'reason': 'User and/or item is unkown.'}),\n",
       " Prediction(uid='A1DNYUT8CDE7KA', iid='B0046A8YEO', r_ui=5.0, est=4.087829094663095, details={'was_impossible': True, 'reason': 'User and/or item is unkown.'}),\n",
       " Prediction(uid='A208SS78LPC7CQ', iid='B008JCVF0U', r_ui=5.0, est=4.75, details={'actual_k': 0, 'was_impossible': False}),\n",
       " Prediction(uid='ADZ6PJXFK683T', iid='B00829THH8', r_ui=5.0, est=4.087829094663095, details={'was_impossible': True, 'reason': 'User and/or item is unkown.'}),\n",
       " Prediction(uid='ALSH1LV5KNX4X', iid='B00E98O7GC', r_ui=3.0, est=3.5814977973568283, details={'actual_k': 0, 'was_impossible': False}),\n",
       " Prediction(uid='A2SPGSRL88WYMU', iid='B002V88HFE', r_ui=5.0, est=4.087829094663095, details={'was_impossible': True, 'reason': 'User and/or item is unkown.'}),\n",
       " Prediction(uid='A3QT93NG02WH5O', iid='B00CP0I474', r_ui=4.0, est=4.087829094663095, details={'was_impossible': True, 'reason': 'User and/or item is unkown.'}),\n",
       " Prediction(uid='A1F0KYN8P5CNNP', iid='B003ZX1SXC', r_ui=1.0, est=4.087829094663095, details={'was_impossible': True, 'reason': 'User and/or item is unkown.'}),\n",
       " Prediction(uid='A3JPK9HG4GIWPF', iid='B009JQZDJO', r_ui=5.0, est=4.087829094663095, details={'was_impossible': True, 'reason': 'User and/or item is unkown.'}),\n",
       " Prediction(uid='ACR5PG21WL7UN', iid='B00902SFC4', r_ui=5.0, est=4.087829094663095, details={'was_impossible': True, 'reason': 'User and/or item is unkown.'}),\n",
       " Prediction(uid='A10KKXVXYCZYS8', iid='B00479SVBU', r_ui=5.0, est=4.2957198443579765, details={'actual_k': 0, 'was_impossible': False}),\n",
       " Prediction(uid='A1J1REA0KLLDN3', iid='B009SYZ8OC', r_ui=5.0, est=4.087829094663095, details={'was_impossible': True, 'reason': 'User and/or item is unkown.'}),\n",
       " Prediction(uid='A1KEA6WWLTTNKZ', iid='B0077CDC22', r_ui=5.0, est=4.325581395348837, details={'actual_k': 0, 'was_impossible': False}),\n",
       " Prediction(uid='AQMYLYYI3EXXM', iid='B005LJKEXS', r_ui=5.0, est=4.087829094663095, details={'was_impossible': True, 'reason': 'User and/or item is unkown.'}),\n",
       " Prediction(uid='A28YSR4BGB3I0X', iid='B000WYVBR0', r_ui=5.0, est=4.5843373493975905, details={'actual_k': 0, 'was_impossible': False}),\n",
       " Prediction(uid='A1QQQIZ0VC6Y25', iid='B00B9996LA', r_ui=3.0, est=4.087829094663095, details={'was_impossible': True, 'reason': 'User and/or item is unkown.'}),\n",
       " Prediction(uid='A2VH4AYXHAC6A2', iid='B006MRAVFE', r_ui=5.0, est=4.267175572519084, details={'actual_k': 0, 'was_impossible': False}),\n",
       " Prediction(uid='A3CP7N441354FD', iid='B00ACQ8KFO', r_ui=5.0, est=4.300699300699301, details={'actual_k': 0, 'was_impossible': False}),\n",
       " Prediction(uid='A36QKL2L1LQ670', iid='B004CRSM4I', r_ui=5.0, est=4.438356164383562, details={'actual_k': 0, 'was_impossible': False}),\n",
       " Prediction(uid='A1LYL8FOHFIONM', iid='B004UQ05M8', r_ui=3.0, est=4.087829094663095, details={'was_impossible': True, 'reason': 'User and/or item is unkown.'}),\n",
       " Prediction(uid='A13LHG5OSSEFMU', iid='B004E8WZXY', r_ui=5.0, est=4.087829094663095, details={'was_impossible': True, 'reason': 'User and/or item is unkown.'}),\n",
       " Prediction(uid='A2UCIZV8CTQ7T', iid='B00006FXR9', r_ui=4.0, est=4.087829094663095, details={'was_impossible': True, 'reason': 'User and/or item is unkown.'}),\n",
       " Prediction(uid='A3RM81YZ0654Q4', iid='B0014KOAD8', r_ui=5.0, est=4.087829094663095, details={'was_impossible': True, 'reason': 'User and/or item is unkown.'}),\n",
       " Prediction(uid='A273EDB9GDUIGR', iid='B0040JHVC2', r_ui=5.0, est=4.087829094663095, details={'was_impossible': True, 'reason': 'User and/or item is unkown.'}),\n",
       " Prediction(uid='ATNRS5K5085V4', iid='B003M0NT1M', r_ui=5.0, est=3.921787709497207, details={'actual_k': 0, 'was_impossible': False}),\n",
       " Prediction(uid='A18UAXI1SUSZ4T', iid='B004QK7HI8', r_ui=5.0, est=4.087829094663095, details={'was_impossible': True, 'reason': 'User and/or item is unkown.'}),\n",
       " Prediction(uid='A1IHQTIT2BHEV5', iid='B005HTIWF4', r_ui=1.0, est=4.087829094663095, details={'was_impossible': True, 'reason': 'User and/or item is unkown.'}),\n",
       " Prediction(uid='A3UXWGRPYD9RR8', iid='B004HBK4T0', r_ui=5.0, est=4.087829094663095, details={'was_impossible': True, 'reason': 'User and/or item is unkown.'}),\n",
       " Prediction(uid='A3POI3JEZR95H9', iid='B00AU0HMGA', r_ui=5.0, est=4.087829094663095, details={'was_impossible': True, 'reason': 'User and/or item is unkown.'}),\n",
       " Prediction(uid='A2EZ6V5XII8H28', iid='B003J8PCL2', r_ui=5.0, est=4.087829094663095, details={'was_impossible': True, 'reason': 'User and/or item is unkown.'}),\n",
       " Prediction(uid='ACPHSPE7I7Z3P', iid='B00EL0EIGC', r_ui=5.0, est=4.087829094663095, details={'was_impossible': True, 'reason': 'User and/or item is unkown.'}),\n",
       " Prediction(uid='A1DPIBS5KGAG38', iid='B004LTEUDO', r_ui=1.0, est=4.64613368283093, details={'actual_k': 0, 'was_impossible': False}),\n",
       " Prediction(uid='A1JSHOMVBEVDKM', iid='B006QOLYPO', r_ui=1.0, est=4.087829094663095, details={'was_impossible': True, 'reason': 'User and/or item is unkown.'}),\n",
       " Prediction(uid='ALCG8I2EMNAGR', iid='B0091UW7F6', r_ui=5.0, est=4.087829094663095, details={'was_impossible': True, 'reason': 'User and/or item is unkown.'}),\n",
       " Prediction(uid='A1KU0J97335AU', iid='B00BQ5RYI4', r_ui=5.0, est=4.087829094663095, details={'was_impossible': True, 'reason': 'User and/or item is unkown.'}),\n",
       " Prediction(uid='A2C1N7P9I7RSRI', iid='B0051UY168', r_ui=3.0, est=4.087829094663095, details={'was_impossible': True, 'reason': 'User and/or item is unkown.'}),\n",
       " Prediction(uid='A25UASK2J3XQ3W', iid='B007X6FCWA', r_ui=4.0, est=4.087829094663095, details={'was_impossible': True, 'reason': 'User and/or item is unkown.'}),\n",
       " Prediction(uid='A37Q7FZ9XE7LI', iid='B001FA1NK0', r_ui=5.0, est=4.087829094663095, details={'was_impossible': True, 'reason': 'User and/or item is unkown.'}),\n",
       " Prediction(uid='A1Y2BG1GPW1VT6', iid='B0064YWOQY', r_ui=4.0, est=4.421052631578948, details={'actual_k': 0, 'was_impossible': False}),\n",
       " Prediction(uid='A1MOWI8WIH5403', iid='B001EZRJZE', r_ui=3.0, est=4.087829094663095, details={'was_impossible': True, 'reason': 'User and/or item is unkown.'}),\n",
       " Prediction(uid='A3FNTZAHDW1Y4W', iid='B00519RW1U', r_ui=1.0, est=4.087829094663095, details={'was_impossible': True, 'reason': 'User and/or item is unkown.'}),\n",
       " Prediction(uid='A19B52R13WC1AE', iid='B00005LEOH', r_ui=5.0, est=4.882352941176471, details={'actual_k': 0, 'was_impossible': False}),\n",
       " Prediction(uid='A2YZW30K5FMG7P', iid='B0014T4S86', r_ui=4.0, est=4.087829094663095, details={'was_impossible': True, 'reason': 'User and/or item is unkown.'}),\n",
       " Prediction(uid='AI48YTT4FXVU', iid='B00336G7FA', r_ui=5.0, est=4.46969696969697, details={'actual_k': 0, 'was_impossible': False}),\n",
       " Prediction(uid='A1SX701I9Z8WXS', iid='B004TC4TVQ', r_ui=1.0, est=4.087829094663095, details={'was_impossible': True, 'reason': 'User and/or item is unkown.'}),\n",
       " Prediction(uid='A2MFR9BKSQV6EW', iid='B005FSJ6PM', r_ui=5.0, est=4.087829094663095, details={'was_impossible': True, 'reason': 'User and/or item is unkown.'}),\n",
       " Prediction(uid='A3QUKVDUAG6ZWU', iid='B004T9RR6I', r_ui=5.0, est=4.087829094663095, details={'was_impossible': True, 'reason': 'User and/or item is unkown.'}),\n",
       " Prediction(uid='A2KQ30R7NKMUO8', iid='B001A5FH9S', r_ui=4.0, est=4.087829094663095, details={'was_impossible': True, 'reason': 'User and/or item is unkown.'}),\n",
       " Prediction(uid='A1ED1NVJV7E0N4', iid='B0007MWE28', r_ui=1.0, est=4.087829094663095, details={'was_impossible': True, 'reason': 'User and/or item is unkown.'}),\n",
       " Prediction(uid='A27ZCJ7S25W86P', iid='B002WE6D44', r_ui=5.0, est=4.426204039357845, details={'actual_k': 0, 'was_impossible': False}),\n",
       " Prediction(uid='AEFZDACI00ZF0', iid='B00DR0PDNE', r_ui=2.0, est=4.087829094663095, details={'was_impossible': True, 'reason': 'User and/or item is unkown.'}),\n",
       " Prediction(uid='A3KY5GK2HRA255', iid='B00G4T8XX2', r_ui=5.0, est=4.087829094663095, details={'was_impossible': True, 'reason': 'User and/or item is unkown.'}),\n",
       " Prediction(uid='A3I0AGM20BDJ2C', iid='B00DR0PDNE', r_ui=5.0, est=4.087829094663095, details={'was_impossible': True, 'reason': 'User and/or item is unkown.'}),\n",
       " Prediction(uid='A2Q4FZILIDYCTZ', iid='B004431UBM', r_ui=4.0, est=4.10126582278481, details={'actual_k': 0, 'was_impossible': False}),\n",
       " Prediction(uid='A1AK24HIWGNHNT', iid='B004OF9XGO', r_ui=3.0, est=3.0384615384615383, details={'actual_k': 0, 'was_impossible': False}),\n",
       " Prediction(uid='A38Q2NV58ZN326', iid='B008FQMUL8', r_ui=5.0, est=4.087829094663095, details={'was_impossible': True, 'reason': 'User and/or item is unkown.'}),\n",
       " Prediction(uid='A2BJQB7W80E32Q', iid='B000VXQZA0', r_ui=5.0, est=4.087829094663095, details={'was_impossible': True, 'reason': 'User and/or item is unkown.'}),\n",
       " Prediction(uid='A3KGY50X64ZDLU', iid='B00365MF54', r_ui=2.0, est=4.087829094663095, details={'was_impossible': True, 'reason': 'User and/or item is unkown.'}),\n",
       " Prediction(uid='AMO6FKNH3RYPA', iid='B003LR7ME6', r_ui=5.0, est=4.087829094663095, details={'was_impossible': True, 'reason': 'User and/or item is unkown.'}),\n",
       " Prediction(uid='A3DAYSUK01NWKL', iid='B0042AM7HI', r_ui=4.0, est=4.087829094663095, details={'was_impossible': True, 'reason': 'User and/or item is unkown.'}),\n",
       " Prediction(uid='A3N6EDH29G0X79', iid='B005114J32', r_ui=5.0, est=4.087829094663095, details={'was_impossible': True, 'reason': 'User and/or item is unkown.'}),\n",
       " Prediction(uid='ALQQCTAHUJC5O', iid='B003ANK9ZA', r_ui=5.0, est=4.087829094663095, details={'was_impossible': True, 'reason': 'User and/or item is unkown.'}),\n",
       " Prediction(uid='A2OXRK4IFXQQIA', iid='B001MQ0ROU', r_ui=4.0, est=4.087829094663095, details={'was_impossible': True, 'reason': 'User and/or item is unkown.'}),\n",
       " Prediction(uid='A3MNE7TFBGZ38J', iid='B004BVALYY', r_ui=5.0, est=4.087829094663095, details={'was_impossible': True, 'reason': 'User and/or item is unkown.'}),\n",
       " Prediction(uid='A2OODRNYEY0BV1', iid='B00BQ8RFAI', r_ui=5.0, est=4.087829094663095, details={'was_impossible': True, 'reason': 'User and/or item is unkown.'}),\n",
       " Prediction(uid='A5YKSMA2ZLO1Y', iid='B002L6HE6E', r_ui=5.0, est=4.3478260869565215, details={'actual_k': 0, 'was_impossible': False}),\n",
       " Prediction(uid='A3NDE6TRCEI9NG', iid='B002LHG20W', r_ui=5.0, est=4.087829094663095, details={'was_impossible': True, 'reason': 'User and/or item is unkown.'}),\n",
       " Prediction(uid='A3DHVAJZP73RUS', iid='B003DZ165W', r_ui=5.0, est=4.087829094663095, details={'was_impossible': True, 'reason': 'User and/or item is unkown.'}),\n",
       " Prediction(uid='A3LPQ70G04JI0V', iid='B001LXMF80', r_ui=4.0, est=4.087829094663095, details={'was_impossible': True, 'reason': 'User and/or item is unkown.'}),\n",
       " Prediction(uid='A3K3B1O9LCQR2D', iid='B00902SJY8', r_ui=5.0, est=4.087829094663095, details={'was_impossible': True, 'reason': 'User and/or item is unkown.'}),\n",
       " Prediction(uid='A1X8C0ZQIGHP48', iid='B003B3P2D8', r_ui=2.0, est=3.0166666666666666, details={'actual_k': 0, 'was_impossible': False}),\n",
       " Prediction(uid='A3QZ63MPY8HPPZ', iid='B000IBROQE', r_ui=5.0, est=4.087829094663095, details={'was_impossible': True, 'reason': 'User and/or item is unkown.'}),\n",
       " Prediction(uid='A1966PM6J5S3QX', iid='B00AR95H0W', r_ui=5.0, est=4.087829094663095, details={'was_impossible': True, 'reason': 'User and/or item is unkown.'}),\n",
       " Prediction(uid='A23K2ITR2KR0P9', iid='B002HWRJY4', r_ui=3.0, est=3.675675675675676, details={'actual_k': 0, 'was_impossible': False}),\n",
       " Prediction(uid='A13NJNJDUMJX7F', iid='B00752VKFA', r_ui=4.0, est=4.15, details={'actual_k': 0, 'was_impossible': False}),\n",
       " Prediction(uid='A3AUFA406H2KP8', iid='B001HSOFI2', r_ui=3.0, est=4.087829094663095, details={'was_impossible': True, 'reason': 'User and/or item is unkown.'}),\n",
       " Prediction(uid='A1QSD45V6PQU5C', iid='B00007EDM8', r_ui=5.0, est=4.087829094663095, details={'was_impossible': True, 'reason': 'User and/or item is unkown.'}),\n",
       " Prediction(uid='A383Q6MJS2ZH3R', iid='B004ZMICYA', r_ui=3.0, est=4.087829094663095, details={'was_impossible': True, 'reason': 'User and/or item is unkown.'}),\n",
       " Prediction(uid='A1MLVQ20U6X3ZC', iid='B000WAT79S', r_ui=3.0, est=3.876923076923077, details={'actual_k': 0, 'was_impossible': False}),\n",
       " Prediction(uid='A23YJ3OA2PCROS', iid='B003LLEG00', r_ui=4.0, est=3.4, details={'actual_k': 0, 'was_impossible': False}),\n",
       " Prediction(uid='ACPJMIYXLANA9', iid='B00B9DQ2QI', r_ui=5.0, est=3.9586206896551723, details={'actual_k': 0, 'was_impossible': False}),\n",
       " Prediction(uid='A10H1P7TOG8W02', iid='B0013IWYHU', r_ui=5.0, est=4.261904761904761, details={'actual_k': 1, 'was_impossible': False}),\n",
       " Prediction(uid='A1JPXLMZATMS3S', iid='B0012GQZZU', r_ui=5.0, est=4.087829094663095, details={'was_impossible': True, 'reason': 'User and/or item is unkown.'}),\n",
       " Prediction(uid='A1LLQI5IBP4SVQ', iid='B000ENUCR4', r_ui=5.0, est=4.53, details={'actual_k': 0, 'was_impossible': False}),\n",
       " Prediction(uid='A1U0MR11TZHQGW', iid='B0019EHU8G', r_ui=4.0, est=4.744630071599046, details={'actual_k': 0, 'was_impossible': False}),\n",
       " Prediction(uid='A3EEY4ZG95OKHT', iid='B007LOLVLU', r_ui=5.0, est=3.6714801444043323, details={'actual_k': 0, 'was_impossible': False}),\n",
       " Prediction(uid='A1S22HSK78OR67', iid='B0030ITZ0A', r_ui=1.0, est=4.087829094663095, details={'was_impossible': True, 'reason': 'User and/or item is unkown.'}),\n",
       " Prediction(uid='AN85OUBU89QFC', iid='B003L89SU6', r_ui=5.0, est=4.0285714285714285, details={'actual_k': 0, 'was_impossible': False}),\n",
       " Prediction(uid='A63E3J36TR0WR', iid='B004G6002M', r_ui=4.0, est=4.087829094663095, details={'was_impossible': True, 'reason': 'User and/or item is unkown.'}),\n",
       " Prediction(uid='A9C2Z51HUAKG5', iid='B000FNDWLQ', r_ui=1.0, est=4.087829094663095, details={'was_impossible': True, 'reason': 'User and/or item is unkown.'}),\n",
       " Prediction(uid='A17X3RP1XWAONC', iid='B0012S4APK', r_ui=5.0, est=4.311485267588695, details={'actual_k': 0, 'was_impossible': False}),\n",
       " Prediction(uid='A1WX26KZFGRSBZ', iid='B00AWBHFRI', r_ui=5.0, est=4.087829094663095, details={'was_impossible': True, 'reason': 'User and/or item is unkown.'}),\n",
       " Prediction(uid='A11C0JJZK1B5I9', iid='B0089DZNS4', r_ui=4.0, est=4.434782608695652, details={'actual_k': 0, 'was_impossible': False}),\n",
       " Prediction(uid='A3APX1DSTILLRJ', iid='B004QK7HI8', r_ui=5.0, est=5, details={'actual_k': 1, 'was_impossible': False}),\n",
       " Prediction(uid='A2FBZA6W4LSC5R', iid='B00CO07C5U', r_ui=5.0, est=4.087829094663095, details={'was_impossible': True, 'reason': 'User and/or item is unkown.'}),\n",
       " Prediction(uid='A1PL7QILVQV3IF', iid='B00140DBRY', r_ui=4.0, est=4.017123287671233, details={'actual_k': 0, 'was_impossible': False}),\n",
       " Prediction(uid='A2OWYB3BK4131B', iid='B000N53T0K', r_ui=5.0, est=4.6, details={'actual_k': 0, 'was_impossible': False}),\n",
       " Prediction(uid='AC0QNBQB1V5CG', iid='B000BI7NHY', r_ui=5.0, est=3.6557377049180326, details={'actual_k': 0, 'was_impossible': False}),\n",
       " Prediction(uid='A13R10TDSBM4GA', iid='B00DR0B7Y8', r_ui=3.0, est=4.127906976744186, details={'actual_k': 0, 'was_impossible': False}),\n",
       " Prediction(uid='A2VJHX9FV38N56', iid='B005QFH86S', r_ui=4.0, est=4.0424354243542435, details={'actual_k': 0, 'was_impossible': False}),\n",
       " Prediction(uid='A2JZ6MJ1L09ZCD', iid='B00ELPIWIC', r_ui=5.0, est=4.087829094663095, details={'was_impossible': True, 'reason': 'User and/or item is unkown.'}),\n",
       " Prediction(uid='AGZ8SHNBT75J2', iid='B004Z57YJQ', r_ui=1.0, est=4.087829094663095, details={'was_impossible': True, 'reason': 'User and/or item is unkown.'}),\n",
       " Prediction(uid='A2J46GVA4L1J0D', iid='B008FO7PQA', r_ui=5.0, est=4.0, details={'actual_k': 0, 'was_impossible': False}),\n",
       " Prediction(uid='AMOXO64D8SEPM', iid='B00029U1DK', r_ui=5.0, est=4.087829094663095, details={'was_impossible': True, 'reason': 'User and/or item is unkown.'}),\n",
       " Prediction(uid='AJ7O85J60B4K3', iid='B0007NWL70', r_ui=5.0, est=4.459595959595959, details={'actual_k': 0, 'was_impossible': False}),\n",
       " Prediction(uid='A2GU9Q1B5F7KQX', iid='B0058VIWTM', r_ui=3.0, est=4.433333333333334, details={'actual_k': 0, 'was_impossible': False}),\n",
       " Prediction(uid='AWA3JDMMR8D5X', iid='B007WTAJTO', r_ui=5.0, est=4.429579120620739, details={'actual_k': 0, 'was_impossible': False}),\n",
       " Prediction(uid='AIMDAPUZHONCK', iid='B005QFH86S', r_ui=4.0, est=4.0424354243542435, details={'actual_k': 0, 'was_impossible': False}),\n",
       " Prediction(uid='A38HYMNPIZY482', iid='B00CXAPQRM', r_ui=2.0, est=4.087829094663095, details={'was_impossible': True, 'reason': 'User and/or item is unkown.'}),\n",
       " Prediction(uid='A27NY6JY60Q136', iid='B002SZEOLG', r_ui=5.0, est=4.111801242236025, details={'actual_k': 0, 'was_impossible': False}),\n",
       " Prediction(uid='A10OYC2W3E9R4P', iid='B003ZX8B2S', r_ui=4.0, est=4.087829094663095, details={'was_impossible': True, 'reason': 'User and/or item is unkown.'}),\n",
       " Prediction(uid='A10US3VTHX0ODK', iid='B002HWRJY4', r_ui=5.0, est=4.087829094663095, details={'was_impossible': True, 'reason': 'User and/or item is unkown.'}),\n",
       " Prediction(uid='A13GI1AA26PH9T', iid='B004GYE7LO', r_ui=5.0, est=4.087829094663095, details={'was_impossible': True, 'reason': 'User and/or item is unkown.'}),\n",
       " Prediction(uid='A3J656V8OR08Z3', iid='B000I4UQL6', r_ui=2.0, est=3.973333333333333, details={'actual_k': 0, 'was_impossible': False}),\n",
       " Prediction(uid='AJ0FBL0B7FAR6', iid='B00GTGETFG', r_ui=5.0, est=4.6658506731946146, details={'actual_k': 0, 'was_impossible': False}),\n",
       " Prediction(uid='A1LA8OLDZES54W', iid='B0091PEC3Q', r_ui=5.0, est=4.087829094663095, details={'was_impossible': True, 'reason': 'User and/or item is unkown.'}),\n",
       " Prediction(uid='A2NT57L4YICT33', iid='B007KGLPJM', r_ui=4.0, est=4.087829094663095, details={'was_impossible': True, 'reason': 'User and/or item is unkown.'}),\n",
       " Prediction(uid='A29XFQ3JCXGW85', iid='B00A39PPCG', r_ui=4.0, est=4.7725118483412325, details={'actual_k': 0, 'was_impossible': False}),\n",
       " Prediction(uid='A17LFVYJU5RI1K', iid='B005PC7VG4', r_ui=5.0, est=4.33659217877095, details={'actual_k': 0, 'was_impossible': False}),\n",
       " Prediction(uid='A32ARAHZPZQEZ2', iid='B003ZUIHY8', r_ui=5.0, est=4.087829094663095, details={'was_impossible': True, 'reason': 'User and/or item is unkown.'}),\n",
       " Prediction(uid='A2K3HHW1LVCPJV', iid='B000OV74CC', r_ui=3.0, est=4.087829094663095, details={'was_impossible': True, 'reason': 'User and/or item is unkown.'}),\n",
       " Prediction(uid='A3BY23C2DLZ5Y1', iid='B00951ULKO', r_ui=4.0, est=4.518245387237043, details={'actual_k': 1, 'was_impossible': False}),\n",
       " Prediction(uid='A2GYB9NQ0ZNERD', iid='B002WPSS28', r_ui=5.0, est=4.087829094663095, details={'was_impossible': True, 'reason': 'User and/or item is unkown.'}),\n",
       " Prediction(uid='A23KJDSDSU3P1Y', iid='B004P1IU5C', r_ui=4.0, est=4.087829094663095, details={'was_impossible': True, 'reason': 'User and/or item is unkown.'}),\n",
       " Prediction(uid='A245ZZEBKNQOKZ', iid='B008QWEKO6', r_ui=4.0, est=4.087829094663095, details={'was_impossible': True, 'reason': 'User and/or item is unkown.'}),\n",
       " Prediction(uid='A3LYR0XY0ESVE3', iid='B00D5T3QK4', r_ui=5.0, est=4.087829094663095, details={'was_impossible': True, 'reason': 'User and/or item is unkown.'}),\n",
       " Prediction(uid='A1LKOHK7DZQ4M4', iid='B009D79VH4', r_ui=4.0, est=4.554945054945055, details={'actual_k': 0, 'was_impossible': False}),\n",
       " Prediction(uid='A1BPEM2Z75RAFF', iid='B000QD7B6W', r_ui=5.0, est=4.087829094663095, details={'was_impossible': True, 'reason': 'User and/or item is unkown.'}),\n",
       " Prediction(uid='A347S2EMXPKHXA', iid='B002ZLOR56', r_ui=3.0, est=4.341463414634147, details={'actual_k': 0, 'was_impossible': False}),\n",
       " Prediction(uid='A3T0ZHLZENTDOH', iid='B005KFONIU', r_ui=5.0, est=4.087829094663095, details={'was_impossible': True, 'reason': 'User and/or item is unkown.'}),\n",
       " Prediction(uid='A7YEDZCTR2ISG', iid='B001F9DJOO', r_ui=1.0, est=4.087829094663095, details={'was_impossible': True, 'reason': 'User and/or item is unkown.'}),\n",
       " Prediction(uid='A2180DX6EIK3I2', iid='B000NG67E4', r_ui=5.0, est=4.508196721311475, details={'actual_k': 0, 'was_impossible': False}),\n",
       " Prediction(uid='A1EOMH79B2ES81', iid='B003SQ1JTY', r_ui=5.0, est=4.604651162790698, details={'actual_k': 0, 'was_impossible': False}),\n",
       " Prediction(uid='ACWTB5HDZQCNM', iid='B0054JJ0QW', r_ui=5.0, est=4.087829094663095, details={'was_impossible': True, 'reason': 'User and/or item is unkown.'}),\n",
       " Prediction(uid='A1BL6CVVFRQCHE', iid='B005MKH1XC', r_ui=5.0, est=4.087829094663095, details={'was_impossible': True, 'reason': 'User and/or item is unkown.'}),\n",
       " Prediction(uid='A5U0FSWB9ZF2H', iid='B000RZNI4S', r_ui=4.0, est=4.52, details={'actual_k': 0, 'was_impossible': False}),\n",
       " Prediction(uid='A1I6T1ZVY1Q60K', iid='B00007EDZG', r_ui=5.0, est=4.087829094663095, details={'was_impossible': True, 'reason': 'User and/or item is unkown.'}),\n",
       " Prediction(uid='A1Y68QOQ1FDTE5', iid='B0074BW614', r_ui=5.0, est=4.087829094663095, details={'was_impossible': True, 'reason': 'User and/or item is unkown.'}),\n",
       " Prediction(uid='AD1NJJ2HQ96P6', iid='B0013FRNKG', r_ui=4.0, est=4.342210386151797, details={'actual_k': 0, 'was_impossible': False}),\n",
       " Prediction(uid='A2N7FPJRV95CX1', iid='B0075SUK14', r_ui=4.0, est=2.9568805377565823, details={'actual_k': 1, 'was_impossible': False}),\n",
       " Prediction(uid='AKPT55GUX5UWB', iid='B000NDBRJC', r_ui=5.0, est=3.759259259259259, details={'actual_k': 0, 'was_impossible': False}),\n",
       " Prediction(uid='A1G78HUO7DGDMJ', iid='B004OB0EBQ', r_ui=3.0, est=4.087829094663095, details={'was_impossible': True, 'reason': 'User and/or item is unkown.'}),\n",
       " Prediction(uid='A14KYPGTJWC6DC', iid='B007HZLLOK', r_ui=4.0, est=4.087829094663095, details={'was_impossible': True, 'reason': 'User and/or item is unkown.'}),\n",
       " Prediction(uid='AWKN3H4EDQMON', iid='B004YAYM06', r_ui=5.0, est=3.7350835322195706, details={'actual_k': 0, 'was_impossible': False}),\n",
       " Prediction(uid='A15B3UQ64T9WUR', iid='B0088PUEPK', r_ui=5.0, est=4.614832535885167, details={'actual_k': 0, 'was_impossible': False}),\n",
       " Prediction(uid='A1UIX095T7N0E2', iid='B005CPGHAA', r_ui=4.0, est=3.895465994962217, details={'actual_k': 0, 'was_impossible': False}),\n",
       " Prediction(uid='A353860JMQ7MB4', iid='B0041MY32Y', r_ui=4.0, est=4.218487394957983, details={'actual_k': 0, 'was_impossible': False}),\n",
       " Prediction(uid='AU4OS9BYY6NJC', iid='B007PE3FC4', r_ui=1.0, est=4.087829094663095, details={'was_impossible': True, 'reason': 'User and/or item is unkown.'}),\n",
       " Prediction(uid='A2MO60L8NZFYNE', iid='B007STXESQ', r_ui=1.0, est=4.087829094663095, details={'was_impossible': True, 'reason': 'User and/or item is unkown.'}),\n",
       " Prediction(uid='A75C7OH10SLKY', iid='B008GGB342', r_ui=5.0, est=3.1328125, details={'actual_k': 0, 'was_impossible': False}),\n",
       " Prediction(uid='A2D40PY97QT5SF', iid='B0001FTVEK', r_ui=2.0, est=4.087829094663095, details={'was_impossible': True, 'reason': 'User and/or item is unkown.'}),\n",
       " Prediction(uid='A3UC5QBSBU8ZFS', iid='B002VEC45W', r_ui=5.0, est=4.087829094663095, details={'was_impossible': True, 'reason': 'User and/or item is unkown.'}),\n",
       " Prediction(uid='ACOXSSDXAX0D3', iid='B006TZM6XO', r_ui=5.0, est=4.087829094663095, details={'was_impossible': True, 'reason': 'User and/or item is unkown.'}),\n",
       " Prediction(uid='A1BPCJ8EY2C8VL', iid='B000E8SY5G', r_ui=5.0, est=4.087829094663095, details={'was_impossible': True, 'reason': 'User and/or item is unkown.'}),\n",
       " Prediction(uid='A36CQM1KXV7GCS', iid='B004QISZX6', r_ui=4.0, est=3.5, details={'actual_k': 0, 'was_impossible': False}),\n",
       " Prediction(uid='A1XUKR6MLYO2PQ', iid='B001DJJO2W', r_ui=3.0, est=4.087829094663095, details={'was_impossible': True, 'reason': 'User and/or item is unkown.'}),\n",
       " Prediction(uid='A32RURLFSCQ1Q5', iid='B00COEBCXY', r_ui=1.0, est=4.416666666666667, details={'actual_k': 0, 'was_impossible': False}),\n",
       " Prediction(uid='A38NCS5IVQ6F7Q', iid='B0011N180Q', r_ui=1.0, est=4.087829094663095, details={'was_impossible': True, 'reason': 'User and/or item is unkown.'}),\n",
       " Prediction(uid='A3KIN72NCGH9VA', iid='B00008VF5W', r_ui=1.0, est=4.087829094663095, details={'was_impossible': True, 'reason': 'User and/or item is unkown.'}),\n",
       " Prediction(uid='A1S62GUG5M31J7', iid='B000O7LEG8', r_ui=5.0, est=4.087829094663095, details={'was_impossible': True, 'reason': 'User and/or item is unkown.'}),\n",
       " Prediction(uid='A55KZDCOK8TRL', iid='B0075Z2SMG', r_ui=5.0, est=4.087829094663095, details={'was_impossible': True, 'reason': 'User and/or item is unkown.'}),\n",
       " Prediction(uid='A1BJUMKKRLK9XX', iid='B001Q3MA80', r_ui=4.0, est=4.393939393939394, details={'actual_k': 0, 'was_impossible': False}),\n",
       " Prediction(uid='A162BDXN9Q9XMD', iid='B0049MPQA4', r_ui=5.0, est=4.087829094663095, details={'was_impossible': True, 'reason': 'User and/or item is unkown.'}),\n",
       " Prediction(uid='A1IXIO67XIFW8V', iid='B0028YB8MA', r_ui=4.0, est=4.087829094663095, details={'was_impossible': True, 'reason': 'User and/or item is unkown.'}),\n",
       " Prediction(uid='AHF361GC0S8HR', iid='B006GWO5WK', r_ui=2.0, est=4.087829094663095, details={'was_impossible': True, 'reason': 'User and/or item is unkown.'}),\n",
       " Prediction(uid='A1MYXK6EEPB35P', iid='B009D79VH4', r_ui=5.0, est=4.554945054945055, details={'actual_k': 0, 'was_impossible': False}),\n",
       " Prediction(uid='A3FELSCD7DJCTP', iid='B00BVGF6JC', r_ui=5.0, est=4.087829094663095, details={'was_impossible': True, 'reason': 'User and/or item is unkown.'}),\n",
       " Prediction(uid='A2V08GJAEDD6GC', iid='B00413PHDM', r_ui=5.0, est=4.407079646017699, details={'actual_k': 0, 'was_impossible': False}),\n",
       " Prediction(uid='A25X9GIVVOGA24', iid='B001078FV8', r_ui=1.0, est=4.087829094663095, details={'was_impossible': True, 'reason': 'User and/or item is unkown.'}),\n",
       " Prediction(uid='A1NPM1PX6MAK5E', iid='B00AGA6FLC', r_ui=4.0, est=4.0828402366863905, details={'actual_k': 0, 'was_impossible': False}),\n",
       " Prediction(uid='AP631SCE319CT', iid='B003ES5ZUU', r_ui=5.0, est=4.718031725477501, details={'actual_k': 0, 'was_impossible': False}),\n",
       " Prediction(uid='A3A4LPAJJ0WDIO', iid='B000067RVL', r_ui=5.0, est=4.087829094663095, details={'was_impossible': True, 'reason': 'User and/or item is unkown.'}),\n",
       " Prediction(uid='A3F70GRC3GHYSN', iid='B00FWZVMO6', r_ui=5.0, est=4.087829094663095, details={'was_impossible': True, 'reason': 'User and/or item is unkown.'}),\n",
       " Prediction(uid='AE5ASJU6UAYQ7', iid='B00GX05NDU', r_ui=5.0, est=4.087829094663095, details={'was_impossible': True, 'reason': 'User and/or item is unkown.'}),\n",
       " Prediction(uid='A85Z1V5BNAC40', iid='B007NKGA5Y', r_ui=5.0, est=4.087829094663095, details={'was_impossible': True, 'reason': 'User and/or item is unkown.'}),\n",
       " Prediction(uid='A38FR90W06FI1C', iid='B001AAVA08', r_ui=2.0, est=4.087829094663095, details={'was_impossible': True, 'reason': 'User and/or item is unkown.'}),\n",
       " Prediction(uid='A35KU7MRCLYOWQ', iid='B006IHRNUY', r_ui=5.0, est=4.594444444444444, details={'actual_k': 0, 'was_impossible': False}),\n",
       " Prediction(uid='A2ZCU5C6WOP73', iid='B000LRMS66', r_ui=5.0, est=4.087829094663095, details={'was_impossible': True, 'reason': 'User and/or item is unkown.'}),\n",
       " Prediction(uid='A2MA8847SXH9GG', iid='B00CO8TBOW', r_ui=5.0, est=4.087829094663095, details={'was_impossible': True, 'reason': 'User and/or item is unkown.'}),\n",
       " Prediction(uid='A313SF5ZB9WK9W', iid='B002RM08RE', r_ui=4.0, est=4.087829094663095, details={'was_impossible': True, 'reason': 'User and/or item is unkown.'}),\n",
       " Prediction(uid='A8J5Z3RHHEOXW', iid='B0096YOQRY', r_ui=5.0, est=4.087829094663095, details={'was_impossible': True, 'reason': 'User and/or item is unkown.'}),\n",
       " Prediction(uid='A834T57937FWB', iid='B001TH7GUU', r_ui=5.0, est=5, details={'actual_k': 1, 'was_impossible': False}),\n",
       " Prediction(uid='A1TILV3J86FCDO', iid='B0041OSQB6', r_ui=4.0, est=4.087829094663095, details={'was_impossible': True, 'reason': 'User and/or item is unkown.'}),\n",
       " Prediction(uid='A5ODY0Z76HTMN', iid='B0073FE1F0', r_ui=5.0, est=4.4075723830734965, details={'actual_k': 0, 'was_impossible': False}),\n",
       " Prediction(uid='A2YELHLDW4RPLT', iid='B009YXE8G6', r_ui=5.0, est=4.087829094663095, details={'was_impossible': True, 'reason': 'User and/or item is unkown.'}),\n",
       " Prediction(uid='A35W019Y9DHSC2', iid='B002L6HECS', r_ui=3.0, est=4.087829094663095, details={'was_impossible': True, 'reason': 'User and/or item is unkown.'}),\n",
       " Prediction(uid='A35NAFXV5GHZ92', iid='B005VFG06W', r_ui=5.0, est=4.561797752808989, details={'actual_k': 0, 'was_impossible': False}),\n",
       " Prediction(uid='AR1MQAJK70YYU', iid='B001342KM8', r_ui=5.0, est=4.087829094663095, details={'was_impossible': True, 'reason': 'User and/or item is unkown.'}),\n",
       " Prediction(uid='A3FNBFQPPPVBUF', iid='B00AANMVNQ', r_ui=5.0, est=4.087829094663095, details={'was_impossible': True, 'reason': 'User and/or item is unkown.'}),\n",
       " Prediction(uid='A168RGKAZ41A0L', iid='B000067G0J', r_ui=2.0, est=3.109090909090909, details={'actual_k': 0, 'was_impossible': False}),\n",
       " Prediction(uid='A2JB0JIUOWA2CE', iid='B00429N160', r_ui=5.0, est=4.35, details={'actual_k': 0, 'was_impossible': False}),\n",
       " Prediction(uid='A10JM00FAPR5M1', iid='B005FVNGRI', r_ui=1.0, est=4.087829094663095, details={'was_impossible': True, 'reason': 'User and/or item is unkown.'}),\n",
       " Prediction(uid='A1K0IU54VU3H4', iid='B001MSVPM6', r_ui=5.0, est=4.74, details={'actual_k': 0, 'was_impossible': False}),\n",
       " Prediction(uid='A2D10VPNHMYEA3', iid='B004W2JKWG', r_ui=5.0, est=4.087829094663095, details={'was_impossible': True, 'reason': 'User and/or item is unkown.'}),\n",
       " Prediction(uid='AHTQ2HPEWX2RL', iid='B001F9DJOO', r_ui=1.0, est=4.087829094663095, details={'was_impossible': True, 'reason': 'User and/or item is unkown.'}),\n",
       " Prediction(uid='APCZW79IZG9AF', iid='B007PYY8K2', r_ui=5.0, est=4.087829094663095, details={'was_impossible': True, 'reason': 'User and/or item is unkown.'}),\n",
       " Prediction(uid='A1R0B7N4SSAD2M', iid='B005ITRJJI', r_ui=4.0, est=4.087829094663095, details={'was_impossible': True, 'reason': 'User and/or item is unkown.'}),\n",
       " Prediction(uid='ACIOCZ1DQVV0E', iid='B008P7GNLU', r_ui=3.0, est=4.087829094663095, details={'was_impossible': True, 'reason': 'User and/or item is unkown.'}),\n",
       " Prediction(uid='A276TRY7UCHUZ4', iid='B00752R4PK', r_ui=5.0, est=4.075453610409323, details={'actual_k': 1, 'was_impossible': False}),\n",
       " Prediction(uid='A2M1V4CNCT992N', iid='B009T3AHW0', r_ui=4.0, est=4.087829094663095, details={'was_impossible': True, 'reason': 'User and/or item is unkown.'}),\n",
       " Prediction(uid='A2NNZ3XCS1R0XF', iid='B003B2GTY0', r_ui=5.0, est=4.087829094663095, details={'was_impossible': True, 'reason': 'User and/or item is unkown.'}),\n",
       " Prediction(uid='A3KSMK1D9WJISC', iid='B002V88HFE', r_ui=5.0, est=4.690459363957597, details={'actual_k': 0, 'was_impossible': False}),\n",
       " Prediction(uid='A2IK5N365UXYK7', iid='B004R1PWCO', r_ui=2.0, est=4.087829094663095, details={'was_impossible': True, 'reason': 'User and/or item is unkown.'}),\n",
       " Prediction(uid='A2FFMN0MX2VT85', iid='B00AWKC0EC', r_ui=1.0, est=4.087829094663095, details={'was_impossible': True, 'reason': 'User and/or item is unkown.'}),\n",
       " Prediction(uid='A1T9M8SZ83N0C7', iid='B00BYRPM9M', r_ui=5.0, est=4.087829094663095, details={'was_impossible': True, 'reason': 'User and/or item is unkown.'}),\n",
       " Prediction(uid='A1XYTQLXPQ0L9B', iid='B004K2Z4MS', r_ui=5.0, est=4.188679245283019, details={'actual_k': 0, 'was_impossible': False}),\n",
       " Prediction(uid='AQFDNWPXY2H7X', iid='B002WN1GOW', r_ui=5.0, est=4.087829094663095, details={'was_impossible': True, 'reason': 'User and/or item is unkown.'}),\n",
       " Prediction(uid='A2J195TDADQWX3', iid='B002LITI7K', r_ui=2.0, est=4.087829094663095, details={'was_impossible': True, 'reason': 'User and/or item is unkown.'}),\n",
       " Prediction(uid='A29ZWFNOS1U3CJ', iid='B00BQ5RYI4', r_ui=3.0, est=4.087829094663095, details={'was_impossible': True, 'reason': 'User and/or item is unkown.'}),\n",
       " Prediction(uid='A181CGZOYD9KJR', iid='B00A6U6CK6', r_ui=5.0, est=4.087829094663095, details={'was_impossible': True, 'reason': 'User and/or item is unkown.'}),\n",
       " Prediction(uid='A3FB6L5QU6NZCC', iid='B005NF5NTK', r_ui=5.0, est=4.087829094663095, details={'was_impossible': True, 'reason': 'User and/or item is unkown.'}),\n",
       " Prediction(uid='A2429LA05XKCGW', iid='B0090I46U8', r_ui=3.0, est=3.9411764705882355, details={'actual_k': 0, 'was_impossible': False}),\n",
       " Prediction(uid='A2Q2534AMYBOMU', iid='B008KYKY0O', r_ui=1.0, est=4.087829094663095, details={'was_impossible': True, 'reason': 'User and/or item is unkown.'}),\n",
       " Prediction(uid='ANKILCDFEY91N', iid='B00B2166BS', r_ui=5.0, est=4.484848484848484, details={'actual_k': 0, 'was_impossible': False}),\n",
       " Prediction(uid='A2PSDAO0A3SVT4', iid='B007B5POVC', r_ui=5.0, est=4.523489932885906, details={'actual_k': 0, 'was_impossible': False}),\n",
       " Prediction(uid='A3MEYI6FM4JFU4', iid='B0050P19LY', r_ui=3.0, est=4.087829094663095, details={'was_impossible': True, 'reason': 'User and/or item is unkown.'}),\n",
       " Prediction(uid='A24571LLAR7790', iid='B004T9RR6I', r_ui=5.0, est=3.509394572025052, details={'actual_k': 0, 'was_impossible': False}),\n",
       " Prediction(uid='A1RB6XM0NB7W13', iid='B002C7481G', r_ui=5.0, est=4.087829094663095, details={'was_impossible': True, 'reason': 'User and/or item is unkown.'}),\n",
       " Prediction(uid='A3CJJJGJR75GZX', iid='B001A4HAFS', r_ui=1.0, est=4.198347107438017, details={'actual_k': 0, 'was_impossible': False}),\n",
       " Prediction(uid='A8E2FW6DCDDXN', iid='B0015ACUKC', r_ui=5.0, est=3.5027624309392267, details={'actual_k': 0, 'was_impossible': False}),\n",
       " Prediction(uid='A1IFAUH4DFM0QJ', iid='B006P88VSE', r_ui=5.0, est=4.087829094663095, details={'was_impossible': True, 'reason': 'User and/or item is unkown.'}),\n",
       " Prediction(uid='A30RIYXD4ULQ85', iid='B00006I5J7', r_ui=5.0, est=4.087829094663095, details={'was_impossible': True, 'reason': 'User and/or item is unkown.'}),\n",
       " Prediction(uid='ANY0YPK9N6SXQ', iid='B00BGA9WK2', r_ui=4.0, est=4.101216333622936, details={'actual_k': 0, 'was_impossible': False}),\n",
       " Prediction(uid='A8N26OOIFGYIC', iid='B0009RGLSE', r_ui=5.0, est=4.087829094663095, details={'was_impossible': True, 'reason': 'User and/or item is unkown.'}),\n",
       " Prediction(uid='A2OH86EIDAXMAZ', iid='B00AJHDZSI', r_ui=5.0, est=4.087829094663095, details={'was_impossible': True, 'reason': 'User and/or item is unkown.'}),\n",
       " Prediction(uid='A382WQJ4O61EFZ', iid='B0032HM6JG', r_ui=5.0, est=4.087829094663095, details={'was_impossible': True, 'reason': 'User and/or item is unkown.'}),\n",
       " Prediction(uid='A26DXTBQO0SGW4', iid='B002M3SHXA', r_ui=4.0, est=4.346246973365617, details={'actual_k': 0, 'was_impossible': False}),\n",
       " Prediction(uid='AT9ROP62S1JTI', iid='B0015YRMXI', r_ui=5.0, est=3.5186915887850465, details={'actual_k': 0, 'was_impossible': False}),\n",
       " Prediction(uid='A2FJTL4A56N7YS', iid='B00434OWDA', r_ui=4.0, est=4.087829094663095, details={'was_impossible': True, 'reason': 'User and/or item is unkown.'}),\n",
       " Prediction(uid='A1T2CM7TPQRQQU', iid='B0096YOQQA', r_ui=5.0, est=3.9755434782608696, details={'actual_k': 0, 'was_impossible': False}),\n",
       " Prediction(uid='A27DN0G7EZZJTS', iid='B003GGXGU6', r_ui=5.0, est=4.087829094663095, details={'was_impossible': True, 'reason': 'User and/or item is unkown.'}),\n",
       " Prediction(uid='AM2R6PTJ8IDZZ', iid='B006R2N8VS', r_ui=2.0, est=4.087829094663095, details={'was_impossible': True, 'reason': 'User and/or item is unkown.'}),\n",
       " Prediction(uid='A1I6UDKZ138TBY', iid='B002N8A14M', r_ui=4.0, est=4.087829094663095, details={'was_impossible': True, 'reason': 'User and/or item is unkown.'}),\n",
       " Prediction(uid='A2TWAW5V288HS0', iid='B000BWACX2', r_ui=5.0, est=4.087829094663095, details={'was_impossible': True, 'reason': 'User and/or item is unkown.'}),\n",
       " Prediction(uid='AEQ3GJEFXCMWB', iid='B003JOCR14', r_ui=5.0, est=4.087829094663095, details={'was_impossible': True, 'reason': 'User and/or item is unkown.'}),\n",
       " Prediction(uid='A3R931MPZIGWC6', iid='B00D1306AC', r_ui=5.0, est=4.315789473684211, details={'actual_k': 0, 'was_impossible': False}),\n",
       " Prediction(uid='AKBH8IY86UWVM', iid='B003NSBKSW', r_ui=5.0, est=4.087829094663095, details={'was_impossible': True, 'reason': 'User and/or item is unkown.'}),\n",
       " Prediction(uid='AZRM7PCZIOX3Z', iid='B005ESY8VA', r_ui=4.0, est=4.176470588235294, details={'actual_k': 0, 'was_impossible': False}),\n",
       " Prediction(uid='A3NODR0UFGRP67', iid='B00DQZT38G', r_ui=5.0, est=4.087829094663095, details={'was_impossible': True, 'reason': 'User and/or item is unkown.'}),\n",
       " Prediction(uid='A1ZQ44JX2METLS', iid='B006OBGEHW', r_ui=5.0, est=4.087829094663095, details={'was_impossible': True, 'reason': 'User and/or item is unkown.'}),\n",
       " Prediction(uid='A3DHUN630D8WEB', iid='B00005N6KG', r_ui=5.0, est=4.087829094663095, details={'was_impossible': True, 'reason': 'User and/or item is unkown.'}),\n",
       " Prediction(uid='A3OLCIV51N3WBD', iid='B00CTUOIVG', r_ui=4.0, est=4.087829094663095, details={'was_impossible': True, 'reason': 'User and/or item is unkown.'}),\n",
       " Prediction(uid='A2O4IMRYYNCPY4', iid='B007HQR710', r_ui=4.0, est=4.087829094663095, details={'was_impossible': True, 'reason': 'User and/or item is unkown.'}),\n",
       " Prediction(uid='A2CBGS0RSJ09P6', iid='B0015AB6DO', r_ui=5.0, est=4.103448275862069, details={'actual_k': 0, 'was_impossible': False}),\n",
       " Prediction(uid='AZAC8O310IK4E', iid='B001AW8W7A', r_ui=5.0, est=4.396103896103896, details={'actual_k': 0, 'was_impossible': False}),\n",
       " Prediction(uid='A1H3MUN4ZQEIOZ', iid='B001BRXW74', r_ui=3.0, est=4.290816326530612, details={'actual_k': 0, 'was_impossible': False}),\n",
       " Prediction(uid='A1G9GDJRFIALB6', iid='B003CQD8YO', r_ui=1.0, est=2.6666666666666665, details={'actual_k': 0, 'was_impossible': False}),\n",
       " Prediction(uid='A2M5VZV3M9BDY7', iid='B004CYE3QC', r_ui=5.0, est=4.3076923076923075, details={'actual_k': 0, 'was_impossible': False}),\n",
       " Prediction(uid='A1RXSH375HTQPF', iid='B003DZ165W', r_ui=1.0, est=4.350257542310523, details={'actual_k': 0, 'was_impossible': False}),\n",
       " Prediction(uid='ACD2BXDAZDL1N', iid='B0074BW614', r_ui=5.0, est=4.087829094663095, details={'was_impossible': True, 'reason': 'User and/or item is unkown.'}),\n",
       " Prediction(uid='A1M6DO65BI1ZDZ', iid='B0011YZJPA', r_ui=5.0, est=4.385892116182573, details={'actual_k': 0, 'was_impossible': False}),\n",
       " Prediction(uid='A3O0Y9T7Q6TR45', iid='B009RH99H2', r_ui=5.0, est=4.188235294117647, details={'actual_k': 0, 'was_impossible': False}),\n",
       " Prediction(uid='AIGOLXHU0UANX', iid='B00CEZBKTO', r_ui=5.0, est=4.087829094663095, details={'was_impossible': True, 'reason': 'User and/or item is unkown.'}),\n",
       " Prediction(uid='A15IVGC7ODK5GF', iid='B0015MPJ6W', r_ui=3.0, est=4.087829094663095, details={'was_impossible': True, 'reason': 'User and/or item is unkown.'}),\n",
       " Prediction(uid='A19PPY0AGATZUH', iid='B000HKGK8Y', r_ui=1.0, est=3.84149855907781, details={'actual_k': 0, 'was_impossible': False}),\n",
       " Prediction(uid='A230QEXBIMSNKO', iid='B00006B9CR', r_ui=5.0, est=3.913793103448276, details={'actual_k': 0, 'was_impossible': False}),\n",
       " Prediction(uid='A2T4TDGAD0P14T', iid='B00006RH5I', r_ui=4.0, est=4.4186046511627906, details={'actual_k': 0, 'was_impossible': False}),\n",
       " Prediction(uid='AZG5M25O8WZ9U', iid='B00CXACPN0', r_ui=4.0, est=4.087829094663095, details={'was_impossible': True, 'reason': 'User and/or item is unkown.'}),\n",
       " Prediction(uid='A913S45CZ76O2', iid='B000BQ7GW8', r_ui=5.0, est=4.087829094663095, details={'was_impossible': True, 'reason': 'User and/or item is unkown.'}),\n",
       " Prediction(uid='A8JHMCSJ2ZPG6', iid='B00BGGDVOO', r_ui=4.0, est=4.792155722747656, details={'actual_k': 1, 'was_impossible': False}),\n",
       " Prediction(uid='A1G668H07PR5HV', iid='B00093IIRA', r_ui=4.0, est=4.087829094663095, details={'was_impossible': True, 'reason': 'User and/or item is unkown.'}),\n",
       " Prediction(uid='A2O56CID3I3HHC', iid='B005KOZNBW', r_ui=4.0, est=4.087829094663095, details={'was_impossible': True, 'reason': 'User and/or item is unkown.'}),\n",
       " Prediction(uid='AFE0I6S1610J0', iid='B000LRMS66', r_ui=5.0, est=4.087829094663095, details={'was_impossible': True, 'reason': 'User and/or item is unkown.'}),\n",
       " Prediction(uid='A2NFU5BN7Y5TPN', iid='B003U7WCEM', r_ui=1.0, est=4.087829094663095, details={'was_impossible': True, 'reason': 'User and/or item is unkown.'}),\n",
       " Prediction(uid='A2GBY0RBFINVMG', iid='B004XC6GJ0', r_ui=4.0, est=4.087829094663095, details={'was_impossible': True, 'reason': 'User and/or item is unkown.'}),\n",
       " Prediction(uid='A38SH8EQ1L2B7C', iid='B002V41X2M', r_ui=5.0, est=4.087829094663095, details={'was_impossible': True, 'reason': 'User and/or item is unkown.'}),\n",
       " Prediction(uid='AZZNHVT9AH73R', iid='B009W49ALA', r_ui=3.0, est=2.921119592875318, details={'actual_k': 0, 'was_impossible': False}),\n",
       " Prediction(uid='A24HP7DA5NB6V2', iid='B003ZBZ64Q', r_ui=5.0, est=4.087829094663095, details={'was_impossible': True, 'reason': 'User and/or item is unkown.'}),\n",
       " Prediction(uid='A2YRPXW92UOG19', iid='B005FYNSPK', r_ui=4.0, est=4.087829094663095, details={'was_impossible': True, 'reason': 'User and/or item is unkown.'}),\n",
       " Prediction(uid='AY2T41HBOQAQY', iid='B009613MVS', r_ui=5.0, est=4.087829094663095, details={'was_impossible': True, 'reason': 'User and/or item is unkown.'}),\n",
       " Prediction(uid='A32XBZ22RS1MWY', iid='B0028NEAOO', r_ui=5.0, est=4.087829094663095, details={'was_impossible': True, 'reason': 'User and/or item is unkown.'}),\n",
       " Prediction(uid='A3TMGHD93B1GUH', iid='B0011ZPKVM', r_ui=5.0, est=4.087829094663095, details={'was_impossible': True, 'reason': 'User and/or item is unkown.'}),\n",
       " Prediction(uid='AH0DAI3ZOJF1W', iid='B003BLQKI6', r_ui=5.0, est=3.9820359281437128, details={'actual_k': 0, 'was_impossible': False}),\n",
       " Prediction(uid='A16F3OG413Q7CR', iid='B00585CLR2', r_ui=5.0, est=4.087829094663095, details={'was_impossible': True, 'reason': 'User and/or item is unkown.'}),\n",
       " Prediction(uid='A1DIWRC1EKDTK0', iid='B009UKZV0A', r_ui=3.0, est=4.087829094663095, details={'was_impossible': True, 'reason': 'User and/or item is unkown.'}),\n",
       " Prediction(uid='A2MAGYTLNWW34G', iid='B004GIZ61K', r_ui=4.0, est=4.087829094663095, details={'was_impossible': True, 'reason': 'User and/or item is unkown.'}),\n",
       " Prediction(uid='A2C8LKSTEK3OAE', iid='B001JECAM2', r_ui=5.0, est=4.087829094663095, details={'was_impossible': True, 'reason': 'User and/or item is unkown.'}),\n",
       " Prediction(uid='A1PZ5YE8MSXJFO', iid='B0055Q0O8M', r_ui=4.0, est=4.087829094663095, details={'was_impossible': True, 'reason': 'User and/or item is unkown.'}),\n",
       " Prediction(uid='A24S13Z27OD0WX', iid='B003VAHYTG', r_ui=4.0, est=4.087829094663095, details={'was_impossible': True, 'reason': 'User and/or item is unkown.'}),\n",
       " Prediction(uid='A3CPLUIUP9RFBI', iid='B008GGH4FY', r_ui=4.0, est=4.087829094663095, details={'was_impossible': True, 'reason': 'User and/or item is unkown.'}),\n",
       " Prediction(uid='A137FS5PXI635J', iid='B003ELYQGG', r_ui=5.0, est=4.087829094663095, details={'was_impossible': True, 'reason': 'User and/or item is unkown.'}),\n",
       " Prediction(uid='A2QLXH6ZXABYQJ', iid='B003LRY9Q0', r_ui=5.0, est=3.8956043956043955, details={'actual_k': 0, 'was_impossible': False}),\n",
       " Prediction(uid='A2EDS4MW5DGD49', iid='B0097BEFYA', r_ui=1.0, est=4.087829094663095, details={'was_impossible': True, 'reason': 'User and/or item is unkown.'}),\n",
       " Prediction(uid='A2PH3JQFQCB44R', iid='B00009R6TA', r_ui=5.0, est=4.087829094663095, details={'was_impossible': True, 'reason': 'User and/or item is unkown.'}),\n",
       " Prediction(uid='AQZRA650GJTI0', iid='B000X5ZVS8', r_ui=5.0, est=4.087829094663095, details={'was_impossible': True, 'reason': 'User and/or item is unkown.'}),\n",
       " Prediction(uid='A8I56ATMN8O51', iid='B004QK7HI8', r_ui=5.0, est=4.087829094663095, details={'was_impossible': True, 'reason': 'User and/or item is unkown.'}),\n",
       " Prediction(uid='A32I6OFRT0WCBY', iid='B004M8SSZK', r_ui=5.0, est=4.087829094663095, details={'was_impossible': True, 'reason': 'User and/or item is unkown.'}),\n",
       " Prediction(uid='A2B8GFFZIXX502', iid='B000F8XGJO', r_ui=5.0, est=4.087829094663095, details={'was_impossible': True, 'reason': 'User and/or item is unkown.'}),\n",
       " Prediction(uid='AC2C4F8YT0TV1', iid='B00G0JZT4M', r_ui=5.0, est=4.087829094663095, details={'was_impossible': True, 'reason': 'User and/or item is unkown.'}),\n",
       " Prediction(uid='A2PYF27ARMTC4I', iid='B0098F5W0Q', r_ui=5.0, est=4.2578740157480315, details={'actual_k': 0, 'was_impossible': False}),\n",
       " Prediction(uid='A3KGI54JD2TR16', iid='B004MME6SY', r_ui=4.0, est=4.087829094663095, details={'was_impossible': True, 'reason': 'User and/or item is unkown.'}),\n",
       " Prediction(uid='A3OMHN9S7YEQW9', iid='B000NWVAFO', r_ui=5.0, est=4.087829094663095, details={'was_impossible': True, 'reason': 'User and/or item is unkown.'}),\n",
       " Prediction(uid='A2GGIAWE0U26EG', iid='B003OQUKRK', r_ui=5.0, est=4.365853658536586, details={'actual_k': 0, 'was_impossible': False}),\n",
       " Prediction(uid='A230L5F4N22D5D', iid='B0023B14TK', r_ui=1.0, est=4.087829094663095, details={'was_impossible': True, 'reason': 'User and/or item is unkown.'}),\n",
       " Prediction(uid='AMJB1N8V3PR6D', iid='B001ENOZY4', r_ui=1.0, est=4.087829094663095, details={'was_impossible': True, 'reason': 'User and/or item is unkown.'}),\n",
       " Prediction(uid='A1SGT8WTZWWH7I', iid='B0014J07R2', r_ui=5.0, est=3.698170731707317, details={'actual_k': 0, 'was_impossible': False}),\n",
       " Prediction(uid='AOVGQPKTOBY3U', iid='B0098O9TB0', r_ui=4.0, est=4.087829094663095, details={'was_impossible': True, 'reason': 'User and/or item is unkown.'}),\n",
       " Prediction(uid='A13UGTMT825UYG', iid='B003ELYQGG', r_ui=5.0, est=4.396117067516662, details={'actual_k': 0, 'was_impossible': False}),\n",
       " Prediction(uid='A3Q68VKCJ86NVW', iid='B00483WRZ6', r_ui=5.0, est=4.649029982363316, details={'actual_k': 0, 'was_impossible': False}),\n",
       " Prediction(uid='A1KP4ZJ40ZIEAR', iid='B001MPWMDA', r_ui=5.0, est=4.087829094663095, details={'was_impossible': True, 'reason': 'User and/or item is unkown.'}),\n",
       " Prediction(uid='A3JC49WPNBMH42', iid='B00DZTVST0', r_ui=5.0, est=4.087829094663095, details={'was_impossible': True, 'reason': 'User and/or item is unkown.'}),\n",
       " Prediction(uid='A3USOGUI8BIUOV', iid='B00BDS0512', r_ui=5.0, est=4.087829094663095, details={'was_impossible': True, 'reason': 'User and/or item is unkown.'}),\n",
       " Prediction(uid='AZJ15XQPSL00D', iid='B0040JHVC2', r_ui=5.0, est=4.087829094663095, details={'was_impossible': True, 'reason': 'User and/or item is unkown.'}),\n",
       " Prediction(uid='A262T8U71FFLBL', iid='B007PA1K84', r_ui=5.0, est=4.087829094663095, details={'was_impossible': True, 'reason': 'User and/or item is unkown.'}),\n",
       " Prediction(uid='A1RUG33WEFO5AI', iid='B000I1ZWRC', r_ui=5.0, est=4.087829094663095, details={'was_impossible': True, 'reason': 'User and/or item is unkown.'}),\n",
       " Prediction(uid='A3S9DOTT4Z8JF9', iid='B00EAXRVLY', r_ui=4.0, est=3.911764705882353, details={'actual_k': 0, 'was_impossible': False}),\n",
       " Prediction(uid='A2OHFLJ4RRSNYP', iid='B0027VT6V4', r_ui=5.0, est=4.087829094663095, details={'was_impossible': True, 'reason': 'User and/or item is unkown.'}),\n",
       " Prediction(uid='AMVJRRR35UPC2', iid='B00019OWU4', r_ui=1.0, est=4.087829094663095, details={'was_impossible': True, 'reason': 'User and/or item is unkown.'}),\n",
       " Prediction(uid='A2FI4CAIDT18F6', iid='B0087AUCSA', r_ui=5.0, est=4.087829094663095, details={'was_impossible': True, 'reason': 'User and/or item is unkown.'}),\n",
       " Prediction(uid='A3087CFZHYSERZ', iid='B0002BG6RI', r_ui=5.0, est=3.6666666666666665, details={'actual_k': 0, 'was_impossible': False}),\n",
       " Prediction(uid='A1KBNII0FQOMCC', iid='B002S1CJ2Q', r_ui=1.0, est=4.44559585492228, details={'actual_k': 0, 'was_impossible': False}),\n",
       " Prediction(uid='A1TDQVUSGHL1P8', iid='B00AWKBZ16', r_ui=5.0, est=4.0125, details={'actual_k': 0, 'was_impossible': False}),\n",
       " Prediction(uid='A2GZRNBP74CW33', iid='B008COJXHC', r_ui=5.0, est=4.087829094663095, details={'was_impossible': True, 'reason': 'User and/or item is unkown.'}),\n",
       " Prediction(uid='A331FF42ZV7YYA', iid='B00F3ZN2W0', r_ui=1.0, est=3.6333333333333333, details={'actual_k': 0, 'was_impossible': False}),\n",
       " Prediction(uid='A2WRUM15PTUMEW', iid='B007PTCFFW', r_ui=1.0, est=4.087829094663095, details={'was_impossible': True, 'reason': 'User and/or item is unkown.'}),\n",
       " Prediction(uid='A30FSWQSR06YJV', iid='B000F7857S', r_ui=1.0, est=4.087829094663095, details={'was_impossible': True, 'reason': 'User and/or item is unkown.'}),\n",
       " Prediction(uid='A2MJV7OUNJP74O', iid='B0052SCU8U', r_ui=4.0, est=4.779456193353474, details={'actual_k': 0, 'was_impossible': False}),\n",
       " Prediction(uid='A27PAGEZE23A95', iid='B000HVVO98', r_ui=5.0, est=4.087829094663095, details={'was_impossible': True, 'reason': 'User and/or item is unkown.'}),\n",
       " Prediction(uid='A2HUUGWAH6H40N', iid='B000PCF7A6', r_ui=2.0, est=4.087829094663095, details={'was_impossible': True, 'reason': 'User and/or item is unkown.'}),\n",
       " Prediction(uid='A10KZY39SVHUXD', iid='B00007KDVJ', r_ui=5.0, est=3.3125, details={'actual_k': 0, 'was_impossible': False}),\n",
       " Prediction(uid='A2X6OJUO96WN7J', iid='B00F3F0EIU', r_ui=5.0, est=4.087829094663095, details={'was_impossible': True, 'reason': 'User and/or item is unkown.'}),\n",
       " Prediction(uid='APJMIV58XAWZT', iid='B0087TVYP6', r_ui=5.0, est=4.642857142857143, details={'actual_k': 0, 'was_impossible': False}),\n",
       " Prediction(uid='A2M6AVH15VB68H', iid='B00EUY59Z8', r_ui=1.0, est=4.087829094663095, details={'was_impossible': True, 'reason': 'User and/or item is unkown.'}),\n",
       " Prediction(uid='A23ZLU56NC2XDZ', iid='B005H3Q57M', r_ui=5.0, est=4.534883720930233, details={'actual_k': 0, 'was_impossible': False}),\n",
       " Prediction(uid='A1YXJBX9RS202C', iid='B001OWE4SM', r_ui=1.0, est=4.087829094663095, details={'was_impossible': True, 'reason': 'User and/or item is unkown.'}),\n",
       " Prediction(uid='A2GEEMF2DJBKSU', iid='B004G603E2', r_ui=5.0, est=3.9646017699115044, details={'actual_k': 0, 'was_impossible': False}),\n",
       " Prediction(uid='A3K1AYBL0LGX3A', iid='B0036VO2B8', r_ui=3.0, est=4.087829094663095, details={'was_impossible': True, 'reason': 'User and/or item is unkown.'}),\n",
       " Prediction(uid='A2VTSN5W5HLK8R', iid='B003Y89O6G', r_ui=1.0, est=4.087829094663095, details={'was_impossible': True, 'reason': 'User and/or item is unkown.'}),\n",
       " Prediction(uid='AMSS4LTPQHAW1', iid='B005Y5872O', r_ui=4.0, est=4.087829094663095, details={'was_impossible': True, 'reason': 'User and/or item is unkown.'}),\n",
       " Prediction(uid='A2EQ5J3R1LLAZ0', iid='B00726185Q', r_ui=4.0, est=3.7857142857142856, details={'actual_k': 0, 'was_impossible': False}),\n",
       " Prediction(uid='A4FG30D8VJTD4', iid='B0056BPUQC', r_ui=5.0, est=4.087829094663095, details={'was_impossible': True, 'reason': 'User and/or item is unkown.'}),\n",
       " Prediction(uid='A1GN9EEFBUPDS6', iid='B003MVZ60I', r_ui=3.0, est=3.738219895287958, details={'actual_k': 0, 'was_impossible': False}),\n",
       " Prediction(uid='A32VX0MBDQGQDK', iid='B00112BA78', r_ui=1.0, est=4.087829094663095, details={'was_impossible': True, 'reason': 'User and/or item is unkown.'}),\n",
       " Prediction(uid='A2U6X0GHPCODVV', iid='B002UT42UI', r_ui=3.0, est=3.7494736842105265, details={'actual_k': 0, 'was_impossible': False}),\n",
       " Prediction(uid='A5O1HEUJR1M2P', iid='B000GU88CQ', r_ui=5.0, est=4.087829094663095, details={'was_impossible': True, 'reason': 'User and/or item is unkown.'}),\n",
       " Prediction(uid='AS02KS2G9P1O6', iid='B000H92BTM', r_ui=5.0, est=4.087829094663095, details={'was_impossible': True, 'reason': 'User and/or item is unkown.'}),\n",
       " Prediction(uid='AJWET9TFBO6KW', iid='B000WPDKRI', r_ui=5.0, est=4.087829094663095, details={'was_impossible': True, 'reason': 'User and/or item is unkown.'}),\n",
       " Prediction(uid='A1AH4YECMX4D5X', iid='B005FYNSPK', r_ui=5.0, est=4.087829094663095, details={'was_impossible': True, 'reason': 'User and/or item is unkown.'}),\n",
       " Prediction(uid='A1KPL7LY9YEO3Q', iid='B001C271MA', r_ui=5.0, est=4.333333333333333, details={'actual_k': 0, 'was_impossible': False}),\n",
       " Prediction(uid='A159SZJI22SYIQ', iid='B00AXX0I7Y', r_ui=4.0, est=4.087719298245614, details={'actual_k': 0, 'was_impossible': False}),\n",
       " Prediction(uid='A1AARMR653JKX', iid='B007PYY8K2', r_ui=5.0, est=3.4671814671814674, details={'actual_k': 0, 'was_impossible': False}),\n",
       " Prediction(uid='A2KLUJPOWHJ60D', iid='B0009PAYY8', r_ui=5.0, est=4.087829094663095, details={'was_impossible': True, 'reason': 'User and/or item is unkown.'}),\n",
       " Prediction(uid='A14RF2OCJ7R55Y', iid='B002ROILDA', r_ui=2.0, est=4.291666666666667, details={'actual_k': 0, 'was_impossible': False}),\n",
       " Prediction(uid='ATBT4Z0DDCPMJ', iid='B007B5ZPGG', r_ui=1.0, est=4.087829094663095, details={'was_impossible': True, 'reason': 'User and/or item is unkown.'}),\n",
       " Prediction(uid='AVCRD1N32JE82', iid='B002M3SJ6U', r_ui=5.0, est=4.087829094663095, details={'was_impossible': True, 'reason': 'User and/or item is unkown.'}),\n",
       " Prediction(uid='AVTHDZ6M8ZHYY', iid='B002SW3MP8', r_ui=1.0, est=4.087829094663095, details={'was_impossible': True, 'reason': 'User and/or item is unkown.'}),\n",
       " Prediction(uid='A3A0ULRM4SEHG3', iid='B0030MITDK', r_ui=4.0, est=3.560364464692483, details={'actual_k': 0, 'was_impossible': False}),\n",
       " Prediction(uid='A1X1IDKTDOZZKT', iid='B008KL8LFC', r_ui=3.0, est=4.087829094663095, details={'was_impossible': True, 'reason': 'User and/or item is unkown.'}),\n",
       " Prediction(uid='AHWEAXIVAABLE', iid='B0025VKUPW', r_ui=5.0, est=4.087829094663095, details={'was_impossible': True, 'reason': 'User and/or item is unkown.'}),\n",
       " Prediction(uid='A23CMCHFITAO6G', iid='B001EBE1LI', r_ui=4.0, est=2.926630434782609, details={'actual_k': 0, 'was_impossible': False}),\n",
       " Prediction(uid='A2ZTU9Z237TCX', iid='B002BGFELQ', r_ui=5.0, est=4.087829094663095, details={'was_impossible': True, 'reason': 'User and/or item is unkown.'}),\n",
       " Prediction(uid='A3O7WRFT44AX9Z', iid='B008VHHYLW', r_ui=3.0, est=4.087829094663095, details={'was_impossible': True, 'reason': 'User and/or item is unkown.'}),\n",
       " Prediction(uid='AJKIR335AFDJX', iid='B002Y27P6Y', r_ui=4.0, est=4.087829094663095, details={'was_impossible': True, 'reason': 'User and/or item is unkown.'}),\n",
       " Prediction(uid='AYXXTMCU42P4Z', iid='B000SMVQK8', r_ui=5.0, est=4.378151260504202, details={'actual_k': 0, 'was_impossible': False}),\n",
       " Prediction(uid='A2C230XVQLDP0F', iid='B00E98O7GC', r_ui=5.0, est=4.087829094663095, details={'was_impossible': True, 'reason': 'User and/or item is unkown.'}),\n",
       " Prediction(uid='A1QH79XB85M7RW', iid='B00FE5VDSO', r_ui=5.0, est=4.087829094663095, details={'was_impossible': True, 'reason': 'User and/or item is unkown.'}),\n",
       " Prediction(uid='ARWHF55YW4WNJ', iid='B004TJI98I', r_ui=4.0, est=4.087829094663095, details={'was_impossible': True, 'reason': 'User and/or item is unkown.'}),\n",
       " Prediction(uid='AM6KQTWLTYIWA', iid='B001V9LQAW', r_ui=4.0, est=4.675, details={'actual_k': 0, 'was_impossible': False}),\n",
       " Prediction(uid='A2CTQJFOEXWGCC', iid='B0000B006W', r_ui=5.0, est=4.087829094663095, details={'was_impossible': True, 'reason': 'User and/or item is unkown.'}),\n",
       " Prediction(uid='A1J44R41I2HDVH', iid='B000UB7WD2', r_ui=5.0, est=3.75, details={'actual_k': 0, 'was_impossible': False}),\n",
       " Prediction(uid='A4OXSQLCWYDFK', iid='B002V88HFE', r_ui=3.0, est=4.690459363957597, details={'actual_k': 0, 'was_impossible': False}),\n",
       " Prediction(uid='A26TFEUKXRKBII', iid='B003NREDG4', r_ui=2.0, est=4.087829094663095, details={'was_impossible': True, 'reason': 'User and/or item is unkown.'}),\n",
       " Prediction(uid='A2EGRG8QUDVCAH', iid='B002YETVVE', r_ui=4.0, est=4.087829094663095, details={'was_impossible': True, 'reason': 'User and/or item is unkown.'}),\n",
       " Prediction(uid='A27H26W2T75J7S', iid='B005FRCUHY', r_ui=5.0, est=4.087829094663095, details={'was_impossible': True, 'reason': 'User and/or item is unkown.'}),\n",
       " Prediction(uid='A8LTP6YCKWOG5', iid='B00AJHDZSI', r_ui=5.0, est=4.087829094663095, details={'was_impossible': True, 'reason': 'User and/or item is unkown.'}),\n",
       " Prediction(uid='A347VNBNH3WSS1', iid='B0062AYFWG', r_ui=4.0, est=4.087829094663095, details={'was_impossible': True, 'reason': 'User and/or item is unkown.'}),\n",
       " Prediction(uid='A11883K8ZPIUB6', iid='B002KL0VY2', r_ui=5.0, est=4.087829094663095, details={'was_impossible': True, 'reason': 'User and/or item is unkown.'}),\n",
       " Prediction(uid='AEZG6BJSPF832', iid='B003VPABK0', r_ui=5.0, est=4.148936170212766, details={'actual_k': 0, 'was_impossible': False}),\n",
       " Prediction(uid='A1JE04PMENX23K', iid='B00ATM1MVU', r_ui=4.0, est=4.304347826086956, details={'actual_k': 0, 'was_impossible': False}),\n",
       " Prediction(uid='A25JBUM8G1BSLX', iid='B0000X0VCY', r_ui=4.0, est=4.087829094663095, details={'was_impossible': True, 'reason': 'User and/or item is unkown.'}),\n",
       " Prediction(uid='ADZNZ5YSLYD5Z', iid='B006GWO5WK', r_ui=5.0, est=4.087829094663095, details={'was_impossible': True, 'reason': 'User and/or item is unkown.'}),\n",
       " Prediction(uid='A331LMR3FG371X', iid='B00328HR62', r_ui=5.0, est=4.1020408163265305, details={'actual_k': 0, 'was_impossible': False}),\n",
       " Prediction(uid='ASF10CBCCCLX9', iid='B0007SL4IW', r_ui=5.0, est=4.087829094663095, details={'was_impossible': True, 'reason': 'User and/or item is unkown.'}),\n",
       " Prediction(uid='A1IWD13F8JZYYZ', iid='B000J47W12', r_ui=5.0, est=4.087829094663095, details={'was_impossible': True, 'reason': 'User and/or item is unkown.'}),\n",
       " Prediction(uid='A3L7ME5TVGOBL6', iid='B00902SFC4', r_ui=4.0, est=4.087829094663095, details={'was_impossible': True, 'reason': 'User and/or item is unkown.'}),\n",
       " Prediction(uid='A3U112IULLDUI4', iid='B000WL6YY8', r_ui=5.0, est=4.087829094663095, details={'was_impossible': True, 'reason': 'User and/or item is unkown.'}),\n",
       " Prediction(uid='A2SO22BTINJRBX', iid='B00475LJC2', r_ui=4.0, est=4.267123287671233, details={'actual_k': 0, 'was_impossible': False}),\n",
       " Prediction(uid='AYZ4L1P0KGH6K', iid='B000CC6I5W', r_ui=1.0, est=4.087829094663095, details={'was_impossible': True, 'reason': 'User and/or item is unkown.'}),\n",
       " Prediction(uid='AG25MSE494RXR', iid='B00CHDSPSM', r_ui=5.0, est=4.087829094663095, details={'was_impossible': True, 'reason': 'User and/or item is unkown.'}),\n",
       " Prediction(uid='ANI8BTQMGG1R2', iid='B005EIH4DE', r_ui=1.0, est=3.9767441860465116, details={'actual_k': 0, 'was_impossible': False}),\n",
       " Prediction(uid='A3EV2R77V65VGM', iid='B000JNQSIQ', r_ui=5.0, est=4.338289962825279, details={'actual_k': 0, 'was_impossible': False}),\n",
       " Prediction(uid='A15VQI2G39FX1P', iid='B0001FTVEK', r_ui=5.0, est=4.087829094663095, details={'was_impossible': True, 'reason': 'User and/or item is unkown.'}),\n",
       " Prediction(uid='AFGEWU2C1F5ZY', iid='B00622AG6S', r_ui=1.0, est=4.087829094663095, details={'was_impossible': True, 'reason': 'User and/or item is unkown.'}),\n",
       " Prediction(uid='A3RIVD4TCKDE8T', iid='B004H1PMJC', r_ui=5.0, est=3.8955223880597014, details={'actual_k': 0, 'was_impossible': False}),\n",
       " Prediction(uid='A3LK2RAJMBFR2W', iid='B0058W3R82', r_ui=1.0, est=4.5, details={'actual_k': 0, 'was_impossible': False}),\n",
       " Prediction(uid='A3T6YIIBNG6DXA', iid='B0016BVDIK', r_ui=2.0, est=2.357142857142857, details={'actual_k': 0, 'was_impossible': False}),\n",
       " Prediction(uid='A13HIPDB7ZSRJ1', iid='B0013FRNKG', r_ui=5.0, est=4.087829094663095, details={'was_impossible': True, 'reason': 'User and/or item is unkown.'}),\n",
       " Prediction(uid='A3E8LN3UEOH5YP', iid='B00DY3J8VM', r_ui=3.0, est=4.087829094663095, details={'was_impossible': True, 'reason': 'User and/or item is unkown.'}),\n",
       " Prediction(uid='A1MNX7GPLYA3MQ', iid='B004YI7SNG', r_ui=5.0, est=4.061224489795919, details={'actual_k': 0, 'was_impossible': False}),\n",
       " Prediction(uid='A2IZMW0AQTZ56L', iid='B002MZZWT0', r_ui=4.0, est=3.3666666666666667, details={'actual_k': 0, 'was_impossible': False}),\n",
       " Prediction(uid='A1AB1T9O4MSK5E', iid='B000BREQN4', r_ui=4.0, est=4.087829094663095, details={'was_impossible': True, 'reason': 'User and/or item is unkown.'}),\n",
       " Prediction(uid='A3LFB9I6L6IKS3', iid='B003LR7ME6', r_ui=5.0, est=4.087829094663095, details={'was_impossible': True, 'reason': 'User and/or item is unkown.'}),\n",
       " Prediction(uid='A2JOZOXW68KGTM', iid='B00BEWF4R2', r_ui=5.0, est=4.087829094663095, details={'was_impossible': True, 'reason': 'User and/or item is unkown.'}),\n",
       " Prediction(uid='A1CAGTNRSFHJNJ', iid='B00029U1DK', r_ui=5.0, est=4.2648809523809526, details={'actual_k': 0, 'was_impossible': False}),\n",
       " Prediction(uid='A26WLEBEWG3LCZ', iid='B003L62T7W', r_ui=5.0, est=4.315508021390374, details={'actual_k': 0, 'was_impossible': False}),\n",
       " Prediction(uid='A27FFCXM6PVP9Z', iid='B004ZBMYS6', r_ui=5.0, est=4.583333333333333, details={'actual_k': 0, 'was_impossible': False}),\n",
       " Prediction(uid='A16EC996BI9VTU', iid='B003ELVLKU', r_ui=5.0, est=4.366576819407008, details={'actual_k': 0, 'was_impossible': False}),\n",
       " Prediction(uid='A1XGNKAQI1KTGB', iid='B00G0JZT4M', r_ui=4.0, est=4.1923076923076925, details={'actual_k': 0, 'was_impossible': False}),\n",
       " Prediction(uid='A1AXN6GG44ELZV', iid='B0007N55OQ', r_ui=1.0, est=3.3684210526315788, details={'actual_k': 0, 'was_impossible': False}),\n",
       " Prediction(uid='A1493CORLLZE42', iid='B003E2O3TU', r_ui=4.0, est=4.087829094663095, details={'was_impossible': True, 'reason': 'User and/or item is unkown.'}),\n",
       " Prediction(uid='ASQ5357GTL3PV', iid='B002U2X59O', r_ui=5.0, est=4.0, details={'actual_k': 0, 'was_impossible': False}),\n",
       " Prediction(uid='A2QJXQ08XT7817', iid='B003ULJU2A', r_ui=3.0, est=4.087829094663095, details={'was_impossible': True, 'reason': 'User and/or item is unkown.'}),\n",
       " Prediction(uid='A3QVHGZ9NKOQTD', iid='B005FVNGRI', r_ui=5.0, est=4.924144128963406, details={'actual_k': 1, 'was_impossible': False}),\n",
       " Prediction(uid='A3SHRNNK6EYK81', iid='B004QD9E54', r_ui=5.0, est=4.087829094663095, details={'was_impossible': True, 'reason': 'User and/or item is unkown.'}),\n",
       " Prediction(uid='A4FOYUQ2WIZ6R', iid='B001M4HXSK', r_ui=4.0, est=4.5, details={'actual_k': 0, 'was_impossible': False}),\n",
       " Prediction(uid='A3FRYI6C1SDDD3', iid='B0050M92CU', r_ui=5.0, est=4.087829094663095, details={'was_impossible': True, 'reason': 'User and/or item is unkown.'}),\n",
       " Prediction(uid='A34XPLVFRJOG6A', iid='B009UNGYHG', r_ui=5.0, est=4.087829094663095, details={'was_impossible': True, 'reason': 'User and/or item is unkown.'}),\n",
       " Prediction(uid='A35UOBT2A674R0', iid='B005KWHJES', r_ui=5.0, est=4.806451612903226, details={'actual_k': 0, 'was_impossible': False}),\n",
       " Prediction(uid='A2QKZG0ONNR4L6', iid='B008GVL9YQ', r_ui=5.0, est=4.087829094663095, details={'was_impossible': True, 'reason': 'User and/or item is unkown.'}),\n",
       " Prediction(uid='AIVLKALMERRFT', iid='B000066R6M', r_ui=5.0, est=4.10062893081761, details={'actual_k': 0, 'was_impossible': False}),\n",
       " Prediction(uid='A16WRE3TI3WKMK', iid='B000I4UQL6', r_ui=5.0, est=4.087829094663095, details={'was_impossible': True, 'reason': 'User and/or item is unkown.'}),\n",
       " Prediction(uid='A1RDPJL4A3GD31', iid='B008THTRVO', r_ui=1.0, est=4.087829094663095, details={'was_impossible': True, 'reason': 'User and/or item is unkown.'}),\n",
       " Prediction(uid='A3CO1P0AI9AEWR', iid='B003XU6H8I', r_ui=5.0, est=4.168330955777461, details={'actual_k': 0, 'was_impossible': False}),\n",
       " Prediction(uid='A27UMKEWN5RU81', iid='B003SU0UGI', r_ui=1.0, est=4.087829094663095, details={'was_impossible': True, 'reason': 'User and/or item is unkown.'}),\n",
       " Prediction(uid='A2LXX47A0KMJVX', iid='B0034XIMG4', r_ui=4.0, est=3.7362637362637363, details={'actual_k': 0, 'was_impossible': False}),\n",
       " Prediction(uid='AIOQYO1HHLMBV', iid='B0000642RX', r_ui=4.0, est=4.087829094663095, details={'was_impossible': True, 'reason': 'User and/or item is unkown.'}),\n",
       " Prediction(uid='AXB6DV0DE746U', iid='B009X01C64', r_ui=5.0, est=4.087829094663095, details={'was_impossible': True, 'reason': 'User and/or item is unkown.'}),\n",
       " Prediction(uid='A3O1EREAA7B2JG', iid='B001415FIG', r_ui=5.0, est=4.087829094663095, details={'was_impossible': True, 'reason': 'User and/or item is unkown.'}),\n",
       " Prediction(uid='A1LQDYNQYYR2T2', iid='B000MK4GGM', r_ui=4.0, est=4.087829094663095, details={'was_impossible': True, 'reason': 'User and/or item is unkown.'}),\n",
       " Prediction(uid='AGJVDFO39O57Q', iid='B00020S7XK', r_ui=5.0, est=4.311973018549747, details={'actual_k': 0, 'was_impossible': False}),\n",
       " Prediction(uid='A1HTDPBW3GW6I9', iid='B0044YU60M', r_ui=5.0, est=4.087829094663095, details={'was_impossible': True, 'reason': 'User and/or item is unkown.'}),\n",
       " Prediction(uid='A2O5YW3UCTGP2C', iid='B0009VKJH4', r_ui=4.0, est=4.087829094663095, details={'was_impossible': True, 'reason': 'User and/or item is unkown.'}),\n",
       " Prediction(uid='A3H55VCKNTEL62', iid='B00906E03I', r_ui=5.0, est=4.087829094663095, details={'was_impossible': True, 'reason': 'User and/or item is unkown.'}),\n",
       " Prediction(uid='A1D5FCL6QYWM96', iid='B0013OWPV4', r_ui=5.0, est=4.087829094663095, details={'was_impossible': True, 'reason': 'User and/or item is unkown.'}),\n",
       " Prediction(uid='A2ESQ1KKTVA9X4', iid='B006IF7S92', r_ui=1.0, est=4.087829094663095, details={'was_impossible': True, 'reason': 'User and/or item is unkown.'}),\n",
       " Prediction(uid='AERW6KPR7HTQS', iid='B0015A6YN6', r_ui=2.0, est=4.087829094663095, details={'was_impossible': True, 'reason': 'User and/or item is unkown.'}),\n",
       " Prediction(uid='A1M2725DNN0PAS', iid='B003ZYF3M8', r_ui=5.0, est=4.087829094663095, details={'was_impossible': True, 'reason': 'User and/or item is unkown.'}),\n",
       " Prediction(uid='A1QIYMKNKFO9J3', iid='B003I4FHNA', r_ui=5.0, est=4.087829094663095, details={'was_impossible': True, 'reason': 'User and/or item is unkown.'}),\n",
       " Prediction(uid='A3IPQ0KQ1H39R6', iid='B00D130648', r_ui=3.0, est=3.723404255319149, details={'actual_k': 0, 'was_impossible': False}),\n",
       " Prediction(uid='A5UHF8HZPQGNB', iid='B000KE48CM', r_ui=5.0, est=4.183431952662722, details={'actual_k': 0, 'was_impossible': False}),\n",
       " Prediction(uid='A33PYU3GL2J7PJ', iid='B0013CDZDI', r_ui=4.0, est=4.087829094663095, details={'was_impossible': True, 'reason': 'User and/or item is unkown.'}),\n",
       " Prediction(uid='AK9RMDZS97CHB', iid='B001C4ETU0', r_ui=5.0, est=4.087829094663095, details={'was_impossible': True, 'reason': 'User and/or item is unkown.'}),\n",
       " Prediction(uid='A3BNJ1E53CPFTU', iid='B003CVLTCW', r_ui=4.0, est=4.087829094663095, details={'was_impossible': True, 'reason': 'User and/or item is unkown.'}),\n",
       " Prediction(uid='A248NRPA071R0Q', iid='B009YC3Y08', r_ui=2.0, est=4.087829094663095, details={'was_impossible': True, 'reason': 'User and/or item is unkown.'}),\n",
       " Prediction(uid='A1DAJ7UVYHCYF3', iid='B005KELU2S', r_ui=5.0, est=4.087829094663095, details={'was_impossible': True, 'reason': 'User and/or item is unkown.'}),\n",
       " Prediction(uid='AEKHNK3Q0BKIR', iid='B005QFH86S', r_ui=5.0, est=4.0424354243542435, details={'actual_k': 0, 'was_impossible': False}),\n",
       " Prediction(uid='AVSYYWIDT5WTI', iid='B0002F4EO6', r_ui=1.0, est=3.4423076923076925, details={'actual_k': 0, 'was_impossible': False}),\n",
       " Prediction(uid='A2THCRCOSL8YNE', iid='B0056HNTAU', r_ui=4.0, est=4.639455782312925, details={'actual_k': 0, 'was_impossible': False}),\n",
       " Prediction(uid='A1XIFNB0XAMPOZ', iid='B000CATP4A', r_ui=5.0, est=4.087829094663095, details={'was_impossible': True, 'reason': 'User and/or item is unkown.'}),\n",
       " Prediction(uid='A1KA5O0HICA9ST', iid='B004SD1ZPY', r_ui=5.0, est=4.087829094663095, details={'was_impossible': True, 'reason': 'User and/or item is unkown.'}),\n",
       " Prediction(uid='A36VOC34MVLOQE', iid='B00005ABC5', r_ui=5.0, est=4.087829094663095, details={'was_impossible': True, 'reason': 'User and/or item is unkown.'}),\n",
       " Prediction(uid='A3VLXZQDSH76MB', iid='B009A6CZ30', r_ui=3.0, est=4.087829094663095, details={'was_impossible': True, 'reason': 'User and/or item is unkown.'}),\n",
       " Prediction(uid='A1N7EQUX4R424M', iid='B008YO0Q5S', r_ui=4.0, est=4.087829094663095, details={'was_impossible': True, 'reason': 'User and/or item is unkown.'}),\n",
       " Prediction(uid='A1AQJUTPC9QSBD', iid='B0017KZ8Y0', r_ui=4.0, est=4.087829094663095, details={'was_impossible': True, 'reason': 'User and/or item is unkown.'}),\n",
       " Prediction(uid='A3EAJQ1B4N3SWX', iid='B005C31HC0', r_ui=5.0, est=4.087829094663095, details={'was_impossible': True, 'reason': 'User and/or item is unkown.'}),\n",
       " Prediction(uid='A2T8CNMTJ7JMKM', iid='B001GTT0VO', r_ui=5.0, est=4.4556818181818185, details={'actual_k': 0, 'was_impossible': False}),\n",
       " Prediction(uid='A3EXKC7E2CPD9M', iid='B004BR3KSC', r_ui=4.0, est=4.087829094663095, details={'was_impossible': True, 'reason': 'User and/or item is unkown.'}),\n",
       " Prediction(uid='A2GYDZ6KIEXY1L', iid='B003VAHYNC', r_ui=5.0, est=4.2613390928725705, details={'actual_k': 0, 'was_impossible': False}),\n",
       " Prediction(uid='A1NMYYSW0VRY1P', iid='B005AKRPP8', r_ui=5.0, est=4.087829094663095, details={'was_impossible': True, 'reason': 'User and/or item is unkown.'}),\n",
       " Prediction(uid='A28CA5T3O0I3Z5', iid='B002V88HFE', r_ui=5.0, est=4.087829094663095, details={'was_impossible': True, 'reason': 'User and/or item is unkown.'}),\n",
       " Prediction(uid='AZP23SETFOOHY', iid='B006GLEZ8U', r_ui=5.0, est=4.087829094663095, details={'was_impossible': True, 'reason': 'User and/or item is unkown.'}),\n",
       " Prediction(uid='A2QLJB9X6IKVUM', iid='B005E7KMH0', r_ui=5.0, est=4.087829094663095, details={'was_impossible': True, 'reason': 'User and/or item is unkown.'}),\n",
       " Prediction(uid='A2TPCNWUYGBKSH', iid='B00005N6KG', r_ui=5.0, est=4.087829094663095, details={'was_impossible': True, 'reason': 'User and/or item is unkown.'}),\n",
       " Prediction(uid='A3NS89QN425BBZ', iid='B004J3ZV62', r_ui=4.0, est=4.087829094663095, details={'was_impossible': True, 'reason': 'User and/or item is unkown.'}),\n",
       " Prediction(uid='AKY34A848HV68', iid='B008Z2661W', r_ui=4.0, est=4.087829094663095, details={'was_impossible': True, 'reason': 'User and/or item is unkown.'}),\n",
       " Prediction(uid='AIQLNJT4V3S4Y', iid='B000652SOK', r_ui=5.0, est=4.087829094663095, details={'was_impossible': True, 'reason': 'User and/or item is unkown.'}),\n",
       " Prediction(uid='A1KWHJHR8VBBKX', iid='B005UFZ7F8', r_ui=5.0, est=4.087829094663095, details={'was_impossible': True, 'reason': 'User and/or item is unkown.'}),\n",
       " Prediction(uid='A4ZP6XRKJ1DXX', iid='B008TO3YT8', r_ui=5.0, est=4.087829094663095, details={'was_impossible': True, 'reason': 'User and/or item is unkown.'}),\n",
       " Prediction(uid='A3JBDSKXXLIZHR', iid='B002L6HEAU', r_ui=4.0, est=4.087829094663095, details={'was_impossible': True, 'reason': 'User and/or item is unkown.'}),\n",
       " Prediction(uid='AK73KG6Z35CNU', iid='B00475K64E', r_ui=5.0, est=4.087829094663095, details={'was_impossible': True, 'reason': 'User and/or item is unkown.'}),\n",
       " Prediction(uid='AIQJBW7CH1SJO', iid='B000WYVBR0', r_ui=5.0, est=4.087829094663095, details={'was_impossible': True, 'reason': 'User and/or item is unkown.'}),\n",
       " Prediction(uid='A3PMMW7XRZ2ESD', iid='B000069106', r_ui=5.0, est=4.087829094663095, details={'was_impossible': True, 'reason': 'User and/or item is unkown.'}),\n",
       " Prediction(uid='A2HSRGAACSH7I8', iid='B003HFCDLY', r_ui=5.0, est=4.087829094663095, details={'was_impossible': True, 'reason': 'User and/or item is unkown.'}),\n",
       " Prediction(uid='A2W2G9IYQYZ05F', iid='B0002SQ2P2', r_ui=5.0, est=4.087829094663095, details={'was_impossible': True, 'reason': 'User and/or item is unkown.'}),\n",
       " Prediction(uid='A3N2LZ8RFOBRCQ', iid='B007FL7GGS', r_ui=5.0, est=4.087829094663095, details={'was_impossible': True, 'reason': 'User and/or item is unkown.'}),\n",
       " Prediction(uid='A2GPJRU6MTF5HL', iid='B009613MVS', r_ui=4.0, est=4.087829094663095, details={'was_impossible': True, 'reason': 'User and/or item is unkown.'}),\n",
       " Prediction(uid='A1UQ6AYIUVX047', iid='B0001D3K8A', r_ui=1.0, est=4.087829094663095, details={'was_impossible': True, 'reason': 'User and/or item is unkown.'}),\n",
       " Prediction(uid='A39R8ERX8KE4WZ', iid='B004XIT4NO', r_ui=5.0, est=4.15335463258786, details={'actual_k': 0, 'was_impossible': False}),\n",
       " Prediction(uid='A2PH33YFOF2HEM', iid='B004VM1T5S', r_ui=5.0, est=4.312384473197782, details={'actual_k': 0, 'was_impossible': False}),\n",
       " Prediction(uid='AUYI82APB334R', iid='B002TNRTSC', r_ui=5.0, est=4.087829094663095, details={'was_impossible': True, 'reason': 'User and/or item is unkown.'}),\n",
       " Prediction(uid='A1A4AS6FUXFZPG', iid='B003BWAKJA', r_ui=5.0, est=4.087829094663095, details={'was_impossible': True, 'reason': 'User and/or item is unkown.'}),\n",
       " Prediction(uid='A2YY3GVER1M3SL', iid='B0073FE1F0', r_ui=5.0, est=4.087829094663095, details={'was_impossible': True, 'reason': 'User and/or item is unkown.'}),\n",
       " Prediction(uid='A2C3230RDI6OK9', iid='B000FTU77C', r_ui=4.0, est=4.087829094663095, details={'was_impossible': True, 'reason': 'User and/or item is unkown.'}),\n",
       " Prediction(uid='A1PYD18MNTSRXE', iid='B005KQ0S8S', r_ui=4.0, est=4.087829094663095, details={'was_impossible': True, 'reason': 'User and/or item is unkown.'}),\n",
       " Prediction(uid='AXOZKH3BOFMF9', iid='B0001FTVDG', r_ui=5.0, est=4.076923076923077, details={'actual_k': 0, 'was_impossible': False}),\n",
       " Prediction(uid='AZ302PO6U2KV4', iid='B003GIJTR8', r_ui=4.0, est=4.087829094663095, details={'was_impossible': True, 'reason': 'User and/or item is unkown.'}),\n",
       " Prediction(uid='A29THGF12ZJAKT', iid='B003DZ1652', r_ui=4.0, est=4.087829094663095, details={'was_impossible': True, 'reason': 'User and/or item is unkown.'}),\n",
       " Prediction(uid='A2QFTYEFKSF6X7', iid='B00902SFC4', r_ui=4.0, est=4.087829094663095, details={'was_impossible': True, 'reason': 'User and/or item is unkown.'}),\n",
       " Prediction(uid='A24680IQCI1HAP', iid='B007QUBYDY', r_ui=4.0, est=4.087829094663095, details={'was_impossible': True, 'reason': 'User and/or item is unkown.'}),\n",
       " Prediction(uid='AKZFMD1CVBPTW', iid='B001EQQW1A', r_ui=5.0, est=4.087829094663095, details={'was_impossible': True, 'reason': 'User and/or item is unkown.'}),\n",
       " Prediction(uid='A1Z894YSLA3KTB', iid='B0017Q8B70', r_ui=5.0, est=4.285714285714286, details={'actual_k': 0, 'was_impossible': False}),\n",
       " Prediction(uid='A1BV5KZOY6OW5W', iid='B0085HOM4K', r_ui=5.0, est=4.087829094663095, details={'was_impossible': True, 'reason': 'User and/or item is unkown.'}),\n",
       " Prediction(uid='A2KH5H3VYU3ZU4', iid='B00005NIMJ', r_ui=5.0, est=4.087829094663095, details={'was_impossible': True, 'reason': 'User and/or item is unkown.'}),\n",
       " Prediction(uid='A30P3JMNHP2E5I', iid='B00A7MFRHC', r_ui=4.0, est=4.087829094663095, details={'was_impossible': True, 'reason': 'User and/or item is unkown.'}),\n",
       " Prediction(uid='AB1T8KBOSHZ5F', iid='B004ZGLM5W', r_ui=4.0, est=4.304597701149425, details={'actual_k': 0, 'was_impossible': False}),\n",
       " Prediction(uid='ACC7KXJOTA5RT', iid='B000VW2QRM', r_ui=5.0, est=4.087829094663095, details={'was_impossible': True, 'reason': 'User and/or item is unkown.'}),\n",
       " Prediction(uid='AX7MXA975XBAV', iid='B00B8L36A6', r_ui=5.0, est=4.350806451612903, details={'actual_k': 0, 'was_impossible': False}),\n",
       " Prediction(uid='A3F8VIXAJ2GYXJ', iid='B007PRHNHO', r_ui=5.0, est=4.087829094663095, details={'was_impossible': True, 'reason': 'User and/or item is unkown.'}),\n",
       " Prediction(uid='A25RHK72M7T72I', iid='B00ATQF0DC', r_ui=4.0, est=4.087829094663095, details={'was_impossible': True, 'reason': 'User and/or item is unkown.'}),\n",
       " Prediction(uid='A1H4I53WGBXO50', iid='B0051GNA3C', r_ui=5.0, est=4.087829094663095, details={'was_impossible': True, 'reason': 'User and/or item is unkown.'}),\n",
       " Prediction(uid='A1TEKCWOEUFWI2', iid='B001AAVA08', r_ui=5.0, est=4.087829094663095, details={'was_impossible': True, 'reason': 'User and/or item is unkown.'}),\n",
       " Prediction(uid='A12LOPK7YN6ZA8', iid='B008F4NL04', r_ui=5.0, est=3.8068181818181817, details={'actual_k': 0, 'was_impossible': False}),\n",
       " Prediction(uid='A1HR251I2CE2XW', iid='B003ELYQGG', r_ui=5.0, est=4.087829094663095, details={'was_impossible': True, 'reason': 'User and/or item is unkown.'}),\n",
       " Prediction(uid='A32KX7JQ8A0HIF', iid='B0012MI7QE', r_ui=5.0, est=4.087829094663095, details={'was_impossible': True, 'reason': 'User and/or item is unkown.'}),\n",
       " Prediction(uid='A3O2OOBLFNUZ8V', iid='B00429N18S', r_ui=1.0, est=4.087829094663095, details={'was_impossible': True, 'reason': 'User and/or item is unkown.'}),\n",
       " Prediction(uid='A3GJD1AECL0SM8', iid='B001413DWQ', r_ui=4.0, est=4.087829094663095, details={'was_impossible': True, 'reason': 'User and/or item is unkown.'}),\n",
       " Prediction(uid='A1LTW1Y592F8I8', iid='B000652M6Y', r_ui=5.0, est=4.065318818040436, details={'actual_k': 0, 'was_impossible': False}),\n",
       " Prediction(uid='AT9NP6B4BFJJ9', iid='B002CMLDT6', r_ui=1.0, est=4.087829094663095, details={'was_impossible': True, 'reason': 'User and/or item is unkown.'}),\n",
       " Prediction(uid='A2QMJMQL6563UO', iid='B00D029NNA', r_ui=5.0, est=4.087829094663095, details={'was_impossible': True, 'reason': 'User and/or item is unkown.'}),\n",
       " Prediction(uid='APQ1U48W37A32', iid='B00824948U', r_ui=5.0, est=4.087829094663095, details={'was_impossible': True, 'reason': 'User and/or item is unkown.'}),\n",
       " Prediction(uid='A3DP6I1WFS0JT', iid='B005INJ4ZG', r_ui=1.0, est=4.087829094663095, details={'was_impossible': True, 'reason': 'User and/or item is unkown.'}),\n",
       " Prediction(uid='A2P66ATSW42F8L', iid='B006GWO5WK', r_ui=5.0, est=4.306573275862069, details={'actual_k': 0, 'was_impossible': False}),\n",
       " Prediction(uid='AG80GIRLUK3BL', iid='B002A63QOE', r_ui=4.0, est=4.087829094663095, details={'was_impossible': True, 'reason': 'User and/or item is unkown.'}),\n",
       " Prediction(uid='A15AXCGWAWWRP1', iid='B008PPV2PO', r_ui=5.0, est=4.159420289855072, details={'actual_k': 0, 'was_impossible': False}),\n",
       " Prediction(uid='A2Q6V0KTBWN6CJ', iid='B0077EVNY4', r_ui=1.0, est=4.087829094663095, details={'was_impossible': True, 'reason': 'User and/or item is unkown.'}),\n",
       " Prediction(uid='A1YAGM2QOSAAOT', iid='B00829TIA4', r_ui=5.0, est=4.235294117647059, details={'actual_k': 0, 'was_impossible': False}),\n",
       " Prediction(uid='A1CDXGP3FEVQ4P', iid='B0062TB868', r_ui=2.0, est=4.087829094663095, details={'was_impossible': True, 'reason': 'User and/or item is unkown.'}),\n",
       " Prediction(uid='AS57UBTREZT1A', iid='B003ELYQGG', r_ui=2.0, est=4.087829094663095, details={'was_impossible': True, 'reason': 'User and/or item is unkown.'}),\n",
       " Prediction(uid='A24R6UXD8AW7DW', iid='B008EQ1ZQK', r_ui=5.0, est=4.087829094663095, details={'was_impossible': True, 'reason': 'User and/or item is unkown.'}),\n",
       " Prediction(uid='A3F007O5Z3SJII', iid='B00D02AHEO', r_ui=5.0, est=4.489285714285714, details={'actual_k': 0, 'was_impossible': False}),\n",
       " Prediction(uid='A3VHP40HMBI1PS', iid='B0047Q7LSW', r_ui=2.0, est=4.087829094663095, details={'was_impossible': True, 'reason': 'User and/or item is unkown.'}),\n",
       " Prediction(uid='A115WK7ZV8ACS9', iid='B00DR0PDNE', r_ui=5.0, est=4.087829094663095, details={'was_impossible': True, 'reason': 'User and/or item is unkown.'}),\n",
       " Prediction(uid='ATLR7QF9ELXTB', iid='B007PFS1JK', r_ui=5.0, est=4.361216730038023, details={'actual_k': 0, 'was_impossible': False}),\n",
       " Prediction(uid='A13BZ14QY5TL', iid='B00DR0BOSC', r_ui=4.0, est=4.087829094663095, details={'was_impossible': True, 'reason': 'User and/or item is unkown.'}),\n",
       " Prediction(uid='A3LVYGLSUHQK8T', iid='B00005LEN4', r_ui=4.0, est=4.087829094663095, details={'was_impossible': True, 'reason': 'User and/or item is unkown.'}),\n",
       " Prediction(uid='A26G8QKU35059R', iid='B00012F8AY', r_ui=4.0, est=3.8823529411764706, details={'actual_k': 0, 'was_impossible': False}),\n",
       " Prediction(uid='A302MN45164NLG', iid='B007IMPMW4', r_ui=5.0, est=4.087829094663095, details={'was_impossible': True, 'reason': 'User and/or item is unkown.'}),\n",
       " Prediction(uid='A52HNBXQ0AQ8A', iid='B003YH9EZ8', r_ui=5.0, est=4.087829094663095, details={'was_impossible': True, 'reason': 'User and/or item is unkown.'}),\n",
       " Prediction(uid='A1Y43WDNW66QKE', iid='B002Y27P4Q', r_ui=1.0, est=4.087829094663095, details={'was_impossible': True, 'reason': 'User and/or item is unkown.'}),\n",
       " Prediction(uid='A3VQZ00Y6VSAS8', iid='B0002CPBWI', r_ui=4.0, est=4.087829094663095, details={'was_impossible': True, 'reason': 'User and/or item is unkown.'}),\n",
       " Prediction(uid='A3AJ9KQBE29QUC', iid='B003U8GCJC', r_ui=1.0, est=3.8142857142857145, details={'actual_k': 0, 'was_impossible': False}),\n",
       " Prediction(uid='A21INUA35HX4XQ', iid='B001CBFTFM', r_ui=4.0, est=3.9140625, details={'actual_k': 0, 'was_impossible': False}),\n",
       " Prediction(uid='A178U81CCUCPVN', iid='B002S0O7LI', r_ui=3.0, est=3.803921568627451, details={'actual_k': 0, 'was_impossible': False}),\n",
       " Prediction(uid='A1J0KTYO5CTA8W', iid='B006PWGEVQ', r_ui=5.0, est=4.087829094663095, details={'was_impossible': True, 'reason': 'User and/or item is unkown.'}),\n",
       " Prediction(uid='A854U626HYP03', iid='B001QTXL82', r_ui=5.0, est=4.087829094663095, details={'was_impossible': True, 'reason': 'User and/or item is unkown.'}),\n",
       " Prediction(uid='A1KH0PWZC7LGRI', iid='B002WE6D44', r_ui=5.0, est=4.087829094663095, details={'was_impossible': True, 'reason': 'User and/or item is unkown.'}),\n",
       " Prediction(uid='A4BVHRUV2ZVQK', iid='B005HGBEZ2', r_ui=5.0, est=4.087829094663095, details={'was_impossible': True, 'reason': 'User and/or item is unkown.'}),\n",
       " Prediction(uid='AUITSK6PU2TBR', iid='B000HZDF8W', r_ui=2.0, est=4.087829094663095, details={'was_impossible': True, 'reason': 'User and/or item is unkown.'}),\n",
       " Prediction(uid='A1JZBIE1ZK78WU', iid='B0097BEECI', r_ui=2.0, est=4.087829094663095, details={'was_impossible': True, 'reason': 'User and/or item is unkown.'}),\n",
       " Prediction(uid='A19XPDB9HFJ57X', iid='B0089E5R0W', r_ui=5.0, est=4.087829094663095, details={'was_impossible': True, 'reason': 'User and/or item is unkown.'}),\n",
       " Prediction(uid='A3CJKGC6XJUMWW', iid='B003VAGXWK', r_ui=5.0, est=4.553097345132743, details={'actual_k': 0, 'was_impossible': False}),\n",
       " Prediction(uid='A323FTYFV1BHWP', iid='B0036R9YA6', r_ui=3.0, est=4.620689655172414, details={'actual_k': 0, 'was_impossible': False}),\n",
       " Prediction(uid='A1MM7IDJ92N9QD', iid='B006BGZJJ4', r_ui=4.0, est=4.087829094663095, details={'was_impossible': True, 'reason': 'User and/or item is unkown.'}),\n",
       " Prediction(uid='A3KPDQPAN42YE6', iid='B005QX7KYU', r_ui=5.0, est=4.054644808743169, details={'actual_k': 0, 'was_impossible': False}),\n",
       " Prediction(uid='A3HJRJFYVNUHM5', iid='B004KKZ0HO', r_ui=5.0, est=4.087829094663095, details={'was_impossible': True, 'reason': 'User and/or item is unkown.'}),\n",
       " Prediction(uid='AHJJA9JW4IQTP', iid='B000B9RI14', r_ui=5.0, est=4.087829094663095, details={'was_impossible': True, 'reason': 'User and/or item is unkown.'}),\n",
       " Prediction(uid='A1S0PFZS7Q2ZZ2', iid='B000UZXT4E', r_ui=4.0, est=4.087829094663095, details={'was_impossible': True, 'reason': 'User and/or item is unkown.'}),\n",
       " Prediction(uid='A2GPQUV5GEZ07D', iid='B007LOLVLU', r_ui=5.0, est=3.6714801444043323, details={'actual_k': 0, 'was_impossible': False}),\n",
       " Prediction(uid='A1V46BYYXAYWHC', iid='B00EOE6COQ', r_ui=5.0, est=4.087829094663095, details={'was_impossible': True, 'reason': 'User and/or item is unkown.'}),\n",
       " Prediction(uid='AQNXGP04Z2YU6', iid='B004MSI7UQ', r_ui=1.0, est=4.087829094663095, details={'was_impossible': True, 'reason': 'User and/or item is unkown.'}),\n",
       " Prediction(uid='A2BGKYIQFU7HFB', iid='B00B3X72OU', r_ui=4.0, est=4.634615384615385, details={'actual_k': 0, 'was_impossible': False}),\n",
       " Prediction(uid='A2USDTBUP3NCI6', iid='B0009W9WHQ', r_ui=5.0, est=4.087829094663095, details={'was_impossible': True, 'reason': 'User and/or item is unkown.'}),\n",
       " Prediction(uid='A2NUTM1FBPSTOE', iid='B0001N3ZRQ', r_ui=4.0, est=3.912087912087912, details={'actual_k': 0, 'was_impossible': False}),\n",
       " Prediction(uid='A153U0JC1859SW', iid='B002V17U54', r_ui=4.0, est=4.087829094663095, details={'was_impossible': True, 'reason': 'User and/or item is unkown.'}),\n",
       " Prediction(uid='A1U2U2UKJXZQOO', iid='B00BQ4F9ZA', r_ui=4.0, est=4.087829094663095, details={'was_impossible': True, 'reason': 'User and/or item is unkown.'}),\n",
       " Prediction(uid='AHW9IEC4YL4LE', iid='B001407E86', r_ui=5.0, est=4.057142857142857, details={'actual_k': 0, 'was_impossible': False}),\n",
       " Prediction(uid='A12TDBC1P9ECW3', iid='B0012JJOQO', r_ui=4.0, est=4.087829094663095, details={'was_impossible': True, 'reason': 'User and/or item is unkown.'}),\n",
       " Prediction(uid='A1OVUPDV9LIQCN', iid='B004J3ZV62', r_ui=3.0, est=4.145110410094637, details={'actual_k': 0, 'was_impossible': False}),\n",
       " Prediction(uid='A18HU62I3DI476', iid='B004TKTOWC', r_ui=3.0, est=2.923076923076923, details={'actual_k': 0, 'was_impossible': False}),\n",
       " Prediction(uid='AKCGJYVW72YBY', iid='B004ULOZPQ', r_ui=5.0, est=4.242857142857143, details={'actual_k': 0, 'was_impossible': False}),\n",
       " Prediction(uid='A3HA8JOXNVDAL8', iid='B00005YXZE', r_ui=1.0, est=2.5675675675675675, details={'actual_k': 0, 'was_impossible': False}),\n",
       " Prediction(uid='AEGGG6TPXZFOE', iid='B00419OH6Y', r_ui=5.0, est=4.087829094663095, details={'was_impossible': True, 'reason': 'User and/or item is unkown.'}),\n",
       " Prediction(uid='AYH1U2J4TDTDD', iid='B002M3SOC4', r_ui=4.0, est=4.087829094663095, details={'was_impossible': True, 'reason': 'User and/or item is unkown.'}),\n",
       " Prediction(uid='A2SZ8KBF07ZTTS', iid='B00BGGDVOO', r_ui=5.0, est=4.087829094663095, details={'was_impossible': True, 'reason': 'User and/or item is unkown.'}),\n",
       " Prediction(uid='A5R8B7UK8WPOS', iid='B002VKVZ1A', r_ui=4.0, est=4.087829094663095, details={'was_impossible': True, 'reason': 'User and/or item is unkown.'}),\n",
       " Prediction(uid='A3OJGYGSLLZRQA', iid='B000UU7ZPS', r_ui=4.0, est=4.087829094663095, details={'was_impossible': True, 'reason': 'User and/or item is unkown.'}),\n",
       " Prediction(uid='ARN2UV3APS75N', iid='B0019EHU8G', r_ui=5.0, est=4.744630071599046, details={'actual_k': 0, 'was_impossible': False}),\n",
       " Prediction(uid='AOM2M4WJW9IZ7', iid='B005BCAKO8', r_ui=5.0, est=4.087829094663095, details={'was_impossible': True, 'reason': 'User and/or item is unkown.'}),\n",
       " Prediction(uid='A1G9Z9754KFCTF', iid='B00DR8LA60', r_ui=4.0, est=4.087829094663095, details={'was_impossible': True, 'reason': 'User and/or item is unkown.'}),\n",
       " Prediction(uid='A2WQPYZKGN5RJY', iid='B00426C56U', r_ui=5.0, est=3.953038674033149, details={'actual_k': 0, 'was_impossible': False}),\n",
       " Prediction(uid='ATA1EZ9A5BU6V', iid='B0012XFDWO', r_ui=5.0, est=4.087829094663095, details={'was_impossible': True, 'reason': 'User and/or item is unkown.'}),\n",
       " Prediction(uid='A1MQNS1QNI3YPK', iid='B003U9RHM2', r_ui=5.0, est=4.638888888888889, details={'actual_k': 0, 'was_impossible': False}),\n",
       " Prediction(uid='A1S1SEMU5J3EJK', iid='B000NE9D3I', r_ui=5.0, est=4.087829094663095, details={'was_impossible': True, 'reason': 'User and/or item is unkown.'}),\n",
       " Prediction(uid='A2FMWAH444LUN2', iid='B004FMI3DA', r_ui=5.0, est=4.087829094663095, details={'was_impossible': True, 'reason': 'User and/or item is unkown.'}),\n",
       " Prediction(uid='A3KPAPX8SLX96B', iid='B001ET5O70', r_ui=5.0, est=5, details={'actual_k': 1, 'was_impossible': False}),\n",
       " Prediction(uid='AZVGIU7RW82AN', iid='B005BZNEKM', r_ui=3.0, est=4.087829094663095, details={'was_impossible': True, 'reason': 'User and/or item is unkown.'}),\n",
       " Prediction(uid='A1ASSCJD9Q5GEC', iid='B00CM1BN5G', r_ui=5.0, est=4.087829094663095, details={'was_impossible': True, 'reason': 'User and/or item is unkown.'}),\n",
       " Prediction(uid='A3LOW4HCAW07BT', iid='B004T9RR6I', r_ui=3.0, est=4.087829094663095, details={'was_impossible': True, 'reason': 'User and/or item is unkown.'}),\n",
       " Prediction(uid='A395MCDSJ5XN6X', iid='B001RB24S2', r_ui=1.0, est=4.671052631578948, details={'actual_k': 0, 'was_impossible': False}),\n",
       " Prediction(uid='A6ZHMFWMX7ZYH', iid='B003FVI2KQ', r_ui=5.0, est=4.087829094663095, details={'was_impossible': True, 'reason': 'User and/or item is unkown.'}),\n",
       " Prediction(uid='A1RTK2HORCK5X', iid='B0036WT3RA', r_ui=5.0, est=4.087829094663095, details={'was_impossible': True, 'reason': 'User and/or item is unkown.'}),\n",
       " Prediction(uid='A39L5MV1MFW2XL', iid='B001OCY3RY', r_ui=4.0, est=4.087829094663095, details={'was_impossible': True, 'reason': 'User and/or item is unkown.'}),\n",
       " Prediction(uid='A1T2ZIUKBSWQQP', iid='B003DZ1652', r_ui=5.0, est=4.087829094663095, details={'was_impossible': True, 'reason': 'User and/or item is unkown.'}),\n",
       " Prediction(uid='A1E3T4V1N3E9H8', iid='B000OGX5AM', r_ui=5.0, est=4.72644376899696, details={'actual_k': 0, 'was_impossible': False}),\n",
       " Prediction(uid='ANJXKTS10RUB5', iid='B00BGA9WK2', r_ui=5.0, est=4.087829094663095, details={'was_impossible': True, 'reason': 'User and/or item is unkown.'}),\n",
       " Prediction(uid='A2IW9XUWYGVTE9', iid='B0018LX0DY', r_ui=5.0, est=3.73992673992674, details={'actual_k': 0, 'was_impossible': False}),\n",
       " Prediction(uid='A9TUK03C1K76R', iid='B007WTAJTO', r_ui=5.0, est=4.429579120620739, details={'actual_k': 0, 'was_impossible': False}),\n",
       " Prediction(uid='AR79WYMKCJI4F', iid='B001ELJER4', r_ui=5.0, est=4.087829094663095, details={'was_impossible': True, 'reason': 'User and/or item is unkown.'}),\n",
       " Prediction(uid='A1NOCYSMCRR365', iid='B008LXSYJC', r_ui=1.0, est=4.087829094663095, details={'was_impossible': True, 'reason': 'User and/or item is unkown.'}),\n",
       " Prediction(uid='A15GXAOMKMJUH6', iid='B006BZ5OHW', r_ui=4.0, est=4.435435435435435, details={'actual_k': 0, 'was_impossible': False}),\n",
       " Prediction(uid='A13TZRLW8JEON4', iid='B0015DYMVO', r_ui=3.0, est=4.121076233183857, details={'actual_k': 0, 'was_impossible': False}),\n",
       " Prediction(uid='A3D7L4A56CNK4J', iid='B000ETVKHE', r_ui=3.0, est=3.952191235059761, details={'actual_k': 0, 'was_impossible': False}),\n",
       " Prediction(uid='A1T8N18XKDLJO4', iid='B00CMQTVK0', r_ui=5.0, est=3.9256965944272446, details={'actual_k': 0, 'was_impossible': False}),\n",
       " Prediction(uid='A2SKUEKNQLMSZP', iid='B0012S4APK', r_ui=1.0, est=4.776601546658463, details={'actual_k': 1, 'was_impossible': False}),\n",
       " Prediction(uid='A39I7GLUFCMNTU', iid='B00FCK20SI', r_ui=4.0, est=4.087829094663095, details={'was_impossible': True, 'reason': 'User and/or item is unkown.'}),\n",
       " Prediction(uid='A1MAMMAMXSAWWX', iid='B002DPUUKK', r_ui=3.0, est=4.087829094663095, details={'was_impossible': True, 'reason': 'User and/or item is unkown.'}),\n",
       " Prediction(uid='A2BZ6TWKLD7IO1', iid='B000CSQJ8C', r_ui=5.0, est=4.41717791411043, details={'actual_k': 0, 'was_impossible': False}),\n",
       " Prediction(uid='A26DLQ9C0B2VZL', iid='B000ES8EG0', r_ui=4.0, est=4.087829094663095, details={'was_impossible': True, 'reason': 'User and/or item is unkown.'}),\n",
       " Prediction(uid='A16JAONC0U7T4J', iid='B007M58WWO', r_ui=3.0, est=4.087829094663095, details={'was_impossible': True, 'reason': 'User and/or item is unkown.'}),\n",
       " Prediction(uid='AFZGANCQ2WM61', iid='B003BYRGJU', r_ui=5.0, est=4.087829094663095, details={'was_impossible': True, 'reason': 'User and/or item is unkown.'}),\n",
       " Prediction(uid='A2MCE0GHYJQFNE', iid='B004I1GHY0', r_ui=4.0, est=3.4516129032258065, details={'actual_k': 0, 'was_impossible': False}),\n",
       " Prediction(uid='A3JXDPMVIW47Y0', iid='B000NUBY0C', r_ui=5.0, est=4.087829094663095, details={'was_impossible': True, 'reason': 'User and/or item is unkown.'}),\n",
       " Prediction(uid='A26TP17IR1Q645', iid='B002HU629E', r_ui=2.0, est=4.087829094663095, details={'was_impossible': True, 'reason': 'User and/or item is unkown.'}),\n",
       " Prediction(uid='A2L2XY25BO88BM', iid='B001415ENM', r_ui=4.0, est=4.087829094663095, details={'was_impossible': True, 'reason': 'User and/or item is unkown.'}),\n",
       " Prediction(uid='A76H3TUHMOA8K', iid='B000AJIF4E', r_ui=4.0, est=4.592783505154639, details={'actual_k': 0, 'was_impossible': False}),\n",
       " Prediction(uid='A33J4J4K4XFXWR', iid='B00B0O1BWG', r_ui=5.0, est=4.242622950819672, details={'actual_k': 0, 'was_impossible': False}),\n",
       " Prediction(uid='A1CV11KAVOPMX3', iid='B004S50WPG', r_ui=4.0, est=3.5352697095435683, details={'actual_k': 0, 'was_impossible': False}),\n",
       " Prediction(uid='A38DQ3I2L5RODT', iid='B003WGM7FU', r_ui=5.0, est=4.087829094663095, details={'was_impossible': True, 'reason': 'User and/or item is unkown.'}),\n",
       " Prediction(uid='A1OEFK6BC97TH6', iid='B003WUBIZQ', r_ui=5.0, est=4.087829094663095, details={'was_impossible': True, 'reason': 'User and/or item is unkown.'}),\n",
       " Prediction(uid='A1R6KG784RV50B', iid='B00EEOSZK0', r_ui=4.0, est=4.087829094663095, details={'was_impossible': True, 'reason': 'User and/or item is unkown.'}),\n",
       " Prediction(uid='A2ATGTE9ZMD8M', iid='B002Y27P6O', r_ui=4.0, est=4.087829094663095, details={'was_impossible': True, 'reason': 'User and/or item is unkown.'}),\n",
       " Prediction(uid='A4JHEO7H330AF', iid='B008X9Z7N0', r_ui=3.0, est=4.053333333333334, details={'actual_k': 0, 'was_impossible': False}),\n",
       " Prediction(uid='A2C21LQ4KTIKM7', iid='B00007KDVI', r_ui=4.0, est=4.087829094663095, details={'was_impossible': True, 'reason': 'User and/or item is unkown.'}),\n",
       " Prediction(uid='A3NM6DGX6V1VLI', iid='B00D02AHEO', r_ui=5.0, est=4.489285714285714, details={'actual_k': 0, 'was_impossible': False}),\n",
       " Prediction(uid='A2ONI7OBFV56E8', iid='B007PA1K84', r_ui=3.0, est=4.087829094663095, details={'was_impossible': True, 'reason': 'User and/or item is unkown.'}),\n",
       " Prediction(uid='A3EH87EXL3ZHOP', iid='B00BGGDVOO', r_ui=5.0, est=4.087829094663095, details={'was_impossible': True, 'reason': 'User and/or item is unkown.'}),\n",
       " Prediction(uid='A1VSRNWBZYP6Y6', iid='B004BQTSKC', r_ui=4.0, est=4.395833333333333, details={'actual_k': 0, 'was_impossible': False}),\n",
       " Prediction(uid='AUVI6I995DCFS', iid='B000RZQZM0', r_ui=5.0, est=4.087829094663095, details={'was_impossible': True, 'reason': 'User and/or item is unkown.'}),\n",
       " Prediction(uid='A33LVMWUOSRPOK', iid='B000UMX7FI', r_ui=5.0, est=4.087829094663095, details={'was_impossible': True, 'reason': 'User and/or item is unkown.'}),\n",
       " Prediction(uid='ADWR2TDLXDRDP', iid='B00AXWGT46', r_ui=2.0, est=4.087829094663095, details={'was_impossible': True, 'reason': 'User and/or item is unkown.'}),\n",
       " Prediction(uid='A1O9G0PNPK3LCS', iid='B004OVECU0', r_ui=4.0, est=4.087829094663095, details={'was_impossible': True, 'reason': 'User and/or item is unkown.'}),\n",
       " Prediction(uid='A2Z2QWJDAAL5RR', iid='B0090XWU8S', r_ui=5.0, est=4.087829094663095, details={'was_impossible': True, 'reason': 'User and/or item is unkown.'}),\n",
       " Prediction(uid='A15BAMCA8VTUB', iid='B00007FGUF', r_ui=5.0, est=4.2, details={'actual_k': 0, 'was_impossible': False}),\n",
       " Prediction(uid='A32ULNPBVXNC00', iid='B0002DG9XW', r_ui=1.0, est=4.087829094663095, details={'was_impossible': True, 'reason': 'User and/or item is unkown.'}),\n",
       " Prediction(uid='A1RB8GE2E1ZQWN', iid='B009VL9YGU', r_ui=5.0, est=4.0, details={'actual_k': 0, 'was_impossible': False}),\n",
       " Prediction(uid='AUW4AHAH2QM8P', iid='B004T1YAEI', r_ui=4.0, est=4.087829094663095, details={'was_impossible': True, 'reason': 'User and/or item is unkown.'}),\n",
       " Prediction(uid='A37KHYWJ8UR6EQ', iid='B0011U65F2', r_ui=5.0, est=4.087829094663095, details={'was_impossible': True, 'reason': 'User and/or item is unkown.'}),\n",
       " Prediction(uid='A31XCN4OGPSREL', iid='B008AST7R6', r_ui=5.0, est=4.235637779941578, details={'actual_k': 0, 'was_impossible': False}),\n",
       " Prediction(uid='A1O5P4PXUTS34Q', iid='B005EZTUMU', r_ui=5.0, est=4.087829094663095, details={'was_impossible': True, 'reason': 'User and/or item is unkown.'}),\n",
       " Prediction(uid='A3OF51AH22196M', iid='B006Y0YZZ6', r_ui=5.0, est=4.986673058485139, details={'actual_k': 1, 'was_impossible': False}),\n",
       " Prediction(uid='A4MVAVZWUT5LD', iid='B00946XHI8', r_ui=3.0, est=4.73531719500268, details={'actual_k': 1, 'was_impossible': False}),\n",
       " Prediction(uid='A3SAZ3I04K3LPM', iid='B008PWUO4W', r_ui=5.0, est=4.087829094663095, details={'was_impossible': True, 'reason': 'User and/or item is unkown.'}),\n",
       " Prediction(uid='A2G90W3HOO1V91', iid='B0082BZY4G', r_ui=1.0, est=4.413793103448276, details={'actual_k': 0, 'was_impossible': False}),\n",
       " Prediction(uid='AA4EZY4WYI56H', iid='B003DKL57G', r_ui=4.0, est=4.087829094663095, details={'was_impossible': True, 'reason': 'User and/or item is unkown.'}),\n",
       " Prediction(uid='A3256EFVIJJGF5', iid='B0083XTPH0', r_ui=5.0, est=4.087829094663095, details={'was_impossible': True, 'reason': 'User and/or item is unkown.'}),\n",
       " Prediction(uid='A1IET5W3L2CADX', iid='B00B7N9A5A', r_ui=4.0, est=4.087829094663095, details={'was_impossible': True, 'reason': 'User and/or item is unkown.'}),\n",
       " Prediction(uid='A134ZYPSIHOSPJ', iid='B005114J32', r_ui=5.0, est=4.087829094663095, details={'was_impossible': True, 'reason': 'User and/or item is unkown.'}),\n",
       " Prediction(uid='A1SS993BPE92ZB', iid='B001L1H0SC', r_ui=4.0, est=4.087829094663095, details={'was_impossible': True, 'reason': 'User and/or item is unkown.'}),\n",
       " Prediction(uid='A2TR7B8DUDRGJU', iid='B009SYZ8OC', r_ui=5.0, est=4.087829094663095, details={'was_impossible': True, 'reason': 'User and/or item is unkown.'}),\n",
       " Prediction(uid='A3Q1J68QY1MZQ9', iid='B00DQZNWNI', r_ui=4.0, est=3.3666666666666667, details={'actual_k': 0, 'was_impossible': False}),\n",
       " Prediction(uid='A2L6QS8SVHT9RG', iid='B004CLYEE6', r_ui=4.0, est=4.018755598896388, details={'actual_k': 2, 'was_impossible': False}),\n",
       " Prediction(uid='ATNV4H4SLYKG8', iid='B0015AARJI', r_ui=4.0, est=4.214826021180031, details={'actual_k': 0, 'was_impossible': False}),\n",
       " Prediction(uid='A1XDELUCX92VL', iid='B007RH5GZI', r_ui=5.0, est=4.087829094663095, details={'was_impossible': True, 'reason': 'User and/or item is unkown.'}),\n",
       " Prediction(uid='A3PVWDQLHP6VRC', iid='B008D4X97Q', r_ui=5.0, est=4.087829094663095, details={'was_impossible': True, 'reason': 'User and/or item is unkown.'}),\n",
       " Prediction(uid='A3T4YEECU9X6WA', iid='B001N0KEWU', r_ui=5.0, est=4.087829094663095, details={'was_impossible': True, 'reason': 'User and/or item is unkown.'}),\n",
       " Prediction(uid='A1RSUL5YYZJMGN', iid='B002DW0VT8', r_ui=1.0, est=3.311111111111111, details={'actual_k': 0, 'was_impossible': False}),\n",
       " Prediction(uid='A11W566CYG3VDN', iid='B004KKGF1O', r_ui=1.0, est=4.087829094663095, details={'was_impossible': True, 'reason': 'User and/or item is unkown.'}),\n",
       " Prediction(uid='AJNLDOCJMPICZ', iid='B004APJL6A', r_ui=5.0, est=4.087829094663095, details={'was_impossible': True, 'reason': 'User and/or item is unkown.'}),\n",
       " Prediction(uid='A2HXKV51E1P5JO', iid='B003FZA1OW', r_ui=1.0, est=4.087829094663095, details={'was_impossible': True, 'reason': 'User and/or item is unkown.'}),\n",
       " Prediction(uid='A86PY2L1LL49R', iid='B009UZ3TF4', r_ui=5.0, est=4.087829094663095, details={'was_impossible': True, 'reason': 'User and/or item is unkown.'}),\n",
       " Prediction(uid='A25FY0JD54B09P', iid='B001S2PPT0', r_ui=4.0, est=4.760290556900727, details={'actual_k': 0, 'was_impossible': False}),\n",
       " Prediction(uid='A3EHHYQGRREF1I', iid='B00AEKEA48', r_ui=1.0, est=4.087829094663095, details={'was_impossible': True, 'reason': 'User and/or item is unkown.'}),\n",
       " Prediction(uid='A1RIVBJJ8P1IIU', iid='B000I68BD4', r_ui=4.0, est=4.087829094663095, details={'was_impossible': True, 'reason': 'User and/or item is unkown.'}),\n",
       " Prediction(uid='ATOHCQ9Y39NVW', iid='B00BGA9WK2', r_ui=5.0, est=4.087829094663095, details={'was_impossible': True, 'reason': 'User and/or item is unkown.'}),\n",
       " Prediction(uid='A1DQ2008L9OIIX', iid='B00E44B18I', r_ui=5.0, est=4.087829094663095, details={'was_impossible': True, 'reason': 'User and/or item is unkown.'}),\n",
       " Prediction(uid='AC1INZK10Y3WB', iid='B00DR0PDNE', r_ui=1.0, est=1.1406312972950374, details={'actual_k': 1, 'was_impossible': False}),\n",
       " Prediction(uid='AUVCJD046BUJS', iid='B007BJHETS', r_ui=5.0, est=4.087829094663095, details={'was_impossible': True, 'reason': 'User and/or item is unkown.'}),\n",
       " Prediction(uid='A81SWWO5HY1GX', iid='B0034CL2ZI', r_ui=5.0, est=4.087829094663095, details={'was_impossible': True, 'reason': 'User and/or item is unkown.'}),\n",
       " Prediction(uid='A1N8OP5QRVFC6Z', iid='B00316263Y', r_ui=5.0, est=4.087829094663095, details={'was_impossible': True, 'reason': 'User and/or item is unkown.'}),\n",
       " Prediction(uid='A37JNUJSVAJKYN', iid='B002QAUN2M', r_ui=5.0, est=3.968421052631579, details={'actual_k': 0, 'was_impossible': False}),\n",
       " Prediction(uid='A54EIRTOLL04U', iid='B000I04WWY', r_ui=1.0, est=4.166666666666667, details={'actual_k': 0, 'was_impossible': False}),\n",
       " Prediction(uid='A1D9B9K0UN1DY2', iid='B00D02AHEO', r_ui=5.0, est=4.489285714285714, details={'actual_k': 0, 'was_impossible': False}),\n",
       " Prediction(uid='A2QBFQ5JKI1KNI', iid='B002DW92IE', r_ui=4.0, est=3.560646900269542, details={'actual_k': 0, 'was_impossible': False}),\n",
       " Prediction(uid='A3VUTU9UTD7DPX', iid='B000A5T7AO', r_ui=4.0, est=4.087829094663095, details={'was_impossible': True, 'reason': 'User and/or item is unkown.'}),\n",
       " Prediction(uid='A1R71FZXYGYIFY', iid='B000WFZRZG', r_ui=2.0, est=3.7685589519650655, details={'actual_k': 0, 'was_impossible': False}),\n",
       " Prediction(uid='APS104O3RFB81', iid='B005C71L5Y', r_ui=5.0, est=3.933333333333333, details={'actual_k': 0, 'was_impossible': False}),\n",
       " Prediction(uid='A1WV5CBGCADD8J', iid='B005NX7HY6', r_ui=5.0, est=4.592592592592593, details={'actual_k': 0, 'was_impossible': False}),\n",
       " Prediction(uid='A210JSLAY1HU4R', iid='B001V9LPT4', r_ui=5.0, est=4.087829094663095, details={'was_impossible': True, 'reason': 'User and/or item is unkown.'}),\n",
       " Prediction(uid='A1M64GACZPLGIW', iid='B00540XS32', r_ui=3.0, est=4.551724137931035, details={'actual_k': 0, 'was_impossible': False}),\n",
       " Prediction(uid='A26MWJWX3AZ28G', iid='B005I6EU48', r_ui=5.0, est=4.087829094663095, details={'was_impossible': True, 'reason': 'User and/or item is unkown.'}),\n",
       " Prediction(uid='A2IZO8CGAPV9S', iid='B00006IS4X', r_ui=5.0, est=4.067226890756302, details={'actual_k': 0, 'was_impossible': False}),\n",
       " Prediction(uid='A2G27AJWU370D', iid='B000I68BD4', r_ui=5.0, est=4.087829094663095, details={'was_impossible': True, 'reason': 'User and/or item is unkown.'}),\n",
       " Prediction(uid='A2H0UEBYA5WPDB', iid='B000B9RI14', r_ui=5.0, est=1.659057638979803, details={'actual_k': 1, 'was_impossible': False}),\n",
       " Prediction(uid='A1RTBGBEXJN4V2', iid='B003L18YG2', r_ui=2.0, est=4.087829094663095, details={'was_impossible': True, 'reason': 'User and/or item is unkown.'}),\n",
       " Prediction(uid='A1J9GZPBU2UN4X', iid='B004HD5EXO', r_ui=5.0, est=4.087829094663095, details={'was_impossible': True, 'reason': 'User and/or item is unkown.'}),\n",
       " Prediction(uid='A2J2B15RNE98Z5', iid='B00AAZ2DIM', r_ui=1.0, est=4.087829094663095, details={'was_impossible': True, 'reason': 'User and/or item is unkown.'}),\n",
       " Prediction(uid='A16HP7I89YG3HS', iid='B004RKQM8I', r_ui=4.0, est=4.087829094663095, details={'was_impossible': True, 'reason': 'User and/or item is unkown.'}),\n",
       " Prediction(uid='A2E7Q76UYFX8XG', iid='B004WIUDGM', r_ui=1.0, est=3.5632530120481927, details={'actual_k': 0, 'was_impossible': False}),\n",
       " Prediction(uid='A3CXQLQ2DAFKNA', iid='B008454IWY', r_ui=3.0, est=3.6153846153846154, details={'actual_k': 0, 'was_impossible': False}),\n",
       " Prediction(uid='A3RVBOXX0M6RMC', iid='B000EVLS4C', r_ui=5.0, est=4.087829094663095, details={'was_impossible': True, 'reason': 'User and/or item is unkown.'}),\n",
       " Prediction(uid='A184222AFP0QA5', iid='B007WTAJTO', r_ui=5.0, est=4.087829094663095, details={'was_impossible': True, 'reason': 'User and/or item is unkown.'}),\n",
       " Prediction(uid='A113PIZ6T8QS28', iid='B00EPD93Z6', r_ui=5.0, est=4.087829094663095, details={'was_impossible': True, 'reason': 'User and/or item is unkown.'}),\n",
       " Prediction(uid='A12NGZEDG2BPDB', iid='B00176SYZE', r_ui=5.0, est=4.087829094663095, details={'was_impossible': True, 'reason': 'User and/or item is unkown.'}),\n",
       " Prediction(uid='A1JOGQ339KBD43', iid='B000EPRG6W', r_ui=5.0, est=4.045454545454546, details={'actual_k': 0, 'was_impossible': False}),\n",
       " Prediction(uid='A1BL2OGOR8LRTQ', iid='B004444O4G', r_ui=1.0, est=4.087829094663095, details={'was_impossible': True, 'reason': 'User and/or item is unkown.'}),\n",
       " Prediction(uid='A1D969F2HCKSOE', iid='B00375JBL4', r_ui=3.0, est=4.02, details={'actual_k': 0, 'was_impossible': False}),\n",
       " Prediction(uid='A6A6BN5OH8F3H', iid='B008R6OPJQ', r_ui=5.0, est=4.466666666666667, details={'actual_k': 0, 'was_impossible': False}),\n",
       " Prediction(uid='APJRKEHP6I8TU', iid='B009XE0504', r_ui=5.0, est=4.087829094663095, details={'was_impossible': True, 'reason': 'User and/or item is unkown.'}),\n",
       " Prediction(uid='A81NIDCJOY6IO', iid='B002WE6D44', r_ui=5.0, est=4.087829094663095, details={'was_impossible': True, 'reason': 'User and/or item is unkown.'}),\n",
       " Prediction(uid='A9OC6NDS9LSV3', iid='B000OKH6ZI', r_ui=5.0, est=4.157894736842105, details={'actual_k': 0, 'was_impossible': False}),\n",
       " Prediction(uid='AR83I6O2R29TP', iid='B004KKGF1O', r_ui=5.0, est=4.383333333333334, details={'actual_k': 0, 'was_impossible': False}),\n",
       " Prediction(uid='AZ01YJ8FR4S44', iid='B002JM5JSU', r_ui=1.0, est=4.087829094663095, details={'was_impossible': True, 'reason': 'User and/or item is unkown.'}),\n",
       " Prediction(uid='A1NQB6JSDGZAQO', iid='B0025VKUQQ', r_ui=1.0, est=4.087829094663095, details={'was_impossible': True, 'reason': 'User and/or item is unkown.'}),\n",
       " Prediction(uid='A2O3HUWO2T694', iid='B009L4NLES', r_ui=1.0, est=4.087829094663095, details={'was_impossible': True, 'reason': 'User and/or item is unkown.'}),\n",
       " Prediction(uid='A1NR3LIDWVOG6Q', iid='B00BQ4F9ZA', r_ui=5.0, est=4.087829094663095, details={'was_impossible': True, 'reason': 'User and/or item is unkown.'}),\n",
       " Prediction(uid='A1SR35CI0YPUMJ', iid='B005LJQMCK', r_ui=5.0, est=4.707006369426751, details={'actual_k': 0, 'was_impossible': False}),\n",
       " Prediction(uid='A218NYHPQ2RTXL', iid='B001S4OTS6', r_ui=1.0, est=4.0927152317880795, details={'actual_k': 0, 'was_impossible': False}),\n",
       " Prediction(uid='A3B1J2GX8KNXSV', iid='B0030BZ7HM', r_ui=3.0, est=4.087829094663095, details={'was_impossible': True, 'reason': 'User and/or item is unkown.'}),\n",
       " Prediction(uid='A2JBMPY08EW27I', iid='B008ATAIUU', r_ui=1.0, est=4.087829094663095, details={'was_impossible': True, 'reason': 'User and/or item is unkown.'}),\n",
       " Prediction(uid='A3ACC8FSTVB7L9', iid='B000H72MMU', r_ui=1.0, est=4.087829094663095, details={'was_impossible': True, 'reason': 'User and/or item is unkown.'}),\n",
       " Prediction(uid='A2UAC10V837PMT', iid='B009S750LA', r_ui=5.0, est=4.571428571428571, details={'actual_k': 0, 'was_impossible': False}),\n",
       " Prediction(uid='A1KMA5AQFF6K46', iid='B004YHWI7S', r_ui=5.0, est=4.087829094663095, details={'was_impossible': True, 'reason': 'User and/or item is unkown.'}),\n",
       " Prediction(uid='A3MFCKCUSW5OGE', iid='B00H3OYSHW', r_ui=5.0, est=4.7043478260869565, details={'actual_k': 0, 'was_impossible': False}),\n",
       " Prediction(uid='A3F1Q0RHQC19OR', iid='B0019EHU8G', r_ui=5.0, est=4.087829094663095, details={'was_impossible': True, 'reason': 'User and/or item is unkown.'}),\n",
       " Prediction(uid='A2GNI6RG2T5OFV', iid='B005LFT3GG', r_ui=5.0, est=4.087829094663095, details={'was_impossible': True, 'reason': 'User and/or item is unkown.'}),\n",
       " Prediction(uid='A178P88L5LQ61Q', iid='B00947LCZW', r_ui=5.0, est=4.087829094663095, details={'was_impossible': True, 'reason': 'User and/or item is unkown.'}),\n",
       " Prediction(uid='A1TVDHEFI92MID', iid='B00CGVF8E4', r_ui=5.0, est=4.087829094663095, details={'was_impossible': True, 'reason': 'User and/or item is unkown.'}),\n",
       " Prediction(uid='A2IO2PICSS0BK', iid='B008MB6ZX0', r_ui=3.0, est=4.56, details={'actual_k': 0, 'was_impossible': False}),\n",
       " Prediction(uid='A1SZJC7I20X82N', iid='B003SWLRLS', r_ui=4.0, est=3.9874558519059793, details={'actual_k': 1, 'was_impossible': False}),\n",
       " Prediction(uid='A2WE5TWRQ29ZB3', iid='B004SPVZKW', r_ui=5.0, est=4.087829094663095, details={'was_impossible': True, 'reason': 'User and/or item is unkown.'}),\n",
       " Prediction(uid='A1PZJK9A30EAHD', iid='B001CIREXA', r_ui=5.0, est=4.087829094663095, details={'was_impossible': True, 'reason': 'User and/or item is unkown.'}),\n",
       " Prediction(uid='AEIJ0NJ0J6Y36', iid='B002Y6CJJ8', r_ui=5.0, est=4.087829094663095, details={'was_impossible': True, 'reason': 'User and/or item is unkown.'}),\n",
       " Prediction(uid='A3CQNDN7ESMIN0', iid='B000BKJZ9Q', r_ui=5.0, est=4.087829094663095, details={'was_impossible': True, 'reason': 'User and/or item is unkown.'}),\n",
       " Prediction(uid='AE9F8XZQ32AA1', iid='B004OHJ1M8', r_ui=5.0, est=4.087829094663095, details={'was_impossible': True, 'reason': 'User and/or item is unkown.'}),\n",
       " Prediction(uid='A2KD7WE8U4MKS1', iid='B0013CXZZ6', r_ui=5.0, est=4.087829094663095, details={'was_impossible': True, 'reason': 'User and/or item is unkown.'}),\n",
       " Prediction(uid='A17N2OTHSJKWU', iid='B000E9U9GC', r_ui=5.0, est=4.410256410256411, details={'actual_k': 0, 'was_impossible': False}),\n",
       " Prediction(uid='A9LPHZ2NRHLEY', iid='B009SQQF9C', r_ui=5.0, est=4.087829094663095, details={'was_impossible': True, 'reason': 'User and/or item is unkown.'}),\n",
       " Prediction(uid='A38KK0SZYEH5UD', iid='B002IO2UM2', r_ui=5.0, est=4.754545454545455, details={'actual_k': 0, 'was_impossible': False}),\n",
       " Prediction(uid='A3GM0GOM1T8IWH', iid='B00622AG6S', r_ui=5.0, est=4.087829094663095, details={'was_impossible': True, 'reason': 'User and/or item is unkown.'}),\n",
       " Prediction(uid='A3NRNPBY6M1SXJ', iid='B005Z3DWIY', r_ui=4.0, est=4.087829094663095, details={'was_impossible': True, 'reason': 'User and/or item is unkown.'}),\n",
       " Prediction(uid='A30H1U79H03QZP', iid='B001NKGWEY', r_ui=2.0, est=3.142857142857143, details={'actual_k': 0, 'was_impossible': False}),\n",
       " Prediction(uid='A21DEOTSPYRCLP', iid='B00656U0NK', r_ui=5.0, est=4.087829094663095, details={'was_impossible': True, 'reason': 'User and/or item is unkown.'}),\n",
       " Prediction(uid='A13PB2HLC53B7R', iid='B007P4VOWC', r_ui=5.0, est=1.139088770597449, details={'actual_k': 1, 'was_impossible': False}),\n",
       " Prediction(uid='A2MM30EFRMPL5Z', iid='B001TZWNF0', r_ui=4.0, est=4.527472527472527, details={'actual_k': 0, 'was_impossible': False}),\n",
       " Prediction(uid='A2H7QQM5A5BAPD', iid='B004CG11SS', r_ui=5.0, est=4.087829094663095, details={'was_impossible': True, 'reason': 'User and/or item is unkown.'}),\n",
       " Prediction(uid='A6XO3C74U9CGE', iid='B007PRHNHO', r_ui=5.0, est=4.087829094663095, details={'was_impossible': True, 'reason': 'User and/or item is unkown.'}),\n",
       " Prediction(uid='A2K4M3WEATR3WF', iid='B0035P4C06', r_ui=5.0, est=4.087829094663095, details={'was_impossible': True, 'reason': 'User and/or item is unkown.'}),\n",
       " Prediction(uid='A1M4OK0PNT4H1', iid='B002U6KT8U', r_ui=5.0, est=4.087829094663095, details={'was_impossible': True, 'reason': 'User and/or item is unkown.'}),\n",
       " Prediction(uid='APZA3RYB8SECD', iid='B001A4LVYY', r_ui=5.0, est=4.087829094663095, details={'was_impossible': True, 'reason': 'User and/or item is unkown.'}),\n",
       " ...]"
      ]
     },
     "execution_count": 41,
     "metadata": {},
     "output_type": "execute_result"
    }
   ],
   "source": [
    "test_pred = algo.test(testset)\n",
    "test_pred"
   ]
  },
  {
   "cell_type": "code",
   "execution_count": 42,
   "metadata": {},
   "outputs": [
    {
     "name": "stdout",
     "output_type": "stream",
     "text": [
      "Item-Item Based Model: TestSet Root Mean Squared Error (RMSE)\n",
      "RMSE: 1.3262\n"
     ]
    },
    {
     "data": {
      "text/plain": [
       "1.3261977050919689"
      ]
     },
     "execution_count": 42,
     "metadata": {},
     "output_type": "execute_result"
    }
   ],
   "source": [
    "# get RMSE\n",
    "print(\"Item-Item Based Model: TestSet Root Mean Squared Error (RMSE)\")\n",
    "accuracy.rmse(test_pred, verbose=True)"
   ]
  },
  {
   "cell_type": "markdown",
   "metadata": {},
   "source": [
    "#### Model Based Recommendation"
   ]
  },
  {
   "cell_type": "markdown",
   "metadata": {},
   "source": [
    "There are two main approaches for CF: memory-based and model-based. Memory-based algorithm loads entire database into system memory and make prediction for recommendation based on such in-line memory database. It is simple but encounters the problem of huge data. Model-based algorithm tries to compress huge database into a model and performs recommendation task by applying reference mechanism into this model. Model-based CF can response user’s request instantly. "
   ]
  },
  {
   "cell_type": "markdown",
   "metadata": {},
   "source": [
    "The goal is to train models to be able to make predictions. For example, we could use existing user-item interactions to train a model to predict the top-5 items that a user might like the most. One advantage of these methods is that they are able to recommend a larger number of items to a larger number of users, compared to other methods like memory based approach. For now, let us consider a subset of 10000 records from the dataset"
   ]
  },
  {
   "cell_type": "code",
   "execution_count": 43,
   "metadata": {},
   "outputs": [],
   "source": [
    "ratings1 = ratings.head(10000)"
   ]
  },
  {
   "cell_type": "code",
   "execution_count": 44,
   "metadata": {},
   "outputs": [
    {
     "data": {
      "text/html": [
       "<div>\n",
       "<style scoped>\n",
       "    .dataframe tbody tr th:only-of-type {\n",
       "        vertical-align: middle;\n",
       "    }\n",
       "\n",
       "    .dataframe tbody tr th {\n",
       "        vertical-align: top;\n",
       "    }\n",
       "\n",
       "    .dataframe thead th {\n",
       "        text-align: right;\n",
       "    }\n",
       "</style>\n",
       "<table border=\"1\" class=\"dataframe\">\n",
       "  <thead>\n",
       "    <tr style=\"text-align: right;\">\n",
       "      <th>productId</th>\n",
       "      <th>0321732944</th>\n",
       "      <th>0439886341</th>\n",
       "      <th>0511189877</th>\n",
       "      <th>0528881469</th>\n",
       "      <th>0558835155</th>\n",
       "      <th>059400232X</th>\n",
       "      <th>0594012015</th>\n",
       "      <th>0594017343</th>\n",
       "      <th>0594017580</th>\n",
       "      <th>0594033896</th>\n",
       "      <th>...</th>\n",
       "      <th>B00000J1DN</th>\n",
       "      <th>B00000J1DT</th>\n",
       "      <th>B00000J1E6</th>\n",
       "      <th>B00000J1EC</th>\n",
       "      <th>B00000J1EJ</th>\n",
       "      <th>B00000J1EP</th>\n",
       "      <th>B00000J1EQ</th>\n",
       "      <th>B00000J1ES</th>\n",
       "      <th>B00000J1EZ</th>\n",
       "      <th>B00000J1F3</th>\n",
       "    </tr>\n",
       "    <tr>\n",
       "      <th>userId</th>\n",
       "      <th></th>\n",
       "      <th></th>\n",
       "      <th></th>\n",
       "      <th></th>\n",
       "      <th></th>\n",
       "      <th></th>\n",
       "      <th></th>\n",
       "      <th></th>\n",
       "      <th></th>\n",
       "      <th></th>\n",
       "      <th></th>\n",
       "      <th></th>\n",
       "      <th></th>\n",
       "      <th></th>\n",
       "      <th></th>\n",
       "      <th></th>\n",
       "      <th></th>\n",
       "      <th></th>\n",
       "      <th></th>\n",
       "      <th></th>\n",
       "      <th></th>\n",
       "    </tr>\n",
       "  </thead>\n",
       "  <tbody>\n",
       "    <tr>\n",
       "      <th>A00766851QZZUBOVF4JFT</th>\n",
       "      <td>0</td>\n",
       "      <td>0</td>\n",
       "      <td>0</td>\n",
       "      <td>0</td>\n",
       "      <td>0</td>\n",
       "      <td>0</td>\n",
       "      <td>0</td>\n",
       "      <td>0</td>\n",
       "      <td>0</td>\n",
       "      <td>0</td>\n",
       "      <td>...</td>\n",
       "      <td>0</td>\n",
       "      <td>0</td>\n",
       "      <td>0</td>\n",
       "      <td>0</td>\n",
       "      <td>0</td>\n",
       "      <td>0</td>\n",
       "      <td>0</td>\n",
       "      <td>0</td>\n",
       "      <td>0</td>\n",
       "      <td>0</td>\n",
       "    </tr>\n",
       "    <tr>\n",
       "      <th>A01255851ZO1U93P8RKGE</th>\n",
       "      <td>0</td>\n",
       "      <td>0</td>\n",
       "      <td>0</td>\n",
       "      <td>0</td>\n",
       "      <td>0</td>\n",
       "      <td>0</td>\n",
       "      <td>0</td>\n",
       "      <td>0</td>\n",
       "      <td>0</td>\n",
       "      <td>0</td>\n",
       "      <td>...</td>\n",
       "      <td>0</td>\n",
       "      <td>0</td>\n",
       "      <td>0</td>\n",
       "      <td>0</td>\n",
       "      <td>0</td>\n",
       "      <td>0</td>\n",
       "      <td>0</td>\n",
       "      <td>0</td>\n",
       "      <td>0</td>\n",
       "      <td>0</td>\n",
       "    </tr>\n",
       "    <tr>\n",
       "      <th>A0293130VTX2ZXA70JQS</th>\n",
       "      <td>0</td>\n",
       "      <td>0</td>\n",
       "      <td>0</td>\n",
       "      <td>0</td>\n",
       "      <td>0</td>\n",
       "      <td>0</td>\n",
       "      <td>0</td>\n",
       "      <td>0</td>\n",
       "      <td>0</td>\n",
       "      <td>0</td>\n",
       "      <td>...</td>\n",
       "      <td>0</td>\n",
       "      <td>0</td>\n",
       "      <td>0</td>\n",
       "      <td>0</td>\n",
       "      <td>0</td>\n",
       "      <td>0</td>\n",
       "      <td>0</td>\n",
       "      <td>0</td>\n",
       "      <td>0</td>\n",
       "      <td>0</td>\n",
       "    </tr>\n",
       "    <tr>\n",
       "      <th>A030530627MK66BD8V4LN</th>\n",
       "      <td>0</td>\n",
       "      <td>0</td>\n",
       "      <td>0</td>\n",
       "      <td>0</td>\n",
       "      <td>0</td>\n",
       "      <td>0</td>\n",
       "      <td>0</td>\n",
       "      <td>0</td>\n",
       "      <td>0</td>\n",
       "      <td>0</td>\n",
       "      <td>...</td>\n",
       "      <td>0</td>\n",
       "      <td>0</td>\n",
       "      <td>0</td>\n",
       "      <td>0</td>\n",
       "      <td>0</td>\n",
       "      <td>0</td>\n",
       "      <td>0</td>\n",
       "      <td>0</td>\n",
       "      <td>0</td>\n",
       "      <td>0</td>\n",
       "    </tr>\n",
       "    <tr>\n",
       "      <th>A0402564TCEO67AUZFJO</th>\n",
       "      <td>0</td>\n",
       "      <td>0</td>\n",
       "      <td>0</td>\n",
       "      <td>0</td>\n",
       "      <td>0</td>\n",
       "      <td>0</td>\n",
       "      <td>0</td>\n",
       "      <td>0</td>\n",
       "      <td>0</td>\n",
       "      <td>0</td>\n",
       "      <td>...</td>\n",
       "      <td>0</td>\n",
       "      <td>0</td>\n",
       "      <td>0</td>\n",
       "      <td>0</td>\n",
       "      <td>0</td>\n",
       "      <td>0</td>\n",
       "      <td>0</td>\n",
       "      <td>0</td>\n",
       "      <td>0</td>\n",
       "      <td>0</td>\n",
       "    </tr>\n",
       "  </tbody>\n",
       "</table>\n",
       "<p>5 rows × 1304 columns</p>\n",
       "</div>"
      ],
      "text/plain": [
       "productId              0321732944  0439886341  0511189877  0528881469  \\\n",
       "userId                                                                  \n",
       "A00766851QZZUBOVF4JFT           0           0           0           0   \n",
       "A01255851ZO1U93P8RKGE           0           0           0           0   \n",
       "A0293130VTX2ZXA70JQS            0           0           0           0   \n",
       "A030530627MK66BD8V4LN           0           0           0           0   \n",
       "A0402564TCEO67AUZFJO            0           0           0           0   \n",
       "\n",
       "productId              0558835155  059400232X  0594012015  0594017343  \\\n",
       "userId                                                                  \n",
       "A00766851QZZUBOVF4JFT           0           0           0           0   \n",
       "A01255851ZO1U93P8RKGE           0           0           0           0   \n",
       "A0293130VTX2ZXA70JQS            0           0           0           0   \n",
       "A030530627MK66BD8V4LN           0           0           0           0   \n",
       "A0402564TCEO67AUZFJO            0           0           0           0   \n",
       "\n",
       "productId              0594017580  0594033896  ...  B00000J1DN  B00000J1DT  \\\n",
       "userId                                         ...                           \n",
       "A00766851QZZUBOVF4JFT           0           0  ...           0           0   \n",
       "A01255851ZO1U93P8RKGE           0           0  ...           0           0   \n",
       "A0293130VTX2ZXA70JQS            0           0  ...           0           0   \n",
       "A030530627MK66BD8V4LN           0           0  ...           0           0   \n",
       "A0402564TCEO67AUZFJO            0           0  ...           0           0   \n",
       "\n",
       "productId              B00000J1E6  B00000J1EC  B00000J1EJ  B00000J1EP  \\\n",
       "userId                                                                  \n",
       "A00766851QZZUBOVF4JFT           0           0           0           0   \n",
       "A01255851ZO1U93P8RKGE           0           0           0           0   \n",
       "A0293130VTX2ZXA70JQS            0           0           0           0   \n",
       "A030530627MK66BD8V4LN           0           0           0           0   \n",
       "A0402564TCEO67AUZFJO            0           0           0           0   \n",
       "\n",
       "productId              B00000J1EQ  B00000J1ES  B00000J1EZ  B00000J1F3  \n",
       "userId                                                                 \n",
       "A00766851QZZUBOVF4JFT           0           0           0           0  \n",
       "A01255851ZO1U93P8RKGE           0           0           0           0  \n",
       "A0293130VTX2ZXA70JQS            0           0           0           0  \n",
       "A030530627MK66BD8V4LN           0           0           0           0  \n",
       "A0402564TCEO67AUZFJO            0           0           0           0  \n",
       "\n",
       "[5 rows x 1304 columns]"
      ]
     },
     "execution_count": 44,
     "metadata": {},
     "output_type": "execute_result"
    }
   ],
   "source": [
    "ratingsmat = ratings1.pivot_table(values='ratings', index='userId', columns='productId', fill_value=0)\n",
    "ratingsmat.head()"
   ]
  },
  {
   "cell_type": "code",
   "execution_count": 45,
   "metadata": {},
   "outputs": [
    {
     "data": {
      "text/plain": [
       "(9826, 1304)"
      ]
     },
     "execution_count": 45,
     "metadata": {},
     "output_type": "execute_result"
    }
   ],
   "source": [
    "#10000 records, when grouped by products & users, we are able to see 9826 distinct users & 1304 products\n",
    "ratingsmat.shape"
   ]
  },
  {
   "cell_type": "code",
   "execution_count": 46,
   "metadata": {},
   "outputs": [
    {
     "data": {
      "text/html": [
       "<div>\n",
       "<style scoped>\n",
       "    .dataframe tbody tr th:only-of-type {\n",
       "        vertical-align: middle;\n",
       "    }\n",
       "\n",
       "    .dataframe tbody tr th {\n",
       "        vertical-align: top;\n",
       "    }\n",
       "\n",
       "    .dataframe thead th {\n",
       "        text-align: right;\n",
       "    }\n",
       "</style>\n",
       "<table border=\"1\" class=\"dataframe\">\n",
       "  <thead>\n",
       "    <tr style=\"text-align: right;\">\n",
       "      <th>userId</th>\n",
       "      <th>A00766851QZZUBOVF4JFT</th>\n",
       "      <th>A01255851ZO1U93P8RKGE</th>\n",
       "      <th>A0293130VTX2ZXA70JQS</th>\n",
       "      <th>A030530627MK66BD8V4LN</th>\n",
       "      <th>A0402564TCEO67AUZFJO</th>\n",
       "      <th>A04256643L1ZMT75HVD2P</th>\n",
       "      <th>A0590501PZ7HOWJKBGQ4</th>\n",
       "      <th>A0641581307AKT5MAOU0Q</th>\n",
       "      <th>A076219533YHEV2LJO988</th>\n",
       "      <th>A07865442XT0VEAVPSGX1</th>\n",
       "      <th>...</th>\n",
       "      <th>AZV9WA9MNT0FB</th>\n",
       "      <th>AZX0ZDVAFMN78</th>\n",
       "      <th>AZX5LAN9JEAFF</th>\n",
       "      <th>AZX7I110AF0W2</th>\n",
       "      <th>AZXFQVG0PS3V1</th>\n",
       "      <th>AZYNQZ94U6VDB</th>\n",
       "      <th>AZYTSU42BZ7TP</th>\n",
       "      <th>AZZ77XYX8O2WE</th>\n",
       "      <th>AZZGUU97OHUF1</th>\n",
       "      <th>AZZMV5VT9W7Y8</th>\n",
       "    </tr>\n",
       "    <tr>\n",
       "      <th>productId</th>\n",
       "      <th></th>\n",
       "      <th></th>\n",
       "      <th></th>\n",
       "      <th></th>\n",
       "      <th></th>\n",
       "      <th></th>\n",
       "      <th></th>\n",
       "      <th></th>\n",
       "      <th></th>\n",
       "      <th></th>\n",
       "      <th></th>\n",
       "      <th></th>\n",
       "      <th></th>\n",
       "      <th></th>\n",
       "      <th></th>\n",
       "      <th></th>\n",
       "      <th></th>\n",
       "      <th></th>\n",
       "      <th></th>\n",
       "      <th></th>\n",
       "      <th></th>\n",
       "    </tr>\n",
       "  </thead>\n",
       "  <tbody>\n",
       "    <tr>\n",
       "      <th>0321732944</th>\n",
       "      <td>0</td>\n",
       "      <td>0</td>\n",
       "      <td>0</td>\n",
       "      <td>0</td>\n",
       "      <td>0</td>\n",
       "      <td>0</td>\n",
       "      <td>0</td>\n",
       "      <td>0</td>\n",
       "      <td>0</td>\n",
       "      <td>0</td>\n",
       "      <td>...</td>\n",
       "      <td>0</td>\n",
       "      <td>0</td>\n",
       "      <td>0</td>\n",
       "      <td>0</td>\n",
       "      <td>0</td>\n",
       "      <td>0</td>\n",
       "      <td>0</td>\n",
       "      <td>0</td>\n",
       "      <td>0</td>\n",
       "      <td>0</td>\n",
       "    </tr>\n",
       "    <tr>\n",
       "      <th>0439886341</th>\n",
       "      <td>0</td>\n",
       "      <td>0</td>\n",
       "      <td>0</td>\n",
       "      <td>0</td>\n",
       "      <td>0</td>\n",
       "      <td>0</td>\n",
       "      <td>0</td>\n",
       "      <td>0</td>\n",
       "      <td>0</td>\n",
       "      <td>0</td>\n",
       "      <td>...</td>\n",
       "      <td>0</td>\n",
       "      <td>0</td>\n",
       "      <td>0</td>\n",
       "      <td>0</td>\n",
       "      <td>0</td>\n",
       "      <td>0</td>\n",
       "      <td>0</td>\n",
       "      <td>0</td>\n",
       "      <td>0</td>\n",
       "      <td>0</td>\n",
       "    </tr>\n",
       "    <tr>\n",
       "      <th>0511189877</th>\n",
       "      <td>0</td>\n",
       "      <td>0</td>\n",
       "      <td>0</td>\n",
       "      <td>0</td>\n",
       "      <td>0</td>\n",
       "      <td>0</td>\n",
       "      <td>0</td>\n",
       "      <td>0</td>\n",
       "      <td>0</td>\n",
       "      <td>0</td>\n",
       "      <td>...</td>\n",
       "      <td>0</td>\n",
       "      <td>0</td>\n",
       "      <td>0</td>\n",
       "      <td>0</td>\n",
       "      <td>0</td>\n",
       "      <td>5</td>\n",
       "      <td>0</td>\n",
       "      <td>0</td>\n",
       "      <td>0</td>\n",
       "      <td>0</td>\n",
       "    </tr>\n",
       "    <tr>\n",
       "      <th>0528881469</th>\n",
       "      <td>0</td>\n",
       "      <td>0</td>\n",
       "      <td>0</td>\n",
       "      <td>0</td>\n",
       "      <td>0</td>\n",
       "      <td>0</td>\n",
       "      <td>0</td>\n",
       "      <td>0</td>\n",
       "      <td>0</td>\n",
       "      <td>0</td>\n",
       "      <td>...</td>\n",
       "      <td>0</td>\n",
       "      <td>0</td>\n",
       "      <td>0</td>\n",
       "      <td>0</td>\n",
       "      <td>0</td>\n",
       "      <td>0</td>\n",
       "      <td>0</td>\n",
       "      <td>0</td>\n",
       "      <td>0</td>\n",
       "      <td>0</td>\n",
       "    </tr>\n",
       "    <tr>\n",
       "      <th>0558835155</th>\n",
       "      <td>0</td>\n",
       "      <td>0</td>\n",
       "      <td>0</td>\n",
       "      <td>0</td>\n",
       "      <td>0</td>\n",
       "      <td>0</td>\n",
       "      <td>0</td>\n",
       "      <td>0</td>\n",
       "      <td>0</td>\n",
       "      <td>0</td>\n",
       "      <td>...</td>\n",
       "      <td>0</td>\n",
       "      <td>0</td>\n",
       "      <td>0</td>\n",
       "      <td>0</td>\n",
       "      <td>0</td>\n",
       "      <td>0</td>\n",
       "      <td>0</td>\n",
       "      <td>0</td>\n",
       "      <td>0</td>\n",
       "      <td>0</td>\n",
       "    </tr>\n",
       "  </tbody>\n",
       "</table>\n",
       "<p>5 rows × 9826 columns</p>\n",
       "</div>"
      ],
      "text/plain": [
       "userId      A00766851QZZUBOVF4JFT  A01255851ZO1U93P8RKGE  \\\n",
       "productId                                                  \n",
       "0321732944                      0                      0   \n",
       "0439886341                      0                      0   \n",
       "0511189877                      0                      0   \n",
       "0528881469                      0                      0   \n",
       "0558835155                      0                      0   \n",
       "\n",
       "userId      A0293130VTX2ZXA70JQS  A030530627MK66BD8V4LN  A0402564TCEO67AUZFJO  \\\n",
       "productId                                                                       \n",
       "0321732944                     0                      0                     0   \n",
       "0439886341                     0                      0                     0   \n",
       "0511189877                     0                      0                     0   \n",
       "0528881469                     0                      0                     0   \n",
       "0558835155                     0                      0                     0   \n",
       "\n",
       "userId      A04256643L1ZMT75HVD2P  A0590501PZ7HOWJKBGQ4  \\\n",
       "productId                                                 \n",
       "0321732944                      0                     0   \n",
       "0439886341                      0                     0   \n",
       "0511189877                      0                     0   \n",
       "0528881469                      0                     0   \n",
       "0558835155                      0                     0   \n",
       "\n",
       "userId      A0641581307AKT5MAOU0Q  A076219533YHEV2LJO988  \\\n",
       "productId                                                  \n",
       "0321732944                      0                      0   \n",
       "0439886341                      0                      0   \n",
       "0511189877                      0                      0   \n",
       "0528881469                      0                      0   \n",
       "0558835155                      0                      0   \n",
       "\n",
       "userId      A07865442XT0VEAVPSGX1  ...  AZV9WA9MNT0FB  AZX0ZDVAFMN78  \\\n",
       "productId                          ...                                 \n",
       "0321732944                      0  ...              0              0   \n",
       "0439886341                      0  ...              0              0   \n",
       "0511189877                      0  ...              0              0   \n",
       "0528881469                      0  ...              0              0   \n",
       "0558835155                      0  ...              0              0   \n",
       "\n",
       "userId      AZX5LAN9JEAFF  AZX7I110AF0W2  AZXFQVG0PS3V1  AZYNQZ94U6VDB  \\\n",
       "productId                                                                \n",
       "0321732944              0              0              0              0   \n",
       "0439886341              0              0              0              0   \n",
       "0511189877              0              0              0              5   \n",
       "0528881469              0              0              0              0   \n",
       "0558835155              0              0              0              0   \n",
       "\n",
       "userId      AZYTSU42BZ7TP  AZZ77XYX8O2WE  AZZGUU97OHUF1  AZZMV5VT9W7Y8  \n",
       "productId                                                               \n",
       "0321732944              0              0              0              0  \n",
       "0439886341              0              0              0              0  \n",
       "0511189877              0              0              0              0  \n",
       "0528881469              0              0              0              0  \n",
       "0558835155              0              0              0              0  \n",
       "\n",
       "[5 rows x 9826 columns]"
      ]
     },
     "execution_count": 46,
     "metadata": {},
     "output_type": "execute_result"
    }
   ],
   "source": [
    "SVDmat=ratingsmat.T\n",
    "SVDmat.head()"
   ]
  },
  {
   "cell_type": "code",
   "execution_count": 47,
   "metadata": {},
   "outputs": [
    {
     "data": {
      "text/plain": [
       "(1304, 9826)"
      ]
     },
     "execution_count": 47,
     "metadata": {},
     "output_type": "execute_result"
    }
   ],
   "source": [
    "SVDmat.shape"
   ]
  },
  {
   "cell_type": "code",
   "execution_count": 48,
   "metadata": {},
   "outputs": [
    {
     "data": {
      "text/plain": [
       "(1304, 10)"
      ]
     },
     "execution_count": 48,
     "metadata": {},
     "output_type": "execute_result"
    }
   ],
   "source": [
    " # Fitting the algorithm / decomposing the matrix based on n users\n",
    "SVD = TruncatedSVD(n_components=10)\n",
    "SVDout = SVD.fit_transform(SVDmat)\n",
    "SVDout.shape"
   ]
  },
  {
   "cell_type": "code",
   "execution_count": 49,
   "metadata": {},
   "outputs": [
    {
     "data": {
      "text/plain": [
       "(1304, 1304)"
      ]
     },
     "execution_count": 49,
     "metadata": {},
     "output_type": "execute_result"
    }
   ],
   "source": [
    "# Finding the correlation between all the products with the item purchased by this customer ...\n",
    "# (contd...) based on items rated by other customers people who bought the same product\n",
    "correlmat = np.corrcoef(SVDout)\n",
    "correlmat.shape"
   ]
  },
  {
   "cell_type": "code",
   "execution_count": 50,
   "metadata": {},
   "outputs": [
    {
     "data": {
      "text/plain": [
       "'1616855711'"
      ]
     },
     "execution_count": 50,
     "metadata": {},
     "output_type": "execute_result"
    }
   ],
   "source": [
    "# Let us consider a random index & try to find out the Top 5 products that are closely related to to chosen product\n",
    "SVDmat.index[100]"
   ]
  },
  {
   "cell_type": "code",
   "execution_count": 51,
   "metadata": {},
   "outputs": [
    {
     "data": {
      "text/plain": [
       "100"
      ]
     },
     "execution_count": 51,
     "metadata": {},
     "output_type": "execute_result"
    }
   ],
   "source": [
    "x = \"1616855711\"\n",
    "product_names = list(SVDmat.index)\n",
    "product_ID = product_names.index(x)\n",
    "product_ID"
   ]
  },
  {
   "cell_type": "code",
   "execution_count": 52,
   "metadata": {},
   "outputs": [
    {
     "data": {
      "text/plain": [
       "['0594451647', '089933623X', '0977703037', '1094441252']"
      ]
     },
     "execution_count": 52,
     "metadata": {},
     "output_type": "execute_result"
    }
   ],
   "source": [
    "#Choosing the products for which correlation coefficient is more than 0.90\n",
    "correlation_product_ID = correlmat[product_ID]\n",
    "Recommend = list(SVDmat.index[correlation_product_ID > 0.90])\n",
    "Recommend.remove(x) \n",
    "Recommend[0:4]"
   ]
  },
  {
   "cell_type": "markdown",
   "metadata": {},
   "source": [
    "The top 5 products to be displayed by the recommendation system to the above customer based on the purchase history of other customers in the website is identified."
   ]
  },
  {
   "cell_type": "markdown",
   "metadata": {},
   "source": [
    "#### Conclusion"
   ]
  },
  {
   "cell_type": "markdown",
   "metadata": {},
   "source": [
    "Each of the recommendation system have a vital role to play & each of them has demerits too. Where the recommendation system is being used signifies whether the recommendation would be useful or not. For instance, when a new user enters into the system, we need to recommend Popularity based model & so on. When the user has interated with a product, we can recommend collaborative filtering & so on. It can increase the user engagement & thereby helps to make the contents more personalized.It can help the item providers to deliver the items to the right user."
   ]
  }
 ],
 "metadata": {
  "kernelspec": {
   "display_name": "Python 3",
   "language": "python",
   "name": "python3"
  },
  "language_info": {
   "codemirror_mode": {
    "name": "ipython",
    "version": 3
   },
   "file_extension": ".py",
   "mimetype": "text/x-python",
   "name": "python",
   "nbconvert_exporter": "python",
   "pygments_lexer": "ipython3",
   "version": "3.7.6"
  }
 },
 "nbformat": 4,
 "nbformat_minor": 4
}
